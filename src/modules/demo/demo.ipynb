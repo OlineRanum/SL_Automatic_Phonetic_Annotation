{
 "cells": [
  {
   "cell_type": "markdown",
   "metadata": {},
   "source": [
    "# Demo\n",
    "\n",
    "\n",
    "## 0: Set-Up"
   ]
  },
  {
   "cell_type": "markdown",
   "metadata": {},
   "source": [
    "Please run server before notebook:'\n",
    "\n",
    "```\n",
    "cd hamer\n",
    "source .hamer/bin/activate\n",
    "python run_server.py\n",
    "```"
   ]
  },
  {
   "cell_type": "code",
   "execution_count": null,
   "metadata": {},
   "outputs": [],
   "source": [
    "%load_ext autoreload\n",
    "%reload_ext autoreload\n",
    "%autoreload 2\n",
    "\n",
    "\n",
    "import sys\n",
    "sys.path.append('/home/gomer/oline')\n",
    "print(sys.path)\n",
    "import os\n",
    "\n",
    "\n",
    "from PoseTools.data.parsers_and_processors.converters.vid_to_hamer import main_hamer\n",
    "from PoseTools.data.parsers_and_processors.converters.pose_to_pkl import main\n",
    "from PoseTools.src.modules.handedness.utils.graphics import PosePlotter\n",
    "from PoseTools.src.modules.old_segmentation.segmentation import main_activation\n",
    "from PoseTools.src.modules.handedness.utils.eval_1_2_hands import main_handedness\n",
    "from PoseTools.src.modules.orientation.orientation import main_orientation\n",
    "from PoseTools.src.modules.location.location import main_location\n",
    "from PoseTools.src.modules.visualization.visualize import main_visualization\n",
    "\n",
    "from IPython.display import Image, display\n",
    "import os \n",
    "\n",
    "\n",
    "from PoseTools.src.modules.base.base import DataModule\n",
    "from PoseTools.src.modules.activation.activation import main_activation\n",
    "\n",
    "from IPython.display import Image, display\n",
    "\n",
    "input_folder = \"/home/gomer/oline/PoseTools/src/modules/demo/demo_files/sentences\"\n",
    "output_folder = '/home/gomer/oline/PoseTools/src/modules/demo/demo_files/graphics/handshapes'\n"
   ]
  },
  {
   "cell_type": "markdown",
   "metadata": {},
   "source": [
    "## 1: Data Preprocessing\n",
    "\n",
    "### 1.1 Convert Videos to Hamer"
   ]
  },
  {
   "cell_type": "code",
   "execution_count": null,
   "metadata": {},
   "outputs": [],
   "source": [
    "input_folder = \"/home/gomer/oline/PoseTools/src/modules/demo/demo_files/animations\" #\"/home/gomer/oline/PoseTools/src/modules/demo/demo_files/web/\"\n",
    "main_hamer(input_folder)"
   ]
  },
  {
   "cell_type": "markdown",
   "metadata": {},
   "source": [
    "### 1.2: Convert Videos to Pose Format"
   ]
  },
  {
   "cell_type": "code",
   "execution_count": null,
   "metadata": {},
   "outputs": [],
   "source": [
    "\n",
    "\n",
    "#!videos_to_poses --format mediapipe --directory \"/home/gomer/oline/PoseTools/src/modules/demo/demo_files/sentences/video_files\"  #\"/home/gomer/oline/PoseTools/src/modules/demo/demo_files/web/vids/\"\n",
    "\n",
    "#output_folder = \"/home/gomer/oline/PoseTools/src/modules/demo/demo_files/sentences/\" #\"/home/gomer/oline/PoseTools/src/modules/demo/demo_files/web/\"\n",
    "#main(input_folder, output_folder + 'pose_files', delete_pose=False)\n"
   ]
  },
  {
   "cell_type": "code",
   "execution_count": null,
   "metadata": {},
   "outputs": [],
   "source": [
    "\n",
    "#pose, conf = PosePlotter('/home/gomer/oline/PoseTools/src/modules/demo/demo_files/sentences/pose_files/M20241107_6254.pose').load_pose()\n",
    "#PosePlotter().create_gif(pose, gif_path = '/home/gomer/oline/PoseTools/src/modules/demo/demo_files/graphics/pose.gif')"
   ]
  },
  {
   "cell_type": "markdown",
   "metadata": {},
   "source": [
    "# Load data file"
   ]
  },
  {
   "cell_type": "code",
   "execution_count": null,
   "metadata": {},
   "outputs": [],
   "source": [
    "%matplotlib inline\n",
    "\n",
    "base_filename = \"M20240828_0037\"\n",
    "base_filename = \"M20240828_0046\"\n",
    "base_filename = \"M20240828_0064\"\n",
    "base_filename = \"M20241106_6115\"\n",
    "#base_filename = \"M20241106_6111\"\n",
    "#base_filename = \"M20241106_6113\"\n",
    "#base_filename = \"M20241107_6254\"\n",
    "#base_filename = \"M20240925_1836\"\n",
    "#base_filename = \"M20240925_1819\"\n",
    "#base_filename = \"M20240925_1822\"\n",
    "\n",
    "data = DataModule(base_filename)\n",
    "\n",
    "gif_path = '/home/gomer/oline/PoseTools/src/modules/demo/demo_files/graphics/gifs/'+base_filename+'.gif'\n"
   ]
  },
  {
   "cell_type": "markdown",
   "metadata": {},
   "source": [
    "# Sign Activity \n",
    "\n",
    "\n",
    "This function returns a __Sign Activity Array__ of dimension (2, 1). The first component is the left hand, and the second is the right hand. The arrays contains a boolean mask indecating when a hand is active in signing and when it is resting. "
   ]
  },
  {
   "cell_type": "code",
   "execution_count": null,
   "metadata": {},
   "outputs": [],
   "source": [
    "boolean_activity_arrays, sign_activity_arrays, start, stop = main_activation(data, n_components = 2)\n"
   ]
  },
  {
   "cell_type": "code",
   "execution_count": null,
   "metadata": {},
   "outputs": [],
   "source": [
    "\n",
    "boolean_activity_arrays, sign_activity_arrays = data.select_data(start, stop, skip = 3, boolean_activity_arrays = boolean_activity_arrays, sign_activity_arrays = sign_activity_arrays) \n"
   ]
  },
  {
   "cell_type": "markdown",
   "metadata": {},
   "source": [
    "## 2.0 Module 1 - Evaluate Handedness\n",
    "\n",
    "This works if we only consider uncropped lexical video where the starting position is static \n",
    "Or it appears to work if there is only one hand in the video \n",
    "It might also work if the one hand starts a lot higher than the other\n",
    "\n"
   ]
  },
  {
   "cell_type": "code",
   "execution_count": null,
   "metadata": {},
   "outputs": [],
   "source": [
    "# TODO - setup for loading data with new base class\n",
    "handedness = main_handedness(boolean_activity_arrays)\n"
   ]
  },
  {
   "cell_type": "markdown",
   "metadata": {},
   "source": [
    "## 2.1 Module 2 - Determine Handshape "
   ]
  },
  {
   "cell_type": "code",
   "execution_count": null,
   "metadata": {},
   "outputs": [],
   "source": [
    "from PoseTools.src.modules.handshapes.engines.ed_algorithm.handshape import main_handshape\n",
    "\n",
    "handshape_predictions= main_handshape(data, input_folder + '/hamer_pkl', output_folder, boolean_arrays=boolean_activity_arrays, base_filename='normalized_' +base_filename)"
   ]
  },
  {
   "cell_type": "markdown",
   "metadata": {},
   "source": [
    "## 2.3 Module 3 - Location"
   ]
  },
  {
   "cell_type": "code",
   "execution_count": null,
   "metadata": {},
   "outputs": [],
   "source": [
    "locations = main_location(data, print_results = False)\n"
   ]
  },
  {
   "cell_type": "markdown",
   "metadata": {},
   "source": [
    "## 2.4 Module 4 - Orientation"
   ]
  },
  {
   "cell_type": "code",
   "execution_count": null,
   "metadata": {},
   "outputs": [],
   "source": [
    "orientations = main_orientation(data, print_results=False)\n"
   ]
  },
  {
   "cell_type": "markdown",
   "metadata": {},
   "source": [
    "# Main Plotting"
   ]
  },
  {
   "cell_type": "code",
   "execution_count": null,
   "metadata": {},
   "outputs": [],
   "source": [
    "\n",
    "main_visualization(data, save_anim_path=gif_path, \n",
    "                   sign_activity_arrays=sign_activity_arrays, \n",
    "                   boolean_activity_arrays = boolean_activity_arrays,\n",
    "                   handshapes = handshape_predictions, \n",
    "                   handedness = handedness, \n",
    "                   orientations = orientations, \n",
    "                   locations = locations)\n",
    "\n",
    "from IPython.display import Image, display\n",
    "\n",
    "# Display the GIF\\\n",
    "display(Image(filename=gif_path))\n"
   ]
  },
  {
   "cell_type": "markdown",
   "metadata": {},
   "source": [
    "# Evaluate multiple files"
   ]
  },
  {
   "cell_type": "code",
   "execution_count": null,
   "metadata": {},
   "outputs": [],
   "source": [
    "#base_filenames = ['M20240925_1819','M20240828_0064','M20240828_0046','M20240828_0037', \"M20241106_6111\", \"M20241106_6113\", \"M20241106_6115\", \"M20241106_6118\",\"M20241107_6254\"]\n",
    "base_filenames = [filename[:-4] for filename in os.listdir(input_folder + '/video_files') if filename.endswith('.mp4')]\n",
    "print(base_filenames)   \n",
    "%matplotlib inline\n",
    "#base_filenames = ['M20241113_6960','M20241107_6272', \"M20241107_6271\"]\n",
    "for base_filename in base_filenames:\n",
    "    print('Processing video ', base_filename)\n",
    "    data = DataModule(base_filename)\n",
    "\n",
    "    gif_path = '/home/gomer/oline/PoseTools/src/modules/demo/demo_files/graphics/gifs/'+base_filename+'.gif'\n",
    "    boolean_activity_arrays, sign_activity_arrays, start, stop = main_activation(data, n_components = 2)\n",
    "    print(len(boolean_activity_arrays[0]), len(boolean_activity_arrays[1]))\n",
    "    import numpy as np\n",
    "    boolean_activity_arrays = [np.ones(len(boolean_activity_arrays[0])), np.ones(len(boolean_activity_arrays[1]))]\n",
    "    \n",
    "    boolean_activity_arrays, sign_activity_arrays = data.select_data(start, stop, skip = 5, boolean_activity_arrays = boolean_activity_arrays, sign_activity_arrays = sign_activity_arrays) \n",
    "    print(len(boolean_activity_arrays[0]), len(boolean_activity_arrays[1]))\n",
    "    # TODO - setup for loading data with new base class\n",
    "    handedness = main_handedness(boolean_activity_arrays)\n",
    "    from PoseTools.src.modules.handshapes.engines.ed_algorithm.handshape import main_handshape\n",
    "\n",
    "    handshape_predictions= main_handshape(data, input_folder + '/hamer_pkl', output_folder, boolean_arrays=boolean_activity_arrays, base_filename='normalized_' +base_filename)\n",
    "    print(handshape_predictions)\n",
    "    locations = main_location(data, print_results = False)\n",
    "    orientations = main_orientation(data, print_results=False)\n",
    "    '''\n",
    "    main_visualization(data, save_anim_path=gif_path, \n",
    "                       boolean_activity_arrays=boolean_activity_arrays,\n",
    "                    sign_activity_arrays=sign_activity_arrays, \n",
    "                    handshapes = handshape_predictions, \n",
    "                    handedness = handedness, \n",
    "                    orientations = orientations, \n",
    "                    locations = locations)\n",
    "\n",
    "    from IPython.display import Image, display\n",
    "    '''\n",
    "    # Display the GIF\\\n",
    "    #display(Image(filename=gif_path))\n"
   ]
  },
  {
   "cell_type": "code",
   "execution_count": null,
   "metadata": {},
   "outputs": [],
   "source": [
    "#base_filenames = ['M20240925_1819','M20240828_0064','M20240828_0046','M20240828_0037', \"M20241106_6111\", \"M20241106_6113\", \"M20241106_6115\", \"M20241106_6118\",\"M20241107_6254\"]\n",
    "base_filenames = [filename[:-4] for filename in os.listdir(input_folder + '/video_files') if filename.endswith('.mp4')]\n",
    "print(base_filenames)   \n",
    "%matplotlib inline\n",
    "angles_dict = {}\n",
    "normals_dict = {}\n",
    "#base_filenames = ['M20241113_6960','M20241107_6272', \"M20241107_6271\"]\n",
    "for base_filename in base_filenames[1:]:\n",
    "    print('Processing video ', base_filename)\n",
    "    data = DataModule(base_filename)\n",
    "\n",
    "    gif_path = '/home/gomer/oline/PoseTools/src/modules/demo/demo_files/graphics/gifs/'+base_filename+'.gif'\n",
    "    boolean_activity_arrays, sign_activity_arrays, start, stop = main_activation(data, n_components = 2)\n",
    "    print(len(boolean_activity_arrays[0]), len(boolean_activity_arrays[1]))\n",
    "    \n",
    "    boolean_activity_arrays, sign_activity_arrays = data.select_data(start, stop, skip = 3, boolean_activity_arrays = boolean_activity_arrays, sign_activity_arrays = sign_activity_arrays) \n",
    "    print(len(boolean_activity_arrays[0]), len(boolean_activity_arrays[1]))\n",
    "    # TODO - setup for loading data with new base class\n",
    "    #handedness = main_handedness(boolean_activity_arrays)\n",
    "    #from PoseTools.src.modules.handshapes.engines.ed_algorithm.handshape import main_handshape\n",
    "\n",
    "    #handshape_predictions= main_handshape(data, input_folder + '/hamer_pkl', output_folder, boolean_arrays=boolean_activity_arrays, base_filename='normalized_' +base_filename)\n",
    "    #locations = main_location(data, print_results = False)\n",
    "    orientations, angles, normals = main_orientation(data, print_results=False, return_angles=True)\n",
    "    angles_dict[base_filename] = angles\n",
    "    normals_dict[base_filename] = normals\n"
   ]
  },
  {
   "cell_type": "code",
   "execution_count": null,
   "metadata": {},
   "outputs": [],
   "source": [
    "theta_dict = {}\n",
    "phi_dict = {}\n",
    "zone_dict = {}\n",
    "for base_filename, angles in angles_dict.items():\n",
    "    theta = []\n",
    "    phi = []\n",
    "    zone = []\n",
    "    for entry in angles[0]:\n",
    "        theta.append(entry['theta'])\n",
    "        phi.append(entry['phi'])\n",
    "        zone.append(entry['zone'])\n",
    "    theta_dict[base_filename] = theta\n",
    "    phi_dict[base_filename] = phi\n",
    "    zone_dict[base_filename] = zone\n",
    "    "
   ]
  },
  {
   "cell_type": "code",
   "execution_count": null,
   "metadata": {},
   "outputs": [],
   "source": [
    "fig, axes = plt.subplots(3, 1, figsize=(12, 8), sharex=True)\n",
    "\n",
    "# Initialize data for plotting\n",
    "colors = ['r', 'g', 'b', 'purple', 'orange', 'brown', 'cyan', 'pink', 'grey']\n",
    "file_count = 0\n",
    "\n",
    "# Loop through the dictionary to plot each file's x, y, z components in separate subplots\n",
    "for filename, vectors in normals_dict.items():\n",
    "    file_count += 1\n",
    "    print(file_count)\n",
    "    if file_count == 3:\n",
    "        vectors = np.array(vectors[0])  # Convert list of lists into a numpy array\n",
    "        zones = zone_dict[filename]  # Get corresponding zone labels\n",
    "        print(zones)\n",
    "        \n",
    "        # Scatter plot x components in the first subplot\n",
    "        print(len(np.arange(len(vectors[:, 0]))), len(vectors[:, 0]))\n",
    "        axes[0].scatter(np.arange(len(vectors[:, 0])), vectors[:, 0], label=f'{filename} - X', color=colors[file_count % len(colors)])\n",
    "        for i, (x, label) in enumerate(zip(vectors[:, 0], zones)):\n",
    "            axes[0].text(i, x, label, fontsize=8, rotation=90, ha='center', alpha=0.7)\n",
    "        \n",
    "        # Scatter plot y components in the second subplot\n",
    "        axes[1].scatter(np.arange(len(vectors[:, 0])), vectors[:, 1], label=f'{filename} - Y', color=colors[file_count % len(colors)])\n",
    "        for i, (y, label) in enumerate(zip(vectors[:, 1], zones)):\n",
    "            axes[1].text(i, y, label, fontsize=8, rotation=90, ha='center', alpha=0.7)\n",
    "        \n",
    "        # Scatter plot z components in the third subplot\n",
    "        axes[2].scatter(np.arange(len(vectors[:, 0])), vectors[:, 2], label=f'{filename} - Z', color=colors[file_count % len(colors)])\n",
    "        for i, (z, label) in enumerate(zip(vectors[:, 2], zones)):\n",
    "            axes[2].text(i, z, label, fontsize=8, rotation=90, ha='center', alpha=0.7)\n",
    "        \n",
    "        \n",
    "    else:\n",
    "        continue\n",
    "\n",
    "    \n",
    "# Set titles and labels\n",
    "axes[0].set_title('X Dimension')\n",
    "axes[0].set_ylabel('X Value')\n",
    "axes[1].set_title('Y Dimension')\n",
    "axes[1].set_ylabel('Y Value')\n",
    "axes[2].set_title('Z Dimension')\n",
    "axes[2].set_xlabel('Index')\n",
    "axes[2].set_ylabel('Z Value')\n",
    "\n",
    "# Add legends\n",
    "axes[0].legend()\n",
    "\n",
    "\n",
    "# Adjust layout to prevent overlap\n",
    "plt.tight_layout()\n",
    "plt.show()"
   ]
  },
  {
   "cell_type": "code",
   "execution_count": null,
   "metadata": {},
   "outputs": [],
   "source": [
    "# Create subplots with two rows and one column\n",
    "fig, axes = plt.subplots(2, 1, figsize=(14, 8), sharex=True)\n",
    "\n",
    "count = 0\n",
    "# Plot theta_dict in the first subplot\n",
    "for key, item in theta_dict.items():\n",
    "    if count < 5:\n",
    "        idx = np.arange(len(item))\n",
    "        scatter = axes[0].scatter(idx, item, label=key)\n",
    "        \n",
    "        # Add small labels using zone_dict\n",
    "        for i, (x, y) in enumerate(zip(idx, item)):\n",
    "            axes[0].text(x, y, zone_dict[key][i], fontsize=8, alpha=0.7, rotation = 90)\n",
    "    count += 1\n",
    "\n",
    "axes[0].set_title('Theta Dictionary')\n",
    "axes[0].legend()\n",
    "axes[0].set_ylabel('Values')\n",
    "\n",
    "count = 0\n",
    "# Plot phi_dict in the second subplot\n",
    "for key, item in phi_dict.items():\n",
    "    if count < 5:\n",
    "        idx = np.arange(len(item))\n",
    "        item = np.array(item) \n",
    "        vals = []\n",
    "        for i in item:\n",
    "            if i > 180:\n",
    "                vals.append(i - 360)\n",
    "            else:\n",
    "                vals.append(i)\n",
    "        scatter = axes[1].scatter(idx, vals, label=key)\n",
    "        \n",
    "        # Add small labels using zone_dict\n",
    "        for i, (x, y) in enumerate(zip(idx, vals)):\n",
    "            axes[1].text(x, y, zone_dict[key][i], fontsize=8, alpha=0.7, rotation = 90)\n",
    "    count += 1\n",
    "\n",
    "axes[1].set_title('Phi Dictionary')\n",
    "axes[1].legend()\n",
    "axes[1].set_xlabel('Index')\n",
    "axes[1].set_ylabel('Values')\n",
    "\n",
    "# Adjust layout to prevent overlap\n",
    "plt.tight_layout()\n",
    "plt.show()\n"
   ]
  },
  {
   "cell_type": "code",
   "execution_count": null,
   "metadata": {},
   "outputs": [],
   "source": [
    "# Create subplots with two rows and one column\n",
    "fig, axes = plt.subplots(3, 1, figsize=(14, 8), sharex=True)\n",
    "\n",
    "count = 0\n",
    "# Plot theta_dict in the first subplot\n",
    "for key, item in theta_dict.items():\n",
    "    if count < 5:\n",
    "        idx = np.arange(len(item))\n",
    "        scatter = axes[0].scatter(idx, item, label=key)\n",
    "        \n",
    "        # Add small labels using zone_dict\n",
    "        for i, (x, y) in enumerate(zip(idx, item)):\n",
    "            axes[0].text(x, y, zone_dict[key][i], fontsize=8, alpha=0.7, rotation = 90)\n",
    "    count += 1\n",
    "\n",
    "axes[0].set_title('Theta Dictionary')\n",
    "axes[0].legend()\n",
    "axes[0].set_ylabel('Values')\n",
    "\n",
    "count = 0\n",
    "# Plot phi_dict in the second subplot\n",
    "for key, item in phi_dict.items():\n",
    "    if count < 5:\n",
    "        idx = np.arange(len(item))\n",
    "        item = np.array(item) \n",
    "        vals = []\n",
    "        for i in item:\n",
    "            if i > 180:\n",
    "                vals.append(i - 360)\n",
    "            else:\n",
    "                vals.append(i)\n",
    "        scatter = axes[1].scatter(idx, vals, label=key)\n",
    "        \n",
    "        # Add small labels using zone_dict\n",
    "        for i, (x, y) in enumerate(zip(idx, vals)):\n",
    "            axes[1].text(x, y, zone_dict[key][i], fontsize=8, alpha=0.7, rotation = 90)\n",
    "    count += 1\n",
    "\n",
    "axes[1].set_title('Phi Dictionary')\n",
    "axes[1].legend()\n",
    "axes[1].set_xlabel('Index')\n",
    "axes[1].set_ylabel('Values')\n",
    "\n",
    "# Adjust layout to prevent overlap\n",
    "plt.tight_layout()\n",
    "plt.show()\n"
   ]
  },
  {
   "cell_type": "code",
   "execution_count": null,
   "metadata": {},
   "outputs": [],
   "source": []
  },
  {
   "cell_type": "code",
   "execution_count": null,
   "metadata": {},
   "outputs": [],
   "source": []
  },
  {
   "cell_type": "code",
   "execution_count": null,
   "metadata": {},
   "outputs": [],
   "source": []
  },
  {
   "cell_type": "code",
   "execution_count": null,
   "metadata": {},
   "outputs": [],
   "source": []
  },
  {
   "cell_type": "code",
   "execution_count": null,
   "metadata": {},
   "outputs": [],
   "source": []
  },
  {
   "cell_type": "code",
   "execution_count": null,
   "metadata": {},
   "outputs": [],
   "source": []
  },
  {
   "cell_type": "code",
   "execution_count": null,
   "metadata": {},
   "outputs": [],
   "source": []
  }
 ],
 "metadata": {
  "kernelspec": {
   "display_name": "openhands",
   "language": "python",
   "name": "python3"
  },
  "language_info": {
   "codemirror_mode": {
    "name": "ipython",
    "version": 3
   },
   "file_extension": ".py",
   "mimetype": "text/x-python",
   "name": "python",
   "nbconvert_exporter": "python",
   "pygments_lexer": "ipython3",
   "version": "3.11.5"
  }
 },
 "nbformat": 4,
 "nbformat_minor": 2
}
