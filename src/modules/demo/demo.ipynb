{
 "cells": [
  {
   "cell_type": "markdown",
   "metadata": {},
   "source": [
    "# Demo\n",
    "\n",
    "\n",
    "## 0: Set-Up"
   ]
  },
  {
   "cell_type": "markdown",
   "metadata": {},
   "source": [
    "Please run server before notebook:'\n",
    "\n",
    "```\n",
    "source .hamer/bin/activate\n",
    "/home/gomer/hamer/run_server.py\n",
    "```"
   ]
  },
  {
   "cell_type": "code",
   "execution_count": 8,
   "metadata": {},
   "outputs": [
    {
     "name": "stdout",
     "output_type": "stream",
     "text": [
      "The autoreload extension is already loaded. To reload it, use:\n",
      "  %reload_ext autoreload\n",
      "['/home/gomer/miniconda3/envs/openhands/lib/python311.zip', '/home/gomer/miniconda3/envs/openhands/lib/python3.11', '/home/gomer/miniconda3/envs/openhands/lib/python3.11/lib-dynload', '', '/home/gomer/miniconda3/envs/openhands/lib/python3.11/site-packages', '/home/gomer/oline', '/home/gomer/oline']\n"
     ]
    }
   ],
   "source": [
    "%load_ext autoreload\n",
    "%autoreload 2\n",
    "\n",
    "\n",
    "import sys\n",
    "sys.path.append('/home/gomer/oline')\n",
    "print(sys.path)"
   ]
  },
  {
   "cell_type": "markdown",
   "metadata": {},
   "source": [
    "## 1: Data Preprocessing\n",
    "\n",
    "### 1.1 Convert Videos to Hamer"
   ]
  },
  {
   "cell_type": "code",
   "execution_count": 21,
   "metadata": {},
   "outputs": [
    {
     "name": "stdout",
     "output_type": "stream",
     "text": [
      "Skipping trans_rot_T_B_1_C_S.mp4 - already processed.\n",
      "Skipping trans_T_B_1_C_S.mp4 - already processed.\n",
      "Errors encountered: 0\n",
      "No dictionary file\n",
      "/home/gomer/oline/PoseTools/src/modules/demo/demo_files/web//hamer_files\n"
     ]
    },
    {
     "name": "stderr",
     "output_type": "stream",
     "text": [
      "Converting files: 100%|██████████| 4/4 [00:00<00:00, 55.61it/s]"
     ]
    },
    {
     "name": "stdout",
     "output_type": "stream",
     "text": [
      "normalized_trans_rot_T_B_1_C_S.hamer\n",
      "L\n",
      "L (315, 3)\n",
      "File Corrupted  normalized_trans_rot_T_B_1_C_S.hamer\n",
      "-------------\n",
      "normalized_trans_rot_T_B_1_C_S\n",
      "Filepath removed /home/gomer/oline/PoseTools/src/modules/demo/demo_files/web//hamer_files/normalized_trans_rot_T_B_1_C_S.hamer\n",
      "trans_T_B_1_C_S.hamer\n",
      "L (202, 0)\n",
      "File Corrupted  trans_T_B_1_C_S.hamer\n",
      "-------------\n",
      "trans_T_B_1_C_S\n",
      "Filepath removed /home/gomer/oline/PoseTools/src/modules/demo/demo_files/web//hamer_files/trans_T_B_1_C_S.hamer\n",
      "trans_rot_T_B_1_C_S.hamer\n",
      "L\n",
      "-------------\n",
      "trans_rot_T_B_1_C_S\n",
      "R\n",
      "-------------\n",
      "trans_rot_T_B_1_C_S\n",
      "Filepath removed /home/gomer/oline/PoseTools/src/modules/demo/demo_files/web//hamer_files/trans_rot_T_B_1_C_S.hamer\n",
      "normalized_trans_T_B_1_C_S.hamer\n",
      "File Corrupted  normalized_trans_T_B_1_C_S.hamer\n",
      "-------------\n",
      "normalized_trans_T_B_1_C_S\n",
      "Filepath removed /home/gomer/oline/PoseTools/src/modules/demo/demo_files/web//hamer_files/normalized_trans_T_B_1_C_S.hamer\n"
     ]
    },
    {
     "name": "stderr",
     "output_type": "stream",
     "text": [
      "\n"
     ]
    }
   ],
   "source": [
    "from PoseTools.data.parsers_and_processors.converters.vid_to_hamer import main\n",
    "\n",
    "\n",
    "input_folder = \"/home/gomer/oline/PoseTools/src/modules/demo/demo_files/web/\"\n",
    "\n",
    "main(input_folder, crop = True)"
   ]
  },
  {
   "cell_type": "markdown",
   "metadata": {},
   "source": [
    "### 1.2: Convert Videos to Pose Format"
   ]
  },
  {
   "cell_type": "code",
   "execution_count": 7,
   "metadata": {},
   "outputs": [],
   "source": [
    "from PoseTools.data.parsers_and_processors.converters.pose_to_pkl import main\n",
    "\n",
    "#!videos_to_poses --format mediapipe --directory \"/home/gomer/oline/PoseTools/src/modules/demo/demo_files/web/vids/\"\n",
    "\n",
    "#main(input_folder, output_folder + 'pose_files', delete_pose=False)\n"
   ]
  },
  {
   "cell_type": "markdown",
   "metadata": {},
   "source": [
    "## 2.0 Module 1 - Evaluate Handedness\n",
    "\n",
    "This works if we only consider uncropped lexical video where the starting position is static \n",
    "Or it appears to work if there is only one hand in the video \n",
    "It might also work if the one hand starts a lot higher than the other\n",
    "\n"
   ]
  },
  {
   "cell_type": "code",
   "execution_count": 22,
   "metadata": {},
   "outputs": [
    {
     "name": "stderr",
     "output_type": "stream",
     "text": [
      "Processing Pose Files:   0%|          | 0/2 [00:00<?, ?it/s]"
     ]
    },
    {
     "name": "stderr",
     "output_type": "stream",
     "text": [
      "Processing Pose Files: 100%|██████████| 2/2 [00:00<00:00,  6.18it/s]\n"
     ]
    },
    {
     "data": {
      "text/plain": [
       "{'trans_rot_T_B_1_C_S': ['R', 100.0], 'trans_T_B_1_C_S': ['R', 100.0]}"
      ]
     },
     "execution_count": 22,
     "metadata": {},
     "output_type": "execute_result"
    }
   ],
   "source": [
    "from PoseTools.src.modules.handedness.utils.eval_1_2_hands import main_handedness\n",
    "\n",
    "handedness_dict = main_handedness(input_folder + '/pose_files')\n",
    "handedness_dict"
   ]
  },
  {
   "cell_type": "markdown",
   "metadata": {},
   "source": [
    "## 2.1 Module 2 - Determine Handshape "
   ]
  },
  {
   "cell_type": "code",
   "execution_count": null,
   "metadata": {},
   "outputs": [
    {
     "name": "stdout",
     "output_type": "stream",
     "text": [
      "Reference poses loaded: ['Q', 'C_spread', 'M', 'P', 'A', 'I', 'Beak_open_spread', 'Y', '1', 'N', '5r', 'C2_spread', 'Baby_C', '5m_closed', 'ILY', 'C', 'Beak', 'O', '5m', 'K', 'V_curved', 'Beak_spread', 'B', 'D', 'Baby_beak_open', 'Money', 'Baby_beak', '5', 'L2', 'L', 'R', '3', 'T', '5r_closed', '4', 'Beak_open', 'V', 'Baby_O', '1_curved', 'Beak2_open_spread', 'Horns', 'W', 'S', 'E', 'Flower']\n",
      "Number of reference poses: 45\n",
      "File not found: /home/gomer/oline/PoseTools/src/modules/demo/demo_files/web/hamer_files/trans_T_B_1_C_S_hamer-L.pkl\n",
      "File not found: /home/gomer/oline/PoseTools/src/modules/demo/demo_files/web/hamer_files/version3_a_s_n_y_beak-R.pkl\n",
      "File not found: /home/gomer/oline/PoseTools/src/modules/demo/demo_files/web/hamer_files/version3_side_a_s_n_y_beak-R.pkl\n"
     ]
    }
   ],
   "source": [
    "from PoseTools.src.modules.handshapes.engines.ed_algorithm.inference_dir import main_handshape\n",
    "\n",
    "output_folder = '/home/gomer/oline/PoseTools/src/modules/demo/demo_files/graphics/handshapes'\n",
    "main_handshape(input_folder + '/hamer_pkl', output_folder, ground_truth_labels = None)"
   ]
  },
  {
   "cell_type": "code",
   "execution_count": null,
   "metadata": {},
   "outputs": [],
   "source": []
  }
 ],
 "metadata": {
  "kernelspec": {
   "display_name": "openhands",
   "language": "python",
   "name": "python3"
  },
  "language_info": {
   "codemirror_mode": {
    "name": "ipython",
    "version": 3
   },
   "file_extension": ".py",
   "mimetype": "text/x-python",
   "name": "python",
   "nbconvert_exporter": "python",
   "pygments_lexer": "ipython3",
   "version": "3.11.5"
  }
 },
 "nbformat": 4,
 "nbformat_minor": 2
}
