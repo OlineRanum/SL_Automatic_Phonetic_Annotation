{
 "cells": [
  {
   "cell_type": "code",
   "execution_count": 1,
   "metadata": {},
   "outputs": [
    {
     "name": "stdout",
     "output_type": "stream",
     "text": [
      "['/home/gomer/miniconda3/envs/openhands/lib/python311.zip', '/home/gomer/miniconda3/envs/openhands/lib/python3.11', '/home/gomer/miniconda3/envs/openhands/lib/python3.11/lib-dynload', '', '/home/gomer/miniconda3/envs/openhands/lib/python3.11/site-packages', '/home/gomer/oline']\n"
     ]
    }
   ],
   "source": [
    "%load_ext autoreload\n",
    "%autoreload 2\n",
    "\n",
    "import sys\n",
    "sys.path.append('/home/gomer/oline')\n",
    "print(sys.path)"
   ]
  },
  {
   "cell_type": "code",
   "execution_count": 2,
   "metadata": {},
   "outputs": [
    {
     "name": "stdout",
     "output_type": "stream",
     "text": [
      "Total number of datapoints: 6892\n",
      "Number of datapoints with location: 5738\n",
      "Number of unique locations: 104\n",
      "Set of unique locations: ['Neutral space' 'Weak hand: palm' 'Chest' 'Head' 'R-loc'\n",
      " 'Horizontal plane' 'Variable' 'Arm' 'Parallel plane' 'Shoulder' 'Eye'\n",
      " 'Neck' 'Trunk' 'Weak hand: thumb' 'Weak hand' 'Mouth' 'Forehead'\n",
      " 'Chest contra' 'Belly' 'Upper lip' 'Chin' 'Weak hand: back'\n",
      " 'Weak hand: thumb side' 'R-loc > R-loc' 'Face' 'Weak hand: finger tips'\n",
      " 'Virtual object' 'Chin > weak hand: thumb side' 'Chin > chest' 'Cheek'\n",
      " 'Nose' 'Ear' 'Flank' 'Shoulder contra' 'Temple' 'Nose > neutral space'\n",
      " 'Leg' 'Weak hand: web space' 'Hip' 'Forehead > weak hand: palm'\n",
      " 'Upper arm' 'Chest > trunk' 'Back of head' 'Head > neutral space'\n",
      " 'Lower arm' 'Weak hand: index finger' 'Wrist' 'Forehead > neutral space'\n",
      " 'Ear > cheek' 'Weak hand: base' 'Neck > chest' 'Elbow' 'Mouth > chin'\n",
      " 'Ear > chest' 'Cheek > chin' 'Forehead > chin' 'Weak hand: front'\n",
      " 'Neutral space > nose' 'Eyebrow' 'Cheekbone' 'Head > chest > shoulder'\n",
      " 'Head > chest' 'Knee' 'Weak hand: thumb side > arm'\n",
      " 'Weak hand: pinkie side' 'Neutral space/weak hand: front'\n",
      " 'Forehead > chest' 'Mouth > cheek' 'Weak hand: pinkie'\n",
      " 'Weak hand: middle finger' 'Weak hand: ring finger' 'Back'\n",
      " 'Shoulder > shoulder' 'Neutral space > head' 'Chin > weak hand: palm'\n",
      " 'Tongue' 'Shoulder > weak hand: palm' 'Armpit' 'Forehead > shoulder'\n",
      " 'Chin contra' 'Neck contra' 'Belly > chest' 'Belly + forehead'\n",
      " 'Eye > neutral space' 'Mouth > neutral space' 'Head + neutral space'\n",
      " 'Head > shoulder' 'Chin > neutral space' 'Belly contra'\n",
      " 'Weak hand: fingers' 'Head ipsi' 'Nose > chin' 'Weak hand: knuckles'\n",
      " 'Chin > Forehead' 'Earlobe' 'Mouth ipsi' 'Mouth > weak hand'\n",
      " 'Bottom/crotch' 'Breasts_ipsi' 'Chin > weak hand: index finger'\n",
      " 'Mouth > chest' 'Breasts' 'Teeth' 'Weak hand > arm']\n"
     ]
    },
    {
     "data": {
      "text/html": [
       "<div>\n",
       "<style scoped>\n",
       "    .dataframe tbody tr th:only-of-type {\n",
       "        vertical-align: middle;\n",
       "    }\n",
       "\n",
       "    .dataframe tbody tr th {\n",
       "        vertical-align: top;\n",
       "    }\n",
       "\n",
       "    .dataframe thead th {\n",
       "        text-align: right;\n",
       "    }\n",
       "</style>\n",
       "<table border=\"1\" class=\"dataframe\">\n",
       "  <thead>\n",
       "    <tr style=\"text-align: right;\">\n",
       "      <th></th>\n",
       "      <th>Gloss ID</th>\n",
       "      <th>Annotation ID Gloss: Dutch</th>\n",
       "      <th>Annotation ID Gloss: English</th>\n",
       "      <th>Handedness</th>\n",
       "      <th>Strong Hand</th>\n",
       "      <th>Weak Hand</th>\n",
       "      <th>Affiliation</th>\n",
       "      <th>Location</th>\n",
       "      <th>Link</th>\n",
       "    </tr>\n",
       "  </thead>\n",
       "  <tbody>\n",
       "    <tr>\n",
       "      <th>22</th>\n",
       "      <td>3835</td>\n",
       "      <td>#VINGERSPELLING</td>\n",
       "      <td>#FINGERSPELLING</td>\n",
       "      <td>1</td>\n",
       "      <td>Variable</td>\n",
       "      <td>-1</td>\n",
       "      <td>[Radboud]</td>\n",
       "      <td>Neutral space</td>\n",
       "      <td>https://signbank.cls.ru.nl//dictionary/gloss/3835</td>\n",
       "    </tr>\n",
       "    <tr>\n",
       "      <th>28</th>\n",
       "      <td>2892</td>\n",
       "      <td>0-A</td>\n",
       "      <td>0-A</td>\n",
       "      <td>1</td>\n",
       "      <td>O</td>\n",
       "      <td>-1</td>\n",
       "      <td>[Radboud]</td>\n",
       "      <td>Neutral space</td>\n",
       "      <td>https://signbank.cls.ru.nl//dictionary/gloss/2892</td>\n",
       "    </tr>\n",
       "    <tr>\n",
       "      <th>29</th>\n",
       "      <td>2893</td>\n",
       "      <td>0-B</td>\n",
       "      <td>0-B</td>\n",
       "      <td>1</td>\n",
       "      <td>T</td>\n",
       "      <td>-1</td>\n",
       "      <td>[Radboud]</td>\n",
       "      <td>Neutral space</td>\n",
       "      <td>https://signbank.cls.ru.nl//dictionary/gloss/2893</td>\n",
       "    </tr>\n",
       "    <tr>\n",
       "      <th>30</th>\n",
       "      <td>2894</td>\n",
       "      <td>0-C</td>\n",
       "      <td>0-C</td>\n",
       "      <td>1</td>\n",
       "      <td>Baby_O</td>\n",
       "      <td>-1</td>\n",
       "      <td>[Radboud]</td>\n",
       "      <td>Neutral space</td>\n",
       "      <td>https://signbank.cls.ru.nl//dictionary/gloss/2894</td>\n",
       "    </tr>\n",
       "    <tr>\n",
       "      <th>31</th>\n",
       "      <td>2895</td>\n",
       "      <td>1,5-A</td>\n",
       "      <td>1,5-A</td>\n",
       "      <td>1</td>\n",
       "      <td>1</td>\n",
       "      <td>-1</td>\n",
       "      <td>[Radboud]</td>\n",
       "      <td>Neutral space</td>\n",
       "      <td>https://signbank.cls.ru.nl//dictionary/gloss/2895</td>\n",
       "    </tr>\n",
       "    <tr>\n",
       "      <th>...</th>\n",
       "      <td>...</td>\n",
       "      <td>...</td>\n",
       "      <td>...</td>\n",
       "      <td>...</td>\n",
       "      <td>...</td>\n",
       "      <td>...</td>\n",
       "      <td>...</td>\n",
       "      <td>...</td>\n",
       "      <td>...</td>\n",
       "    </tr>\n",
       "    <tr>\n",
       "      <th>6882</th>\n",
       "      <td>49272</td>\n",
       "      <td>ZAAMZORG</td>\n",
       "      <td>ZAAMZORG</td>\n",
       "      <td>2s</td>\n",
       "      <td>B</td>\n",
       "      <td>B</td>\n",
       "      <td>[UvA]</td>\n",
       "      <td>Neutral space</td>\n",
       "      <td>https://signbank.cls.ru.nl//dictionary/gloss/4...</td>\n",
       "    </tr>\n",
       "    <tr>\n",
       "      <th>6886</th>\n",
       "      <td>49305</td>\n",
       "      <td>VOUWWAGEN</td>\n",
       "      <td>FOLDING-CAMPER</td>\n",
       "      <td>2s</td>\n",
       "      <td>B</td>\n",
       "      <td>B</td>\n",
       "      <td>[UvA]</td>\n",
       "      <td>Neutral space</td>\n",
       "      <td>https://signbank.cls.ru.nl//dictionary/gloss/4...</td>\n",
       "    </tr>\n",
       "    <tr>\n",
       "      <th>6887</th>\n",
       "      <td>49306</td>\n",
       "      <td>BACKPACKEN</td>\n",
       "      <td>BACKPACKING</td>\n",
       "      <td>2s</td>\n",
       "      <td>C</td>\n",
       "      <td>C</td>\n",
       "      <td>[UvA]</td>\n",
       "      <td>Chest</td>\n",
       "      <td>https://signbank.cls.ru.nl//dictionary/gloss/4...</td>\n",
       "    </tr>\n",
       "    <tr>\n",
       "      <th>6889</th>\n",
       "      <td>49308</td>\n",
       "      <td>VERWARD-C</td>\n",
       "      <td>CONFUSED-C</td>\n",
       "      <td>2s</td>\n",
       "      <td>1</td>\n",
       "      <td>1</td>\n",
       "      <td>[UvA]</td>\n",
       "      <td>Trunk</td>\n",
       "      <td>https://signbank.cls.ru.nl//dictionary/gloss/4...</td>\n",
       "    </tr>\n",
       "    <tr>\n",
       "      <th>6891</th>\n",
       "      <td>49310</td>\n",
       "      <td>WEGZAKKEN</td>\n",
       "      <td>SUBSIDE</td>\n",
       "      <td>2s</td>\n",
       "      <td>Beak_open_spread</td>\n",
       "      <td>Beak_open_spread</td>\n",
       "      <td>[UvA]</td>\n",
       "      <td>Chest</td>\n",
       "      <td>https://signbank.cls.ru.nl//dictionary/gloss/4...</td>\n",
       "    </tr>\n",
       "  </tbody>\n",
       "</table>\n",
       "<p>5738 rows × 9 columns</p>\n",
       "</div>"
      ],
      "text/plain": [
       "     Gloss ID Annotation ID Gloss: Dutch Annotation ID Gloss: English  \\\n",
       "22       3835            #VINGERSPELLING              #FINGERSPELLING   \n",
       "28       2892                        0-A                          0-A   \n",
       "29       2893                        0-B                          0-B   \n",
       "30       2894                        0-C                          0-C   \n",
       "31       2895                      1,5-A                        1,5-A   \n",
       "...       ...                        ...                          ...   \n",
       "6882    49272                   ZAAMZORG                     ZAAMZORG   \n",
       "6886    49305                  VOUWWAGEN               FOLDING-CAMPER   \n",
       "6887    49306                 BACKPACKEN                  BACKPACKING   \n",
       "6889    49308                  VERWARD-C                   CONFUSED-C   \n",
       "6891    49310                  WEGZAKKEN                      SUBSIDE   \n",
       "\n",
       "     Handedness       Strong Hand         Weak Hand Affiliation  \\\n",
       "22            1          Variable                -1   [Radboud]   \n",
       "28            1                 O                -1   [Radboud]   \n",
       "29            1                 T                -1   [Radboud]   \n",
       "30            1            Baby_O                -1   [Radboud]   \n",
       "31            1                 1                -1   [Radboud]   \n",
       "...         ...               ...               ...         ...   \n",
       "6882         2s                 B                 B       [UvA]   \n",
       "6886         2s                 B                 B       [UvA]   \n",
       "6887         2s                 C                 C       [UvA]   \n",
       "6889         2s                 1                 1       [UvA]   \n",
       "6891         2s  Beak_open_spread  Beak_open_spread       [UvA]   \n",
       "\n",
       "           Location                                               Link  \n",
       "22    Neutral space  https://signbank.cls.ru.nl//dictionary/gloss/3835  \n",
       "28    Neutral space  https://signbank.cls.ru.nl//dictionary/gloss/2892  \n",
       "29    Neutral space  https://signbank.cls.ru.nl//dictionary/gloss/2893  \n",
       "30    Neutral space  https://signbank.cls.ru.nl//dictionary/gloss/2894  \n",
       "31    Neutral space  https://signbank.cls.ru.nl//dictionary/gloss/2895  \n",
       "...             ...                                                ...  \n",
       "6882  Neutral space  https://signbank.cls.ru.nl//dictionary/gloss/4...  \n",
       "6886  Neutral space  https://signbank.cls.ru.nl//dictionary/gloss/4...  \n",
       "6887          Chest  https://signbank.cls.ru.nl//dictionary/gloss/4...  \n",
       "6889          Trunk  https://signbank.cls.ru.nl//dictionary/gloss/4...  \n",
       "6891          Chest  https://signbank.cls.ru.nl//dictionary/gloss/4...  \n",
       "\n",
       "[5738 rows x 9 columns]"
      ]
     },
     "execution_count": 2,
     "metadata": {},
     "output_type": "execute_result"
    }
   ],
   "source": [
    "from PoseTools.data.parsers_and_processors.parsers import MetadataParser\n",
    "\n",
    "metadata_path = '/home/gomer/oline/PoseTools/data/metadata/glosses_meta.json'\n",
    "metadata = MetadataParser(metadata_path).read_metadata()\n",
    "print('Total number of datapoints:', len(metadata))\n",
    "metadata = metadata[metadata['Location'] != -1]\n",
    "print('Number of datapoints with location:', len(metadata))\n",
    "print('Number of unique locations:', len(metadata['Location'].unique()))\n",
    "print('Set of unique locations:', metadata['Location'].unique())\n",
    "metadata"
   ]
  },
  {
   "cell_type": "code",
   "execution_count": 3,
   "metadata": {},
   "outputs": [
    {
     "name": "stdout",
     "output_type": "stream",
     "text": [
      "Location: Arm, Link: https://signbank.cls.ru.nl//dictionary/gloss/3058\n",
      "Location: Armpit, Link: https://signbank.cls.ru.nl//dictionary/gloss/4514\n",
      "Location: Back, Link: https://signbank.cls.ru.nl//dictionary/gloss/2880\n",
      "Location: Back of head, Link: https://signbank.cls.ru.nl//dictionary/gloss/2741\n",
      "Location: Belly, Link: https://signbank.cls.ru.nl//dictionary/gloss/813\n",
      "Location: Belly + forehead, Link: https://signbank.cls.ru.nl//dictionary/gloss/38\n",
      "Location: Belly > chest, Link: https://signbank.cls.ru.nl//dictionary/gloss/4483\n",
      "Location: Belly contra, Link: https://signbank.cls.ru.nl//dictionary/gloss/45996\n",
      "Location: Bottom/crotch, Link: https://signbank.cls.ru.nl//dictionary/gloss/47473\n",
      "Location: Breasts, Link: https://signbank.cls.ru.nl//dictionary/gloss/48092\n",
      "Location: Breasts_ipsi, Link: https://signbank.cls.ru.nl//dictionary/gloss/47528\n",
      "Location: Cheek, Link: https://signbank.cls.ru.nl//dictionary/gloss/3123\n",
      "Location: Cheek > chin, Link: https://signbank.cls.ru.nl//dictionary/gloss/4062\n",
      "Location: Cheekbone, Link: https://signbank.cls.ru.nl//dictionary/gloss/43\n",
      "Location: Chest, Link: https://signbank.cls.ru.nl//dictionary/gloss/1052\n",
      "Location: Chest > trunk, Link: https://signbank.cls.ru.nl//dictionary/gloss/1943\n",
      "Location: Chest contra, Link: https://signbank.cls.ru.nl//dictionary/gloss/4503\n",
      "Location: Chin, Link: https://signbank.cls.ru.nl//dictionary/gloss/942\n",
      "Location: Chin > Forehead, Link: https://signbank.cls.ru.nl//dictionary/gloss/46770\n",
      "Location: Chin > chest, Link: https://signbank.cls.ru.nl//dictionary/gloss/2457\n",
      "Location: Chin > neutral space, Link: https://signbank.cls.ru.nl//dictionary/gloss/44108\n",
      "Location: Chin > weak hand: index finger, Link: https://signbank.cls.ru.nl//dictionary/gloss/47760\n",
      "Location: Chin > weak hand: palm, Link: https://signbank.cls.ru.nl//dictionary/gloss/210\n",
      "Location: Chin > weak hand: thumb side, Link: https://signbank.cls.ru.nl//dictionary/gloss/534\n",
      "Location: Chin contra, Link: https://signbank.cls.ru.nl//dictionary/gloss/2812\n",
      "Location: Ear, Link: https://signbank.cls.ru.nl//dictionary/gloss/2528\n",
      "Location: Ear > cheek, Link: https://signbank.cls.ru.nl//dictionary/gloss/2934\n",
      "Location: Ear > chest, Link: https://signbank.cls.ru.nl//dictionary/gloss/3089\n",
      "Location: Earlobe, Link: https://signbank.cls.ru.nl//dictionary/gloss/46829\n",
      "Location: Elbow, Link: https://signbank.cls.ru.nl//dictionary/gloss/2862\n",
      "Location: Eye, Link: https://signbank.cls.ru.nl//dictionary/gloss/4123\n",
      "Location: Eye > neutral space, Link: https://signbank.cls.ru.nl//dictionary/gloss/4193\n",
      "Location: Eyebrow, Link: https://signbank.cls.ru.nl//dictionary/gloss/3188\n",
      "Location: Face, Link: https://signbank.cls.ru.nl//dictionary/gloss/1272\n",
      "Location: Flank, Link: https://signbank.cls.ru.nl//dictionary/gloss/4380\n",
      "Location: Forehead, Link: https://signbank.cls.ru.nl//dictionary/gloss/3191\n",
      "Location: Forehead > chest, Link: https://signbank.cls.ru.nl//dictionary/gloss/214\n",
      "Location: Forehead > chin, Link: https://signbank.cls.ru.nl//dictionary/gloss/574\n",
      "Location: Forehead > neutral space, Link: https://signbank.cls.ru.nl//dictionary/gloss/1938\n",
      "Location: Forehead > shoulder, Link: https://signbank.cls.ru.nl//dictionary/gloss/4054\n",
      "Location: Forehead > weak hand: palm, Link: https://signbank.cls.ru.nl//dictionary/gloss/743\n",
      "Location: Head, Link: https://signbank.cls.ru.nl//dictionary/gloss/4477\n",
      "Location: Head + neutral space, Link: https://signbank.cls.ru.nl//dictionary/gloss/43952\n",
      "Location: Head > chest, Link: https://signbank.cls.ru.nl//dictionary/gloss/4037\n",
      "Location: Head > chest > shoulder, Link: https://signbank.cls.ru.nl//dictionary/gloss/3979\n",
      "Location: Head > neutral space, Link: https://signbank.cls.ru.nl//dictionary/gloss/5409\n",
      "Location: Head > shoulder, Link: https://signbank.cls.ru.nl//dictionary/gloss/44033\n",
      "Location: Head ipsi, Link: https://signbank.cls.ru.nl//dictionary/gloss/46319\n",
      "Location: Hip, Link: https://signbank.cls.ru.nl//dictionary/gloss/1719\n",
      "Location: Horizontal plane, Link: https://signbank.cls.ru.nl//dictionary/gloss/1657\n",
      "Location: Knee, Link: https://signbank.cls.ru.nl//dictionary/gloss/2950\n",
      "Location: Leg, Link: https://signbank.cls.ru.nl//dictionary/gloss/345\n",
      "Location: Lower arm, Link: https://signbank.cls.ru.nl//dictionary/gloss/2096\n",
      "Location: Mouth, Link: https://signbank.cls.ru.nl//dictionary/gloss/1037\n",
      "Location: Mouth > cheek, Link: https://signbank.cls.ru.nl//dictionary/gloss/2966\n",
      "Location: Mouth > chest, Link: https://signbank.cls.ru.nl//dictionary/gloss/47865\n",
      "Location: Mouth > chin, Link: https://signbank.cls.ru.nl//dictionary/gloss/4597\n",
      "Location: Mouth > neutral space, Link: https://signbank.cls.ru.nl//dictionary/gloss/43949\n",
      "Location: Mouth > weak hand, Link: https://signbank.cls.ru.nl//dictionary/gloss/47122\n",
      "Location: Mouth ipsi, Link: https://signbank.cls.ru.nl//dictionary/gloss/46959\n",
      "Location: Neck, Link: https://signbank.cls.ru.nl//dictionary/gloss/4641\n",
      "Location: Neck > chest, Link: https://signbank.cls.ru.nl//dictionary/gloss/547\n",
      "Location: Neck contra, Link: https://signbank.cls.ru.nl//dictionary/gloss/4099\n",
      "Location: Neutral space, Link: https://signbank.cls.ru.nl//dictionary/gloss/3835\n",
      "Location: Neutral space > head, Link: https://signbank.cls.ru.nl//dictionary/gloss/3370\n",
      "Location: Neutral space > nose, Link: https://signbank.cls.ru.nl//dictionary/gloss/3287\n",
      "Location: Neutral space/weak hand: front, Link: https://signbank.cls.ru.nl//dictionary/gloss/1163\n",
      "Location: Nose, Link: https://signbank.cls.ru.nl//dictionary/gloss/2910\n",
      "Location: Nose > chin, Link: https://signbank.cls.ru.nl//dictionary/gloss/46470\n",
      "Location: Nose > neutral space, Link: https://signbank.cls.ru.nl//dictionary/gloss/4697\n",
      "Location: Parallel plane, Link: https://signbank.cls.ru.nl//dictionary/gloss/752\n",
      "Location: R-loc, Link: https://signbank.cls.ru.nl//dictionary/gloss/4661\n",
      "Location: R-loc > R-loc, Link: https://signbank.cls.ru.nl//dictionary/gloss/3068\n",
      "Location: Shoulder, Link: https://signbank.cls.ru.nl//dictionary/gloss/2439\n",
      "Location: Shoulder > shoulder, Link: https://signbank.cls.ru.nl//dictionary/gloss/4480\n",
      "Location: Shoulder > weak hand: palm, Link: https://signbank.cls.ru.nl//dictionary/gloss/3462\n",
      "Location: Shoulder contra, Link: https://signbank.cls.ru.nl//dictionary/gloss/2733\n",
      "Location: Teeth, Link: https://signbank.cls.ru.nl//dictionary/gloss/48101\n",
      "Location: Temple, Link: https://signbank.cls.ru.nl//dictionary/gloss/4519\n",
      "Location: Tongue, Link: https://signbank.cls.ru.nl//dictionary/gloss/164\n",
      "Location: Trunk, Link: https://signbank.cls.ru.nl//dictionary/gloss/384\n",
      "Location: Upper arm, Link: https://signbank.cls.ru.nl//dictionary/gloss/2740\n",
      "Location: Upper lip, Link: https://signbank.cls.ru.nl//dictionary/gloss/3861\n",
      "Location: Variable, Link: https://signbank.cls.ru.nl//dictionary/gloss/36721\n",
      "Location: Virtual object, Link: https://signbank.cls.ru.nl//dictionary/gloss/4025\n",
      "Location: Weak hand, Link: https://signbank.cls.ru.nl//dictionary/gloss/2411\n",
      "Location: Weak hand > arm, Link: https://signbank.cls.ru.nl//dictionary/gloss/48807\n",
      "Location: Weak hand: back, Link: https://signbank.cls.ru.nl//dictionary/gloss/296\n",
      "Location: Weak hand: base, Link: https://signbank.cls.ru.nl//dictionary/gloss/2747\n",
      "Location: Weak hand: finger tips, Link: https://signbank.cls.ru.nl//dictionary/gloss/2169\n",
      "Location: Weak hand: fingers, Link: https://signbank.cls.ru.nl//dictionary/gloss/46267\n",
      "Location: Weak hand: front, Link: https://signbank.cls.ru.nl//dictionary/gloss/555\n",
      "Location: Weak hand: index finger, Link: https://signbank.cls.ru.nl//dictionary/gloss/4624\n",
      "Location: Weak hand: knuckles, Link: https://signbank.cls.ru.nl//dictionary/gloss/46749\n",
      "Location: Weak hand: middle finger, Link: https://signbank.cls.ru.nl//dictionary/gloss/2875\n",
      "Location: Weak hand: palm, Link: https://signbank.cls.ru.nl//dictionary/gloss/2526\n",
      "Location: Weak hand: pinkie, Link: https://signbank.cls.ru.nl//dictionary/gloss/993\n",
      "Location: Weak hand: pinkie side, Link: https://signbank.cls.ru.nl//dictionary/gloss/3799\n",
      "Location: Weak hand: ring finger, Link: https://signbank.cls.ru.nl//dictionary/gloss/2877\n",
      "Location: Weak hand: thumb, Link: https://signbank.cls.ru.nl//dictionary/gloss/2732\n",
      "Location: Weak hand: thumb side, Link: https://signbank.cls.ru.nl//dictionary/gloss/4382\n",
      "Location: Weak hand: thumb side > arm, Link: https://signbank.cls.ru.nl//dictionary/gloss/6\n",
      "Location: Weak hand: web space, Link: https://signbank.cls.ru.nl//dictionary/gloss/687\n",
      "Location: Wrist, Link: https://signbank.cls.ru.nl//dictionary/gloss/636\n"
     ]
    }
   ],
   "source": [
    "# Group by the 'Location' column and get the first 'Link' for each unique location\n",
    "unique_location_links = metadata.groupby('Location')['Link'].first()\n",
    "\n",
    "# Print each unique location with one example link\n",
    "for location, link in unique_location_links.items():\n",
    "    print(f\"Location: {location}, Link: {link}\")\n"
   ]
  },
  {
   "cell_type": "code",
   "execution_count": 4,
   "metadata": {},
   "outputs": [
    {
     "name": "stdout",
     "output_type": "stream",
     "text": [
      "Location keys with '+' or '>': ['belly + forehead', 'belly > chest', 'cheek > chin', 'chest > trunk', 'chin > chest', 'chin > forehead', 'chin > neutral space', 'chin > weak hand: index finger', 'chin > weak hand: palm', 'chin > weak hand: thumb side', 'ear > cheek', 'ear > chest', 'eye > neutral space', 'forehead > chest', 'forehead > chin', 'forehead > neutral space', 'forehead > shoulder', 'forehead > weak hand: palm', 'head + neutral space', 'head > chest', 'head > chest > shoulder', 'head > neutral space', 'head > shoulder', 'mouth > cheek', 'mouth > chest', 'mouth > chin', 'mouth > neutral space', 'mouth > weak hand', 'neck > chest', 'neutral space > head', 'neutral space > nose', 'nose > chin', 'nose > neutral space', 'r-loc > r-loc', 'shoulder > shoulder', 'shoulder > weak hand: palm', 'weak hand > arm', 'weak hand: thumb side > arm']\n",
      "Location keys without '+' or '>': ['arm', 'armpit', 'back', 'back of head', 'belly', 'belly contra', 'bottom/crotch', 'breasts', 'breasts_ipsi', 'cheek', 'cheekbone', 'chest', 'chest contra', 'chin', 'chin contra', 'ear', 'earlobe', 'elbow', 'eye', 'eyebrow', 'face', 'flank', 'forehead', 'head', 'head ipsi', 'hip', 'horizontal plane', 'knee', 'leg', 'lower arm', 'mouth', 'mouth ipsi', 'neck', 'neck contra', 'neutral space', 'neutral space/weak hand: front', 'nose', 'parallel plane', 'r-loc', 'shoulder', 'shoulder contra', 'teeth', 'temple', 'tongue', 'trunk', 'upper arm', 'upper lip', 'variable', 'virtual object', 'weak hand', 'weak hand: back', 'weak hand: base', 'weak hand: finger tips', 'weak hand: fingers', 'weak hand: front', 'weak hand: index finger', 'weak hand: knuckles', 'weak hand: middle finger', 'weak hand: palm', 'weak hand: pinkie', 'weak hand: pinkie side', 'weak hand: ring finger', 'weak hand: thumb', 'weak hand: thumb side', 'weak hand: web space', 'wrist']\n"
     ]
    }
   ],
   "source": [
    "location_keys = metadata['Location'].unique()\n",
    "\n",
    "# Separate entries with '+' or '>' into one list, and the rest into another\n",
    "location_keys_with_symbols = sorted(set([loc.lower() for loc in location_keys if '+' in loc or '>' in loc]))\n",
    "location_keys_without_symbols = sorted(set([loc.lower() for loc in location_keys if '+' not in loc and '>' not in loc]))\n",
    "\n",
    "# Print the results\n",
    "print(\"Location keys with '+' or '>':\", location_keys_with_symbols)\n",
    "print(\"Location keys without '+' or '>':\", location_keys_without_symbols)\n",
    "\n"
   ]
  },
  {
   "cell_type": "code",
   "execution_count": 5,
   "metadata": {},
   "outputs": [
    {
     "name": "stdout",
     "output_type": "stream",
     "text": [
      "Split location keys: {'weak hand: index finger', 'chin', 'cheek', 'neutral space', 'weak hand: thumb side', 'r-loc', 'ear', 'eye', 'head', 'weak hand', 'neck', 'weak hand: palm', 'mouth', 'nose', 'shoulder', 'trunk', 'arm', 'forehead', 'belly', 'chest'}\n"
     ]
    }
   ],
   "source": [
    "import re\n",
    "\n",
    "# Split entries in location_keys_with_symbols by '>' and '+'\n",
    "split_location_keys = [part.strip() for loc in location_keys_with_symbols for part in re.split(r'[>+]', loc)]\n",
    "\n",
    "# Print the result\n",
    "print(\"Split location keys:\", set(split_location_keys))"
   ]
  },
  {
   "cell_type": "code",
   "execution_count": 6,
   "metadata": {},
   "outputs": [
    {
     "name": "stdout",
     "output_type": "stream",
     "text": [
      "Keys in split_location_keys that are not in location_keys_without_symbols: set()\n"
     ]
    }
   ],
   "source": [
    "# Convert location_keys_without_symbols to a set for faster lookup\n",
    "location_keys_without_symbols_set = set(location_keys_without_symbols)\n",
    "\n",
    "# Find keys in split_location_keys that are not in location_keys_without_symbols\n",
    "unmatched_keys = {key for key in split_location_keys if key not in location_keys_without_symbols_set}\n",
    "\n",
    "# Print the unmatched keys\n",
    "print(\"Keys in split_location_keys that are not in location_keys_without_symbols:\", unmatched_keys)\n"
   ]
  },
  {
   "cell_type": "markdown",
   "metadata": {},
   "source": [
    "In conclusion, all combinatorics are represented by the minimal set. As such, we continue to leverage the minimal set, as we will operate on a per frame base."
   ]
  },
  {
   "cell_type": "code",
   "execution_count": 7,
   "metadata": {},
   "outputs": [
    {
     "name": "stdout",
     "output_type": "stream",
     "text": [
      "Number of datapoints with elementary location: 5604\n"
     ]
    }
   ],
   "source": [
    "# Subset the DataFrame to include only rows where 'Location' is in location_keys_without_symbols\n",
    "locations = sorted(set([loc for loc in location_keys if '+' not in loc and '>' not in loc]))\n",
    "df = metadata[metadata['Location'].isin(locations)]\n",
    "\n",
    "# Display the filtered DataFrame\n",
    "print('Number of datapoints with elementary location:', len(df))"
   ]
  },
  {
   "cell_type": "code",
   "execution_count": 8,
   "metadata": {},
   "outputs": [
    {
     "data": {
      "text/plain": [
       "Location\n",
       "Neutral space          2891\n",
       "Weak hand: palm         341\n",
       "Head                    274\n",
       "Chest                   255\n",
       "Mouth                   207\n",
       "                       ... \n",
       "Breasts                   1\n",
       "Belly contra              1\n",
       "Knee                      1\n",
       "Neck contra               1\n",
       "Weak hand: knuckles       1\n",
       "Name: count, Length: 66, dtype: int64"
      ]
     },
     "execution_count": 8,
     "metadata": {},
     "output_type": "execute_result"
    }
   ],
   "source": [
    "df.value_counts('Location')"
   ]
  },
  {
   "cell_type": "code",
   "execution_count": 9,
   "metadata": {},
   "outputs": [
    {
     "name": "stderr",
     "output_type": "stream",
     "text": [
      "Processing pose files:   0%|          | 4/5604 [00:00<02:25, 38.55it/s]"
     ]
    },
    {
     "name": "stdout",
     "output_type": "stream",
     "text": [
      "First fallback path: /home/gomer/signbank_videos/#VINGERSPELLING.pose\n",
      "Second fallback path: /home/gomer/signbank_videos/#VINGERSPELLING.pose\n",
      "Skipping file (no pose data): #VINGERSPELLING.pose\n",
      "First fallback path: /home/gomer/signbank_videos/1,5.A.pose\n",
      "Second fallback path: /home/gomer/signbank_videos/1,5.A.pose\n",
      "Skipping file (no pose data): 1,5-A.pose\n",
      "First fallback path: /home/gomer/signbank_videos/1.A.pose\n",
      "Second fallback path: /home/gomer/signbank_videos/1.A.pose\n",
      "Skipping file (no pose data): 1-A.pose\n",
      "First fallback path: /home/gomer/signbank_videos/1.B.pose\n",
      "Second fallback path: /home/gomer/signbank_videos/1.B.pose\n",
      "Skipping file (no pose data): 1-B.pose\n"
     ]
    },
    {
     "name": "stderr",
     "output_type": "stream",
     "text": [
      "Processing pose files:   1%|▏         | 76/5604 [00:02<02:41, 34.17it/s]"
     ]
    },
    {
     "name": "stdout",
     "output_type": "stream",
     "text": [
      "First fallback path: /home/gomer/signbank_videos/4.ORD-A.pose\n",
      "Second fallback path: /home/gomer/signbank_videos/4.ORD-A.pose\n",
      "Skipping file (no pose data): 4.ORD-A.pose\n"
     ]
    },
    {
     "name": "stderr",
     "output_type": "stream",
     "text": [
      "Processing pose files:   3%|▎         | 185/5604 [00:06<02:33, 35.32it/s]"
     ]
    },
    {
     "name": "stdout",
     "output_type": "stream",
     "text": [
      "First fallback path: /home/gomer/signbank_videos/AFHANKELIJK-E.pose\n",
      "Second fallback path: /home/gomer/signbank_videos/AFHANKELIJK-E.pose\n",
      "Skipping file (no pose data): AFHANKELIJK-E.pose\n"
     ]
    },
    {
     "name": "stderr",
     "output_type": "stream",
     "text": [
      "Processing pose files:   3%|▎         | 195/5604 [00:06<02:14, 40.36it/s]"
     ]
    },
    {
     "name": "stdout",
     "output_type": "stream",
     "text": [
      "First fallback path: /home/gomer/signbank_videos/AFSPRAAK-E.pose\n",
      "Second fallback path: /home/gomer/signbank_videos/AFSPRAAK-E.pose\n",
      "Skipping file (no pose data): AFSPRAAK-E.pose\n"
     ]
    },
    {
     "name": "stderr",
     "output_type": "stream",
     "text": [
      "Processing pose files:   5%|▍         | 270/5604 [00:09<03:35, 24.72it/s]"
     ]
    },
    {
     "name": "stdout",
     "output_type": "stream",
     "text": [
      "First fallback path: /home/gomer/signbank_videos/AT+C_spreid.pose\n",
      "Second fallback path: /home/gomer/signbank_videos/AT+C_spreid.pose\n",
      "Skipping file (no pose data): AT+C_spreid.pose\n"
     ]
    },
    {
     "name": "stderr",
     "output_type": "stream",
     "text": [
      "Processing pose files:   5%|▌         | 294/5604 [00:10<03:02, 29.09it/s]"
     ]
    },
    {
     "name": "stdout",
     "output_type": "stream",
     "text": [
      "First fallback path: /home/gomer/signbank_videos/AVONTUUR-A.pose\n",
      "Second fallback path: /home/gomer/signbank_videos/AVONTUUR-A.pose\n",
      "Skipping file (no pose data): AVONTUUR-A.pose\n"
     ]
    },
    {
     "name": "stderr",
     "output_type": "stream",
     "text": [
      "Processing pose files:  10%|▉         | 542/5604 [00:17<01:45, 47.89it/s]"
     ]
    },
    {
     "name": "stdout",
     "output_type": "stream",
     "text": [
      "First fallback path: /home/gomer/signbank_videos/BREKEN-A.pose\n",
      "Second fallback path: /home/gomer/signbank_videos/BREKEN-A.pose\n",
      "Skipping file (no pose data): BREKEN-A.pose\n",
      "First fallback path: /home/gomer/signbank_videos/BREKEN-B.pose\n",
      "Second fallback path: /home/gomer/signbank_videos/BREKEN-B.pose\n",
      "Skipping file (no pose data): BREKEN-B.pose\n",
      "First fallback path: /home/gomer/signbank_videos/BREKEN-C.pose\n",
      "Second fallback path: /home/gomer/signbank_videos/BREKEN-C.pose\n",
      "Skipping file (no pose data): BREKEN-C.pose\n",
      "First fallback path: /home/gomer/signbank_videos/BREKEN-E.pose\n",
      "Second fallback path: /home/gomer/signbank_videos/BREKEN-E.pose\n",
      "Skipping file (no pose data): BREKEN-E.pose\n"
     ]
    },
    {
     "name": "stderr",
     "output_type": "stream",
     "text": [
      "Processing pose files:  11%|█         | 630/5604 [00:19<02:27, 33.71it/s]"
     ]
    },
    {
     "name": "stdout",
     "output_type": "stream",
     "text": [
      "First fallback path: /home/gomer/signbank_videos/CONGRES-D.pose\n",
      "Second fallback path: /home/gomer/signbank_videos/CONGRES-D.pose\n",
      "Skipping file (no pose data): CONGRES-D.pose\n"
     ]
    },
    {
     "name": "stderr",
     "output_type": "stream",
     "text": [
      "Processing pose files:  12%|█▏        | 659/5604 [00:20<02:19, 35.53it/s]"
     ]
    },
    {
     "name": "stdout",
     "output_type": "stream",
     "text": [
      "First fallback path: /home/gomer/signbank_videos/DAN-C.pose\n",
      "Second fallback path: /home/gomer/signbank_videos/DAN-C.pose\n",
      "Skipping file (no pose data): DAN-C.pose\n"
     ]
    },
    {
     "name": "stderr",
     "output_type": "stream",
     "text": [
      "Processing pose files:  19%|█▊        | 1047/5604 [00:31<02:04, 36.70it/s]"
     ]
    },
    {
     "name": "stdout",
     "output_type": "stream",
     "text": [
      "First fallback path: /home/gomer/signbank_videos/GERHARD-BOUWMEESTER.pose\n",
      "Second fallback path: /home/gomer/signbank_videos/GERHARD-BOUWMEESTER.pose\n",
      "Skipping file (no pose data): GERHARD-BOUWMEESTER.pose\n"
     ]
    },
    {
     "name": "stderr",
     "output_type": "stream",
     "text": [
      "Processing pose files:  19%|█▉        | 1069/5604 [00:32<02:00, 37.68it/s]"
     ]
    },
    {
     "name": "stdout",
     "output_type": "stream",
     "text": [
      "First fallback path: /home/gomer/signbank_videos/GIF.pose\n",
      "Second fallback path: /home/gomer/signbank_videos/GIF.pose\n",
      "Skipping file (no pose data): GIF.pose\n"
     ]
    },
    {
     "name": "stderr",
     "output_type": "stream",
     "text": [
      "Processing pose files:  20%|█▉        | 1113/5604 [00:33<01:51, 40.39it/s]"
     ]
    },
    {
     "name": "stdout",
     "output_type": "stream",
     "text": [
      "First fallback path: /home/gomer/signbank_videos/GRENS.pose\n",
      "Second fallback path: /home/gomer/signbank_videos/GRENS.pose\n",
      "Skipping file (no pose data): GRENS.pose\n"
     ]
    },
    {
     "name": "stderr",
     "output_type": "stream",
     "text": [
      "Processing pose files:  20%|██        | 1145/5604 [00:34<01:54, 38.87it/s]"
     ]
    },
    {
     "name": "stdout",
     "output_type": "stream",
     "text": [
      "First fallback path: /home/gomer/signbank_videos/HAAR.pose\n",
      "Second fallback path: /home/gomer/signbank_videos/HAAR.pose\n",
      "Skipping file (no pose data): HAAR.pose\n"
     ]
    },
    {
     "name": "stderr",
     "output_type": "stream",
     "text": [
      "Processing pose files:  24%|██▍       | 1336/5604 [00:39<01:54, 37.25it/s]"
     ]
    },
    {
     "name": "stdout",
     "output_type": "stream",
     "text": [
      "First fallback path: /home/gomer/signbank_videos/INFORMEREN:1.pose\n",
      "Second fallback path: /home/gomer/signbank_videos/INFORMEREN:1.pose\n",
      "Skipping file (no pose data): INFORMEREN:1.pose\n"
     ]
    },
    {
     "name": "stderr",
     "output_type": "stream",
     "text": [
      "Processing pose files:  28%|██▊       | 1545/5604 [00:45<01:39, 40.67it/s]"
     ]
    },
    {
     "name": "stdout",
     "output_type": "stream",
     "text": [
      "First fallback path: /home/gomer/signbank_videos/KNIJPEN.pose\n",
      "Second fallback path: /home/gomer/signbank_videos/KNIJPEN.pose\n",
      "Skipping file (no pose data): KNIJPEN.pose\n"
     ]
    },
    {
     "name": "stderr",
     "output_type": "stream",
     "text": [
      "Processing pose files:  28%|██▊       | 1562/5604 [00:45<01:53, 35.67it/s]"
     ]
    },
    {
     "name": "stdout",
     "output_type": "stream",
     "text": [
      "First fallback path: /home/gomer/signbank_videos/KOMEN-A:1.pose\n",
      "Second fallback path: /home/gomer/signbank_videos/KOMEN-A:1.pose\n",
      "Skipping file (no pose data): KOMEN-A:1.pose\n"
     ]
    },
    {
     "name": "stderr",
     "output_type": "stream",
     "text": [
      "Processing pose files:  29%|██▉       | 1620/5604 [00:47<01:43, 38.33it/s]"
     ]
    },
    {
     "name": "stdout",
     "output_type": "stream",
     "text": [
      "First fallback path: /home/gomer/signbank_videos/LAAT-MAAR-A.pose\n",
      "Second fallback path: /home/gomer/signbank_videos/LAAT-MAAR-A.pose\n",
      "Skipping file (no pose data): LAAT-MAAR-A.pose\n"
     ]
    },
    {
     "name": "stderr",
     "output_type": "stream",
     "text": [
      "Processing pose files:  30%|██▉       | 1666/5604 [00:48<01:41, 38.64it/s]"
     ]
    },
    {
     "name": "stdout",
     "output_type": "stream",
     "text": [
      "First fallback path: /home/gomer/signbank_videos/LESGEVEN:1.pose\n",
      "Second fallback path: /home/gomer/signbank_videos/LESGEVEN:1.pose\n",
      "Skipping file (no pose data): LESGEVEN:1.pose\n"
     ]
    },
    {
     "name": "stderr",
     "output_type": "stream",
     "text": [
      "Processing pose files:  30%|███       | 1687/5604 [00:49<01:25, 45.91it/s]"
     ]
    },
    {
     "name": "stdout",
     "output_type": "stream",
     "text": [
      "First fallback path: /home/gomer/signbank_videos/LIEGEN.pose\n",
      "Second fallback path: /home/gomer/signbank_videos/LIEGEN.pose\n",
      "Skipping file (no pose data): LIEGEN.pose\n",
      "First fallback path: /home/gomer/signbank_videos/LIGGEN.pose\n",
      "Second fallback path: /home/gomer/signbank_videos/LIGGEN.pose\n",
      "Skipping file (no pose data): LIGGEN.pose\n"
     ]
    },
    {
     "name": "stderr",
     "output_type": "stream",
     "text": [
      "Processing pose files:  30%|███       | 1699/5604 [00:49<01:27, 44.68it/s]"
     ]
    },
    {
     "name": "stdout",
     "output_type": "stream",
     "text": [
      "First fallback path: /home/gomer/signbank_videos/LIKKEN.pose\n",
      "Second fallback path: /home/gomer/signbank_videos/LIKKEN.pose\n",
      "Skipping file (no pose data): LIKKEN.pose\n"
     ]
    },
    {
     "name": "stderr",
     "output_type": "stream",
     "text": [
      "Processing pose files:  31%|███       | 1728/5604 [00:50<01:47, 36.21it/s]"
     ]
    },
    {
     "name": "stdout",
     "output_type": "stream",
     "text": [
      "First fallback path: /home/gomer/signbank_videos/LOTEN.pose\n",
      "Second fallback path: /home/gomer/signbank_videos/LOTEN.pose\n",
      "Skipping file (no pose data): LOTEN.pose\n"
     ]
    },
    {
     "name": "stderr",
     "output_type": "stream",
     "text": [
      "Processing pose files:  31%|███       | 1739/5604 [00:50<01:32, 41.63it/s]"
     ]
    },
    {
     "name": "stdout",
     "output_type": "stream",
     "text": [
      "First fallback path: /home/gomer/signbank_videos/LUKKEN-NIET-B.pose\n",
      "Second fallback path: /home/gomer/signbank_videos/LUKKEN-NIET-B.pose\n",
      "Skipping file (no pose data): LUKKEN-NIET-B.pose\n"
     ]
    },
    {
     "name": "stderr",
     "output_type": "stream",
     "text": [
      "Processing pose files:  32%|███▏      | 1809/5604 [00:52<01:30, 41.95it/s]"
     ]
    },
    {
     "name": "stdout",
     "output_type": "stream",
     "text": [
      "First fallback path: /home/gomer/signbank_videos/MEDICIJN-A.pose\n",
      "Second fallback path: /home/gomer/signbank_videos/MEDICIJN-A.pose\n",
      "Skipping file (no pose data): MEDICIJN-A.pose\n",
      "First fallback path: /home/gomer/signbank_videos/MEDICIJN-B.pose\n",
      "Second fallback path: /home/gomer/signbank_videos/MEDICIJN-B.pose\n",
      "Skipping file (no pose data): MEDICIJN-B.pose\n"
     ]
    },
    {
     "name": "stderr",
     "output_type": "stream",
     "text": [
      "Processing pose files:  33%|███▎      | 1825/5604 [00:52<01:23, 45.21it/s]"
     ]
    },
    {
     "name": "stdout",
     "output_type": "stream",
     "text": [
      "First fallback path: /home/gomer/signbank_videos/MENEER-D.pose\n",
      "Second fallback path: /home/gomer/signbank_videos/MENEER-D.pose\n",
      "Skipping file (no pose data): MENEER-D.pose\n"
     ]
    },
    {
     "name": "stderr",
     "output_type": "stream",
     "text": [
      "Processing pose files:  33%|███▎      | 1835/5604 [00:52<01:29, 42.19it/s]"
     ]
    },
    {
     "name": "stdout",
     "output_type": "stream",
     "text": [
      "First fallback path: /home/gomer/signbank_videos/METAAL.pose\n",
      "Second fallback path: /home/gomer/signbank_videos/METAAL.pose\n",
      "Skipping file (no pose data): METAAL.pose\n",
      "First fallback path: /home/gomer/signbank_videos/METSELEN-C.pose\n",
      "Second fallback path: /home/gomer/signbank_videos/METSELEN-C.pose\n",
      "Skipping file (no pose data): METSELEN-C.pose\n"
     ]
    },
    {
     "name": "stderr",
     "output_type": "stream",
     "text": [
      "Processing pose files:  34%|███▍      | 1896/5604 [00:54<01:29, 41.29it/s]"
     ]
    },
    {
     "name": "stdout",
     "output_type": "stream",
     "text": [
      "First fallback path: /home/gomer/signbank_videos/MOPPEREN-A:1.pose\n",
      "Second fallback path: /home/gomer/signbank_videos/MOPPEREN-A:1.pose\n",
      "Skipping file (no pose data): MOPPEREN-A:1.pose\n"
     ]
    },
    {
     "name": "stderr",
     "output_type": "stream",
     "text": [
      "Processing pose files:  34%|███▍      | 1931/5604 [00:55<01:36, 37.87it/s]"
     ]
    },
    {
     "name": "stdout",
     "output_type": "stream",
     "text": [
      "First fallback path: /home/gomer/signbank_videos/NACHT.pose\n",
      "Second fallback path: /home/gomer/signbank_videos/NACHT.pose\n",
      "Skipping file (no pose data): NACHT.pose\n"
     ]
    },
    {
     "name": "stderr",
     "output_type": "stream",
     "text": [
      "Processing pose files:  38%|███▊      | 2108/5604 [00:59<01:25, 40.75it/s]"
     ]
    },
    {
     "name": "stdout",
     "output_type": "stream",
     "text": [
      "First fallback path: /home/gomer/signbank_videos/OP-EN-NEER.pose\n",
      "Second fallback path: /home/gomer/signbank_videos/OP-EN-NEER.pose\n",
      "Skipping file (no pose data): OP-EN-NEER.pose\n",
      "First fallback path: /home/gomer/signbank_videos/OP-PAPIER.pose\n",
      "Second fallback path: /home/gomer/signbank_videos/OP-PAPIER.pose\n",
      "Skipping file (no pose data): OP-PAPIER.pose\n",
      "First fallback path: /home/gomer/signbank_videos/OPBLOEIEN-A.pose\n",
      "Second fallback path: /home/gomer/signbank_videos/OPBLOEIEN-A.pose\n",
      "Skipping file (no pose data): OPBLOEIEN-A.pose\n"
     ]
    },
    {
     "name": "stderr",
     "output_type": "stream",
     "text": [
      "Processing pose files:  38%|███▊      | 2139/5604 [01:00<01:24, 40.91it/s]"
     ]
    },
    {
     "name": "stdout",
     "output_type": "stream",
     "text": [
      "First fallback path: /home/gomer/signbank_videos/OPROER.pose\n",
      "Second fallback path: /home/gomer/signbank_videos/OPROER.pose\n",
      "Skipping file (no pose data): OPROER.pose\n"
     ]
    },
    {
     "name": "stderr",
     "output_type": "stream",
     "text": [
      "Processing pose files:  39%|███▉      | 2195/5604 [01:02<01:30, 37.82it/s]"
     ]
    },
    {
     "name": "stdout",
     "output_type": "stream",
     "text": [
      "First fallback path: /home/gomer/signbank_videos/OVERMORGEN.pose\n",
      "Second fallback path: /home/gomer/signbank_videos/OVERMORGEN.pose\n",
      "Skipping file (no pose data): OVERMORGEN.pose\n"
     ]
    },
    {
     "name": "stderr",
     "output_type": "stream",
     "text": [
      "Processing pose files:  42%|████▏     | 2372/5604 [01:06<00:51, 62.33it/s]"
     ]
    },
    {
     "name": "stdout",
     "output_type": "stream",
     "text": [
      "First fallback path: /home/gomer/signbank_videos/PRUIK.pose\n",
      "Second fallback path: /home/gomer/signbank_videos/PRUIK.pose\n",
      "Skipping file (no pose data): PRUIK.pose\n",
      "First fallback path: /home/gomer/signbank_videos/PT:down.pose\n",
      "Second fallback path: /home/gomer/signbank_videos/PT:down.pose\n",
      "Skipping file (no pose data): PT:down.pose\n",
      "First fallback path: /home/gomer/signbank_videos/PT-3hand:wijs-mid-ring.pose\n",
      "Second fallback path: /home/gomer/signbank_videos/PT-3hand:wijs-mid-ring.pose\n",
      "Skipping file (no pose data): PT-3hand:wijs-mid-ring.pose\n",
      "First fallback path: /home/gomer/signbank_videos/PT-Bhand:1.pose\n",
      "Second fallback path: /home/gomer/signbank_videos/PT-Bhand:1.pose\n",
      "Skipping file (no pose data): PT-Bhand:1.pose\n",
      "First fallback path: /home/gomer/signbank_videos/PT-1hand:1.pose\n",
      "Second fallback path: /home/gomer/signbank_videos/PT-1hand:1.pose\n",
      "Skipping file (no pose data): PT-1hand:1.pose\n",
      "First fallback path: /home/gomer/signbank_videos/PT:mid.pose\n",
      "Second fallback path: /home/gomer/signbank_videos/PT:mid.pose\n",
      "Skipping file (no pose data): PT:mid.pose\n",
      "First fallback path: /home/gomer/signbank_videos/PT:pink.pose\n",
      "Second fallback path: /home/gomer/signbank_videos/PT:pink.pose\n",
      "Skipping file (no pose data): PT:pink.pose\n",
      "First fallback path: /home/gomer/signbank_videos/PT:ring.pose\n",
      "Second fallback path: /home/gomer/signbank_videos/PT:ring.pose\n",
      "Skipping file (no pose data): PT:ring.pose\n",
      "First fallback path: /home/gomer/signbank_videos/PT:wijs.pose\n",
      "Second fallback path: /home/gomer/signbank_videos/PT:wijs.pose\n",
      "Skipping file (no pose data): PT:wijs.pose\n"
     ]
    },
    {
     "name": "stderr",
     "output_type": "stream",
     "text": [
      "Processing pose files:  42%|████▏     | 2379/5604 [01:06<00:55, 58.33it/s]"
     ]
    },
    {
     "name": "stdout",
     "output_type": "stream",
     "text": [
      "First fallback path: /home/gomer/signbank_videos/PT-Vhand:wijs-mid.pose\n",
      "Second fallback path: /home/gomer/signbank_videos/PT-Vhand:wijs-mid.pose\n",
      "Skipping file (no pose data): PT-Vhand:wijs-mid.pose\n",
      "First fallback path: /home/gomer/signbank_videos/PUBER-B.pose\n",
      "Second fallback path: /home/gomer/signbank_videos/PUBER-B.pose\n",
      "Skipping file (no pose data): PUBER-B.pose\n"
     ]
    },
    {
     "name": "stderr",
     "output_type": "stream",
     "text": [
      "Processing pose files:  43%|████▎     | 2402/5604 [01:07<01:10, 45.12it/s]"
     ]
    },
    {
     "name": "stdout",
     "output_type": "stream",
     "text": [
      "First fallback path: /home/gomer/signbank_videos/REAGEREN:1.pose\n",
      "Second fallback path: /home/gomer/signbank_videos/REAGEREN:1.pose\n",
      "Skipping file (no pose data): REAGEREN:1.pose\n"
     ]
    },
    {
     "name": "stderr",
     "output_type": "stream",
     "text": [
      "Processing pose files:  44%|████▍     | 2467/5604 [01:09<01:15, 41.48it/s]"
     ]
    },
    {
     "name": "stdout",
     "output_type": "stream",
     "text": [
      "First fallback path: /home/gomer/signbank_videos/ROEPEN:1.pose\n",
      "Second fallback path: /home/gomer/signbank_videos/ROEPEN:1.pose\n",
      "Skipping file (no pose data): ROEPEN:1.pose\n"
     ]
    },
    {
     "name": "stderr",
     "output_type": "stream",
     "text": [
      "Processing pose files:  49%|████▊     | 2720/5604 [01:16<01:19, 36.28it/s]"
     ]
    },
    {
     "name": "stdout",
     "output_type": "stream",
     "text": [
      "First fallback path: /home/gomer/signbank_videos/STAPEL-B.pose\n",
      "Second fallback path: /home/gomer/signbank_videos/STAPEL-B.pose\n",
      "Skipping file (no pose data): STAPEL-B.pose\n"
     ]
    },
    {
     "name": "stderr",
     "output_type": "stream",
     "text": [
      "Processing pose files:  49%|████▉     | 2739/5604 [01:16<01:08, 41.54it/s]"
     ]
    },
    {
     "name": "stdout",
     "output_type": "stream",
     "text": [
      "First fallback path: /home/gomer/signbank_videos/STEPPEN-A.pose\n",
      "Second fallback path: /home/gomer/signbank_videos/STEPPEN-A.pose\n",
      "Skipping file (no pose data): STEPPEN-A.pose\n"
     ]
    },
    {
     "name": "stderr",
     "output_type": "stream",
     "text": [
      "Processing pose files:  55%|█████▌    | 3102/5604 [01:25<00:57, 43.33it/s]"
     ]
    },
    {
     "name": "stdout",
     "output_type": "stream",
     "text": [
      "First fallback path: /home/gomer/signbank_videos/VERLIEZEN-B.pose\n",
      "Second fallback path: /home/gomer/signbank_videos/VERLIEZEN-B.pose\n",
      "Skipping file (no pose data): VERLIEZEN-B.pose\n"
     ]
    },
    {
     "name": "stderr",
     "output_type": "stream",
     "text": [
      "Processing pose files:  59%|█████▉    | 3296/5604 [01:30<01:01, 37.74it/s]"
     ]
    },
    {
     "name": "stdout",
     "output_type": "stream",
     "text": [
      "First fallback path: /home/gomer/signbank_videos/WANDELEN.pose\n",
      "Second fallback path: /home/gomer/signbank_videos/WANDELEN.pose\n",
      "Skipping file (no pose data): WANDELEN.pose\n"
     ]
    },
    {
     "name": "stderr",
     "output_type": "stream",
     "text": [
      "Processing pose files:  62%|██████▏   | 3493/5604 [01:35<00:57, 36.56it/s]"
     ]
    },
    {
     "name": "stdout",
     "output_type": "stream",
     "text": [
      "First fallback path: /home/gomer/signbank_videos/ZWALKEN.pose\n",
      "Second fallback path: /home/gomer/signbank_videos/ZWALKEN.pose\n",
      "Skipping file (no pose data): ZWALKEN.pose\n"
     ]
    },
    {
     "name": "stderr",
     "output_type": "stream",
     "text": [
      "Processing pose files:  63%|██████▎   | 3556/5604 [01:37<01:00, 33.81it/s]"
     ]
    },
    {
     "name": "stdout",
     "output_type": "stream",
     "text": [
      "First fallback path: /home/gomer/signbank_videos/IN-A.pose\n",
      "Second fallback path: /home/gomer/signbank_videos/IN-A.pose\n",
      "Skipping file (no pose data): IN-A.pose\n"
     ]
    },
    {
     "name": "stderr",
     "output_type": "stream",
     "text": [
      "Processing pose files:  64%|██████▍   | 3579/5604 [01:38<01:07, 29.79it/s]"
     ]
    },
    {
     "name": "stdout",
     "output_type": "stream",
     "text": [
      "First fallback path: /home/gomer/signbank_videos/HANDEN-VOOR-GEZICHT.pose\n",
      "Second fallback path: /home/gomer/signbank_videos/HANDEN-VOOR-GEZICHT.pose\n",
      "Skipping file (no pose data): HANDEN-VOOR-GEZICHT.pose\n"
     ]
    },
    {
     "name": "stderr",
     "output_type": "stream",
     "text": [
      "Processing pose files:  65%|██████▍   | 3633/5604 [01:40<00:45, 43.24it/s]"
     ]
    },
    {
     "name": "stdout",
     "output_type": "stream",
     "text": [
      "First fallback path: /home/gomer/signbank_videos/LOPEND-VOORTBEWEGEN.pose\n",
      "Second fallback path: /home/gomer/signbank_videos/LOPEND-VOORTBEWEGEN.pose\n",
      "Skipping file (no pose data): LOPEND-VOORTBEWEGEN.pose\n",
      "First fallback path: /home/gomer/signbank_videos/LOPEND-VOORTBEWEGEN-C.pose\n",
      "Second fallback path: /home/gomer/signbank_videos/LOPEND-VOORTBEWEGEN-C.pose\n",
      "Skipping file (no pose data): LOPEND-VOORTBEWEGEN-C.pose\n"
     ]
    },
    {
     "name": "stderr",
     "output_type": "stream",
     "text": [
      "Processing pose files:  66%|██████▌   | 3687/5604 [01:41<00:47, 40.42it/s]"
     ]
    },
    {
     "name": "stdout",
     "output_type": "stream",
     "text": [
      "First fallback path: /home/gomer/signbank_videos/FILMEN-A:1.pose\n",
      "Second fallback path: /home/gomer/signbank_videos/FILMEN-A:1.pose\n",
      "Skipping file (no pose data): FILMEN-A:1.pose\n"
     ]
    },
    {
     "name": "stderr",
     "output_type": "stream",
     "text": [
      "Processing pose files:  68%|██████▊   | 3805/5604 [01:45<00:49, 36.46it/s]"
     ]
    },
    {
     "name": "stdout",
     "output_type": "stream",
     "text": [
      "First fallback path: /home/gomer/signbank_videos/BIJNA-B.pose\n",
      "Second fallback path: /home/gomer/signbank_videos/BIJNA-B.pose\n",
      "Skipping file (no pose data): BIJNA-B.pose\n",
      "First fallback path: /home/gomer/signbank_videos/HOORN.pose\n",
      "Second fallback path: /home/gomer/signbank_videos/HOORN.pose\n",
      "Skipping file (no pose data): HOORN.pose\n",
      "First fallback path: /home/gomer/signbank_videos/PLAATSEN.pose\n",
      "Second fallback path: /home/gomer/signbank_videos/PLAATSEN.pose\n",
      "Skipping file (no pose data): PLAATSEN.pose\n"
     ]
    },
    {
     "name": "stderr",
     "output_type": "stream",
     "text": [
      "Processing pose files:  79%|███████▉  | 4440/5604 [02:06<00:26, 44.18it/s]"
     ]
    },
    {
     "name": "stdout",
     "output_type": "stream",
     "text": [
      "First fallback path: /home/gomer/signbank_videos/ABSTRACT.B.pose\n",
      "Second fallback path: /home/gomer/signbank_videos/ABSTRACT.B.pose\n",
      "Skipping file (no pose data): ABSTRACT.B.pose\n"
     ]
    },
    {
     "name": "stderr",
     "output_type": "stream",
     "text": [
      "Processing pose files:  80%|████████  | 4507/5604 [02:08<00:25, 43.77it/s]"
     ]
    },
    {
     "name": "stdout",
     "output_type": "stream",
     "text": [
      "First fallback path: /home/gomer/signbank_videos/IN-DE-MIN-STAAN.pose\n",
      "Second fallback path: /home/gomer/signbank_videos/IN-DE-MIN-STAAN.pose\n",
      "Skipping file (no pose data): IN-DE-MIN-STAAN.pose\n"
     ]
    },
    {
     "name": "stderr",
     "output_type": "stream",
     "text": [
      "Processing pose files:  82%|████████▏ | 4612/5604 [02:11<00:22, 44.05it/s]"
     ]
    },
    {
     "name": "stdout",
     "output_type": "stream",
     "text": [
      "First fallback path: /home/gomer/signbank_videos/BENZINE-B.pose\n",
      "Second fallback path: /home/gomer/signbank_videos/BENZINE-B.pose\n",
      "Skipping file (no pose data): BENZINE-B.pose\n",
      "First fallback path: /home/gomer/signbank_videos/CITROEN-B.pose\n",
      "Second fallback path: /home/gomer/signbank_videos/CITROEN-B.pose\n",
      "Skipping file (no pose data): CITROEN-B.pose\n",
      "First fallback path: /home/gomer/signbank_videos/GAS-GEVEN.pose\n",
      "Second fallback path: /home/gomer/signbank_videos/GAS-GEVEN.pose\n",
      "Skipping file (no pose data): GAS-GEVEN.pose\n",
      "First fallback path: /home/gomer/signbank_videos/FRUNK.pose\n",
      "Second fallback path: /home/gomer/signbank_videos/FRUNK.pose\n",
      "Skipping file (no pose data): FRUNK.pose\n",
      "First fallback path: /home/gomer/signbank_videos/JAGUAR.pose\n",
      "Second fallback path: /home/gomer/signbank_videos/JAGUAR.pose\n",
      "Skipping file (no pose data): JAGUAR.pose\n",
      "First fallback path: /home/gomer/signbank_videos/KOPLAMPEN.pose\n",
      "Second fallback path: /home/gomer/signbank_videos/KOPLAMPEN.pose\n",
      "Skipping file (no pose data): KOPLAMPEN.pose\n"
     ]
    },
    {
     "name": "stderr",
     "output_type": "stream",
     "text": [
      "Processing pose files:  83%|████████▎ | 4624/5604 [02:11<00:21, 45.88it/s]"
     ]
    },
    {
     "name": "stdout",
     "output_type": "stream",
     "text": [
      "First fallback path: /home/gomer/signbank_videos/LAMBORGHINI.pose\n",
      "Second fallback path: /home/gomer/signbank_videos/LAMBORGHINI.pose\n",
      "Skipping file (no pose data): LAMBORGHINI.pose\n",
      "First fallback path: /home/gomer/signbank_videos/PEUGEOT.pose\n",
      "Second fallback path: /home/gomer/signbank_videos/PEUGEOT.pose\n",
      "Skipping file (no pose data): PEUGEOT.pose\n"
     ]
    },
    {
     "name": "stderr",
     "output_type": "stream",
     "text": [
      "Processing pose files:  86%|████████▌ | 4805/5604 [02:16<00:18, 42.29it/s]"
     ]
    },
    {
     "name": "stdout",
     "output_type": "stream",
     "text": [
      "First fallback path: /home/gomer/signbank_videos/ACCELEREREN.pose\n",
      "Second fallback path: /home/gomer/signbank_videos/ACCELEREREN.pose\n",
      "Skipping file (no pose data): ACCELEREREN.pose\n",
      "First fallback path: /home/gomer/signbank_videos/ACHTERLICHT-B.pose\n",
      "Second fallback path: /home/gomer/signbank_videos/ACHTERLICHT-B.pose\n",
      "Skipping file (no pose data): ACHTERLICHT-B.pose\n"
     ]
    },
    {
     "name": "stderr",
     "output_type": "stream",
     "text": [
      "Processing pose files:  87%|████████▋ | 4900/5604 [02:17<00:05, 137.39it/s]"
     ]
    },
    {
     "name": "stdout",
     "output_type": "stream",
     "text": [
      "First fallback path: /home/gomer/signbank_videos/tesla.pose\n",
      "Second fallback path: /home/gomer/signbank_videos/tesla.pose\n",
      "Skipping file (no pose data): tesla.pose\n",
      "First fallback path: /home/gomer/signbank_videos/VOLKSWAGEN.pose\n",
      "Second fallback path: /home/gomer/signbank_videos/VOLKSWAGEN.pose\n",
      "Skipping file (no pose data): VOLKSWAGEN.pose\n",
      "First fallback path: /home/gomer/signbank_videos/VIBE.pose\n",
      "Second fallback path: /home/gomer/signbank_videos/VIBE.pose\n",
      "Skipping file (no pose data): VIBE.pose\n",
      "First fallback path: /home/gomer/signbank_videos/PINKSTEREN-A.pose\n",
      "Second fallback path: /home/gomer/signbank_videos/PINKSTEREN-A.pose\n",
      "Skipping file (no pose data): PINKSTEREN-A.pose\n",
      "First fallback path: /home/gomer/signbank_videos/VISUAL-VERNACULAR.pose\n",
      "Second fallback path: /home/gomer/signbank_videos/VISUAL-VERNACULAR.pose\n",
      "Skipping file (no pose data): VISUAL-VERNACULAR.pose\n",
      "First fallback path: /home/gomer/signbank_videos/KETI-KOTI.pose\n",
      "Second fallback path: /home/gomer/signbank_videos/KETI-KOTI.pose\n",
      "Skipping file (no pose data): KETI-KOTI.pose\n",
      "First fallback path: /home/gomer/signbank_videos/SCHERP-B.pose\n",
      "Second fallback path: /home/gomer/signbank_videos/SCHERP-B.pose\n",
      "Skipping file (no pose data): SCHERP-B.pose\n",
      "First fallback path: /home/gomer/signbank_videos/MODEL-C.pose\n",
      "Second fallback path: /home/gomer/signbank_videos/MODEL-C.pose\n",
      "Skipping file (no pose data): MODEL-C.pose\n",
      "First fallback path: /home/gomer/signbank_videos/STATIEF.pose\n",
      "Second fallback path: /home/gomer/signbank_videos/STATIEF.pose\n",
      "Skipping file (no pose data): STATIEF.pose\n",
      "First fallback path: /home/gomer/signbank_videos/MONTEREN.pose\n",
      "Second fallback path: /home/gomer/signbank_videos/MONTEREN.pose\n",
      "Skipping file (no pose data): MONTEREN.pose\n",
      "First fallback path: /home/gomer/signbank_videos/BELICHTING.pose\n",
      "Second fallback path: /home/gomer/signbank_videos/BELICHTING.pose\n",
      "Skipping file (no pose data): BELICHTING.pose\n",
      "First fallback path: /home/gomer/signbank_videos/ENGINEER-B.pose\n",
      "Second fallback path: /home/gomer/signbank_videos/ENGINEER-B.pose\n",
      "Skipping file (no pose data): ENGINEER-B.pose\n",
      "First fallback path: /home/gomer/signbank_videos/STEMSIL.pose\n",
      "Second fallback path: /home/gomer/signbank_videos/STEMSIL.pose\n",
      "Skipping file (no pose data): STEMSIL.pose\n",
      "First fallback path: /home/gomer/signbank_videos/STEM-F.pose\n",
      "Second fallback path: /home/gomer/signbank_videos/STEM-F.pose\n",
      "Skipping file (no pose data): STEM-F.pose\n",
      "First fallback path: /home/gomer/signbank_videos/OPRICHTEN-C.pose\n",
      "Second fallback path: /home/gomer/signbank_videos/OPRICHTEN-C.pose\n",
      "Skipping file (no pose data): OPRICHTEN-C.pose\n",
      "First fallback path: /home/gomer/signbank_videos/POSSIBILIZE.pose\n",
      "Second fallback path: /home/gomer/signbank_videos/POSSIBILIZE.pose\n",
      "Skipping file (no pose data): POSSIBILIZE.pose\n",
      "First fallback path: /home/gomer/signbank_videos/WORKSHOP.pose\n",
      "Second fallback path: /home/gomer/signbank_videos/WORKSHOP.pose\n",
      "Skipping file (no pose data): WORKSHOP.pose\n",
      "First fallback path: /home/gomer/signbank_videos/SAMENWERKEN-B.pose\n",
      "Second fallback path: /home/gomer/signbank_videos/SAMENWERKEN-B.pose\n",
      "Skipping file (no pose data): SAMENWERKEN-B.pose\n",
      "First fallback path: /home/gomer/signbank_videos/LINK.pose\n",
      "Second fallback path: /home/gomer/signbank_videos/LINK.pose\n",
      "Skipping file (no pose data): LINK.pose\n",
      "First fallback path: /home/gomer/signbank_videos/VALKUIL.pose\n",
      "Second fallback path: /home/gomer/signbank_videos/VALKUIL.pose\n",
      "Skipping file (no pose data): VALKUIL.pose\n",
      "First fallback path: /home/gomer/signbank_videos/IJDEL.pose\n",
      "Second fallback path: /home/gomer/signbank_videos/IJDEL.pose\n",
      "Skipping file (no pose data): IJDEL.pose\n",
      "First fallback path: /home/gomer/signbank_videos/SUBJECTIEF.pose\n",
      "Second fallback path: /home/gomer/signbank_videos/SUBJECTIEF.pose\n",
      "Skipping file (no pose data): SUBJECTIEF.pose\n",
      "First fallback path: /home/gomer/signbank_videos/DOORZETTEN-A.pose\n",
      "Second fallback path: /home/gomer/signbank_videos/DOORZETTEN-A.pose\n",
      "Skipping file (no pose data): DOORZETTEN-A.pose\n",
      "First fallback path: /home/gomer/signbank_videos/IDEAAL.pose\n",
      "Second fallback path: /home/gomer/signbank_videos/IDEAAL.pose\n",
      "Skipping file (no pose data): IDEAAL.pose\n",
      "First fallback path: /home/gomer/signbank_videos/INTROVERT.pose\n",
      "Second fallback path: /home/gomer/signbank_videos/INTROVERT.pose\n",
      "Skipping file (no pose data): INTROVERT.pose\n",
      "First fallback path: /home/gomer/signbank_videos/EXTRAVERT.pose\n",
      "Second fallback path: /home/gomer/signbank_videos/EXTRAVERT.pose\n",
      "Skipping file (no pose data): EXTRAVERT.pose\n",
      "First fallback path: /home/gomer/signbank_videos/DOORZETTEN-B.pose\n",
      "Second fallback path: /home/gomer/signbank_videos/DOORZETTEN-B.pose\n",
      "Skipping file (no pose data): DOORZETTEN-B.pose\n",
      "First fallback path: /home/gomer/signbank_videos/ACHTERDOCHTIG.pose\n",
      "Second fallback path: /home/gomer/signbank_videos/ACHTERDOCHTIG.pose\n",
      "Skipping file (no pose data): ACHTERDOCHTIG.pose\n",
      "First fallback path: /home/gomer/signbank_videos/GOEDGELOVIG.pose\n",
      "Second fallback path: /home/gomer/signbank_videos/GOEDGELOVIG.pose\n",
      "Skipping file (no pose data): GOEDGELOVIG.pose\n",
      "First fallback path: /home/gomer/signbank_videos/UITSTRALING-B.pose\n",
      "Second fallback path: /home/gomer/signbank_videos/UITSTRALING-B.pose\n",
      "Skipping file (no pose data): UITSTRALING-B.pose\n",
      "First fallback path: /home/gomer/signbank_videos/FLOSSEN.pose\n",
      "Second fallback path: /home/gomer/signbank_videos/FLOSSEN.pose\n",
      "Skipping file (no pose data): FLOSSEN.pose\n",
      "First fallback path: /home/gomer/signbank_videos/BOREN-C.pose\n",
      "Second fallback path: /home/gomer/signbank_videos/BOREN-C.pose\n",
      "Skipping file (no pose data): BOREN-C.pose\n",
      "First fallback path: /home/gomer/signbank_videos/GAATJE.pose\n",
      "Second fallback path: /home/gomer/signbank_videos/GAATJE.pose\n",
      "Skipping file (no pose data): GAATJE.pose\n",
      "First fallback path: /home/gomer/signbank_videos/TANDENKNARSEN.pose\n",
      "Second fallback path: /home/gomer/signbank_videos/TANDENKNARSEN.pose\n",
      "Skipping file (no pose data): TANDENKNARSEN.pose\n",
      "First fallback path: /home/gomer/signbank_videos/TANDENSTOKER.pose\n",
      "Second fallback path: /home/gomer/signbank_videos/TANDENSTOKER.pose\n",
      "Skipping file (no pose data): TANDENSTOKER.pose\n",
      "First fallback path: /home/gomer/signbank_videos/DUINRELL.pose\n",
      "Second fallback path: /home/gomer/signbank_videos/DUINRELL.pose\n",
      "Skipping file (no pose data): DUINRELL.pose\n",
      "First fallback path: /home/gomer/signbank_videos/WALIBI-WORLD.pose\n",
      "Second fallback path: /home/gomer/signbank_videos/WALIBI-WORLD.pose\n",
      "Skipping file (no pose data): WALIBI-WORLD.pose\n",
      "First fallback path: /home/gomer/signbank_videos/KERMIS-D.pose\n",
      "Second fallback path: /home/gomer/signbank_videos/KERMIS-D.pose\n",
      "Skipping file (no pose data): KERMIS-D.pose\n",
      "First fallback path: /home/gomer/signbank_videos/MIME.pose\n",
      "Second fallback path: /home/gomer/signbank_videos/MIME.pose\n",
      "Skipping file (no pose data): MIME.pose\n",
      "First fallback path: /home/gomer/signbank_videos/DIRIGENT.pose\n",
      "Second fallback path: /home/gomer/signbank_videos/DIRIGENT.pose\n",
      "Skipping file (no pose data): DIRIGENT.pose\n",
      "First fallback path: /home/gomer/signbank_videos/PROSECCO.pose\n",
      "Second fallback path: /home/gomer/signbank_videos/PROSECCO.pose\n",
      "Skipping file (no pose data): PROSECCO.pose\n",
      "First fallback path: /home/gomer/signbank_videos/KWARTIER-B.pose\n",
      "Second fallback path: /home/gomer/signbank_videos/KWARTIER-B.pose\n",
      "Skipping file (no pose data): KWARTIER-B.pose\n",
      "First fallback path: /home/gomer/signbank_videos/FLUISTEREN-C.pose\n",
      "Second fallback path: /home/gomer/signbank_videos/FLUISTEREN-C.pose\n",
      "Skipping file (no pose data): FLUISTEREN-C.pose\n",
      "First fallback path: /home/gomer/signbank_videos/PRATEN-M:1.pose\n",
      "Second fallback path: /home/gomer/signbank_videos/PRATEN-M:1.pose\n",
      "Skipping file (no pose data): PRATEN-M:1.pose\n",
      "First fallback path: /home/gomer/signbank_videos/HUMMUS-C.pose\n",
      "Second fallback path: /home/gomer/signbank_videos/HUMMUS-C.pose\n",
      "Skipping file (no pose data): HUMMUS-C.pose\n",
      "First fallback path: /home/gomer/signbank_videos/PROEVERIJ.pose\n",
      "Second fallback path: /home/gomer/signbank_videos/PROEVERIJ.pose\n",
      "Skipping file (no pose data): PROEVERIJ.pose\n"
     ]
    },
    {
     "name": "stderr",
     "output_type": "stream",
     "text": [
      "Processing pose files:  88%|████████▊ | 4946/5604 [02:18<00:11, 59.68it/s] "
     ]
    },
    {
     "name": "stdout",
     "output_type": "stream",
     "text": [
      "First fallback path: /home/gomer/signbank_videos/GAZA.pose\n",
      "Second fallback path: /home/gomer/signbank_videos/GAZA.pose\n",
      "Skipping file (no pose data): GAZA.pose\n",
      "First fallback path: /home/gomer/signbank_videos/MALEDIVEN.pose\n",
      "Second fallback path: /home/gomer/signbank_videos/MALEDIVEN.pose\n",
      "Skipping file (no pose data): MALEDIVEN.pose\n",
      "First fallback path: /home/gomer/signbank_videos/MILAAN.pose\n",
      "Second fallback path: /home/gomer/signbank_videos/MILAAN.pose\n",
      "Skipping file (no pose data): MILAAN.pose\n",
      "First fallback path: /home/gomer/signbank_videos/FLORENCE.pose\n",
      "Second fallback path: /home/gomer/signbank_videos/FLORENCE.pose\n",
      "Skipping file (no pose data): FLORENCE.pose\n",
      "First fallback path: /home/gomer/signbank_videos/VERONA.pose\n",
      "Second fallback path: /home/gomer/signbank_videos/VERONA.pose\n",
      "Skipping file (no pose data): VERONA.pose\n",
      "First fallback path: /home/gomer/signbank_videos/NAPELS.pose\n",
      "Second fallback path: /home/gomer/signbank_videos/NAPELS.pose\n",
      "Skipping file (no pose data): NAPELS.pose\n",
      "First fallback path: /home/gomer/signbank_videos/TURIJN.pose\n",
      "Second fallback path: /home/gomer/signbank_videos/TURIJN.pose\n",
      "Skipping file (no pose data): TURIJN.pose\n",
      "First fallback path: /home/gomer/signbank_videos/VENLO.pose\n",
      "Second fallback path: /home/gomer/signbank_videos/VENLO.pose\n",
      "Skipping file (no pose data): VENLO.pose\n",
      "First fallback path: /home/gomer/signbank_videos/EMMEN-B.pose\n",
      "Second fallback path: /home/gomer/signbank_videos/EMMEN-B.pose\n",
      "Skipping file (no pose data): EMMEN-B.pose\n",
      "First fallback path: /home/gomer/signbank_videos/TOSCANE.pose\n",
      "Second fallback path: /home/gomer/signbank_videos/TOSCANE.pose\n",
      "Skipping file (no pose data): TOSCANE.pose\n",
      "First fallback path: /home/gomer/signbank_videos/ISTANBUL.pose\n",
      "Second fallback path: /home/gomer/signbank_videos/ISTANBUL.pose\n",
      "Skipping file (no pose data): ISTANBUL.pose\n",
      "First fallback path: /home/gomer/signbank_videos/MAUI.pose\n",
      "Second fallback path: /home/gomer/signbank_videos/MAUI.pose\n",
      "Skipping file (no pose data): MAUI.pose\n",
      "First fallback path: /home/gomer/signbank_videos/SOEDAN.pose\n",
      "Second fallback path: /home/gomer/signbank_videos/SOEDAN.pose\n",
      "Skipping file (no pose data): SOEDAN.pose\n"
     ]
    },
    {
     "name": "stderr",
     "output_type": "stream",
     "text": [
      "Processing pose files:  90%|█████████ | 5050/5604 [02:20<00:05, 110.63it/s]"
     ]
    },
    {
     "name": "stdout",
     "output_type": "stream",
     "text": [
      "First fallback path: /home/gomer/signbank_videos/AAMBEELD.pose\n",
      "Second fallback path: /home/gomer/signbank_videos/AAMBEELD.pose\n",
      "Skipping file (no pose data): AAMBEELD.pose\n",
      "First fallback path: /home/gomer/signbank_videos/DE-HORTUS.pose\n",
      "Second fallback path: /home/gomer/signbank_videos/DE-HORTUS.pose\n",
      "Skipping file (no pose data): DE-HORTUS.pose\n",
      "First fallback path: /home/gomer/signbank_videos/PIANO-B.pose\n",
      "Second fallback path: /home/gomer/signbank_videos/PIANO-B.pose\n",
      "Skipping file (no pose data): PIANO-B.pose\n",
      "First fallback path: /home/gomer/signbank_videos/DIRIGEREN.pose\n",
      "Second fallback path: /home/gomer/signbank_videos/DIRIGEREN.pose\n",
      "Skipping file (no pose data): DIRIGEREN.pose\n",
      "First fallback path: /home/gomer/signbank_videos/CRISTIANO-RONALDO.pose\n",
      "Second fallback path: /home/gomer/signbank_videos/CRISTIANO-RONALDO.pose\n",
      "Skipping file (no pose data): CRISTIANO-RONALDO.pose\n",
      "First fallback path: /home/gomer/signbank_videos/LIONEL-MESSI.pose\n",
      "Second fallback path: /home/gomer/signbank_videos/LIONEL-MESSI.pose\n",
      "Skipping file (no pose data): LIONEL-MESSI.pose\n",
      "First fallback path: /home/gomer/signbank_videos/RONALDO.pose\n",
      "Second fallback path: /home/gomer/signbank_videos/RONALDO.pose\n",
      "Skipping file (no pose data): RONALDO.pose\n",
      "First fallback path: /home/gomer/signbank_videos/RONALDINHO.pose\n",
      "Second fallback path: /home/gomer/signbank_videos/RONALDINHO.pose\n",
      "Skipping file (no pose data): RONALDINHO.pose\n",
      "First fallback path: /home/gomer/signbank_videos/MAX-VERSTAPPEN.pose\n",
      "Second fallback path: /home/gomer/signbank_videos/MAX-VERSTAPPEN.pose\n",
      "Skipping file (no pose data): MAX-VERSTAPPEN.pose\n",
      "First fallback path: /home/gomer/signbank_videos/TOBIAS-DE-RONDE.pose\n",
      "Second fallback path: /home/gomer/signbank_videos/TOBIAS-DE-RONDE.pose\n",
      "Skipping file (no pose data): TOBIAS-DE-RONDE.pose\n",
      "First fallback path: /home/gomer/signbank_videos/SOFONISBA-ANGUISSOLA.pose\n",
      "Second fallback path: /home/gomer/signbank_videos/SOFONISBA-ANGUISSOLA.pose\n",
      "Skipping file (no pose data): SOFONISBA-ANGUISSOLA.pose\n",
      "First fallback path: /home/gomer/signbank_videos/WILLIAM-STOKOE.pose\n",
      "Second fallback path: /home/gomer/signbank_videos/WILLIAM-STOKOE.pose\n",
      "Skipping file (no pose data): WILLIAM-STOKOE.pose\n",
      "First fallback path: /home/gomer/signbank_videos/SAM-PATTIPEILUHU.pose\n",
      "Second fallback path: /home/gomer/signbank_videos/SAM-PATTIPEILUHU.pose\n",
      "Skipping file (no pose data): SAM-PATTIPEILUHU.pose\n",
      "First fallback path: /home/gomer/signbank_videos/ABBE-CHARLES-MICHEL-DE-LEPEE.pose\n",
      "Second fallback path: /home/gomer/signbank_videos/ABBE-CHARLES-MICHEL-DE-LEPEE.pose\n",
      "Skipping file (no pose data): ABBE-CHARLES-MICHEL-DE-LEPEE.pose\n",
      "First fallback path: /home/gomer/signbank_videos/GIANNI-VERSACE.pose\n",
      "Second fallback path: /home/gomer/signbank_videos/GIANNI-VERSACE.pose\n",
      "Skipping file (no pose data): GIANNI-VERSACE.pose\n",
      "First fallback path: /home/gomer/signbank_videos/ANTONI-GAUDÍ.pose\n",
      "Second fallback path: /home/gomer/signbank_videos/ANTONI-GAUDÍ.pose\n",
      "Skipping file (no pose data): ANTONI-GAUDÍ.pose\n",
      "First fallback path: /home/gomer/signbank_videos/DISNEY-C.pose\n",
      "Second fallback path: /home/gomer/signbank_videos/DISNEY-C.pose\n",
      "Skipping file (no pose data): DISNEY-C.pose\n",
      "First fallback path: /home/gomer/signbank_videos/DISNEY-D.pose\n",
      "Second fallback path: /home/gomer/signbank_videos/DISNEY-D.pose\n",
      "Skipping file (no pose data): DISNEY-D.pose\n",
      "First fallback path: /home/gomer/signbank_videos/AANVALLEN-ELKAAR-C.pose\n",
      "Second fallback path: /home/gomer/signbank_videos/AANVALLEN-ELKAAR-C.pose\n",
      "Skipping file (no pose data): AANVALLEN-ELKAAR-C.pose\n",
      "First fallback path: /home/gomer/signbank_videos/AANVALLEN-ELKAAR-C:1.pose\n",
      "Second fallback path: /home/gomer/signbank_videos/AANVALLEN-ELKAAR-C:1.pose\n",
      "Skipping file (no pose data): AANVALLEN-ELKAAR-C:1.pose\n",
      "First fallback path: /home/gomer/signbank_videos/SCHMINKEN-B.pose\n",
      "Second fallback path: /home/gomer/signbank_videos/SCHMINKEN-B.pose\n",
      "Skipping file (no pose data): SCHMINKEN-B.pose\n",
      "First fallback path: /home/gomer/signbank_videos/DIEGO-MARADONA.pose\n",
      "Second fallback path: /home/gomer/signbank_videos/DIEGO-MARADONA.pose\n",
      "Skipping file (no pose data): DIEGO-MARADONA.pose\n",
      "First fallback path: /home/gomer/signbank_videos/WESLEY-SNEIJDER.pose\n",
      "Second fallback path: /home/gomer/signbank_videos/WESLEY-SNEIJDER.pose\n",
      "Skipping file (no pose data): WESLEY-SNEIJDER.pose\n",
      "First fallback path: /home/gomer/signbank_videos/ROBIN-VAN-PERSIE.pose\n",
      "Second fallback path: /home/gomer/signbank_videos/ROBIN-VAN-PERSIE.pose\n",
      "Skipping file (no pose data): ROBIN-VAN-PERSIE.pose\n",
      "First fallback path: /home/gomer/signbank_videos/ZLATAN-IBRAHIMOVIC.pose\n",
      "Second fallback path: /home/gomer/signbank_videos/ZLATAN-IBRAHIMOVIC.pose\n",
      "Skipping file (no pose data): ZLATAN-IBRAHIMOVIC.pose\n",
      "First fallback path: /home/gomer/signbank_videos/DOWNLOADEN-C.pose\n",
      "Second fallback path: /home/gomer/signbank_videos/DOWNLOADEN-C.pose\n",
      "Skipping file (no pose data): DOWNLOADEN-C.pose\n",
      "First fallback path: /home/gomer/signbank_videos/DOWNLOADEN-D.pose\n",
      "Second fallback path: /home/gomer/signbank_videos/DOWNLOADEN-D.pose\n",
      "Skipping file (no pose data): DOWNLOADEN-D.pose\n",
      "First fallback path: /home/gomer/signbank_videos/KNIPPEN-E.pose\n",
      "Second fallback path: /home/gomer/signbank_videos/KNIPPEN-E.pose\n",
      "Skipping file (no pose data): KNIPPEN-E.pose\n",
      "First fallback path: /home/gomer/signbank_videos/KYLIAN-MBAPPE.pose\n",
      "Second fallback path: /home/gomer/signbank_videos/KYLIAN-MBAPPE.pose\n",
      "Skipping file (no pose data): KYLIAN-MBAPPE.pose\n",
      "First fallback path: /home/gomer/signbank_videos/ZINEDINE-ZIDANE.pose\n",
      "Second fallback path: /home/gomer/signbank_videos/ZINEDINE-ZIDANE.pose\n",
      "Skipping file (no pose data): ZINEDINE-ZIDANE.pose\n",
      "First fallback path: /home/gomer/signbank_videos/SLAVERNIJ.pose\n",
      "Second fallback path: /home/gomer/signbank_videos/SLAVERNIJ.pose\n",
      "Skipping file (no pose data): SLAVERNIJ.pose\n",
      "First fallback path: /home/gomer/signbank_videos/NAZI-C.pose\n",
      "Second fallback path: /home/gomer/signbank_videos/NAZI-C.pose\n",
      "Skipping file (no pose data): NAZI-C.pose\n",
      "First fallback path: /home/gomer/signbank_videos/SLACHTOFFER.pose\n",
      "Second fallback path: /home/gomer/signbank_videos/SLACHTOFFER.pose\n",
      "Skipping file (no pose data): SLACHTOFFER.pose\n",
      "First fallback path: /home/gomer/signbank_videos/TURKOOIS.pose\n",
      "Second fallback path: /home/gomer/signbank_videos/TURKOOIS.pose\n",
      "Skipping file (no pose data): TURKOOIS.pose\n",
      "First fallback path: /home/gomer/signbank_videos/7.ORD-A.pose\n",
      "Second fallback path: /home/gomer/signbank_videos/7.ORD-A.pose\n",
      "Skipping file (no pose data): 7.ORD-A.pose\n",
      "First fallback path: /home/gomer/signbank_videos/8.ORD-A.pose\n",
      "Second fallback path: /home/gomer/signbank_videos/8.ORD-A.pose\n",
      "Skipping file (no pose data): 8.ORD-A.pose\n",
      "First fallback path: /home/gomer/signbank_videos/9.ORD-A.pose\n",
      "Second fallback path: /home/gomer/signbank_videos/9.ORD-A.pose\n",
      "Skipping file (no pose data): 9.ORD-A.pose\n"
     ]
    },
    {
     "name": "stderr",
     "output_type": "stream",
     "text": [
      "Processing pose files:  91%|█████████ | 5089/5604 [02:21<00:06, 85.76it/s] "
     ]
    },
    {
     "name": "stdout",
     "output_type": "stream",
     "text": [
      "First fallback path: /home/gomer/signbank_videos/7.ORD-C.pose\n",
      "Second fallback path: /home/gomer/signbank_videos/7.ORD-C.pose\n",
      "Skipping file (no pose data): 7.ORD-C.pose\n",
      "First fallback path: /home/gomer/signbank_videos/8.ORD-C.pose\n",
      "Second fallback path: /home/gomer/signbank_videos/8.ORD-C.pose\n",
      "Skipping file (no pose data): 8.ORD-C.pose\n",
      "First fallback path: /home/gomer/signbank_videos/9.ORD-C.pose\n",
      "Second fallback path: /home/gomer/signbank_videos/9.ORD-C.pose\n",
      "Skipping file (no pose data): 9.ORD-C.pose\n",
      "First fallback path: /home/gomer/signbank_videos/SAMEN+2.B.pose\n",
      "Second fallback path: /home/gomer/signbank_videos/SAMEN+2.B.pose\n",
      "Skipping file (no pose data): SAMEN+2-B.pose\n",
      "First fallback path: /home/gomer/signbank_videos/SAMEN+3.B.pose\n",
      "Second fallback path: /home/gomer/signbank_videos/SAMEN+3.B.pose\n",
      "Skipping file (no pose data): SAMEN+3-B.pose\n",
      "First fallback path: /home/gomer/signbank_videos/SAMEN+4.B.pose\n",
      "Second fallback path: /home/gomer/signbank_videos/SAMEN+4.B.pose\n",
      "Skipping file (no pose data): SAMEN+4-B.pose\n",
      "First fallback path: /home/gomer/signbank_videos/SAMEN+5.B.pose\n",
      "Second fallback path: /home/gomer/signbank_videos/SAMEN+5.B.pose\n",
      "Skipping file (no pose data): SAMEN+5-B.pose\n",
      "First fallback path: /home/gomer/signbank_videos/RISICO-B.pose\n",
      "Second fallback path: /home/gomer/signbank_videos/RISICO-B.pose\n",
      "Skipping file (no pose data): RISICO-B.pose\n",
      "First fallback path: /home/gomer/signbank_videos/ZWIJGEN-C.pose\n",
      "Second fallback path: /home/gomer/signbank_videos/ZWIJGEN-C.pose\n",
      "Skipping file (no pose data): ZWIJGEN-C.pose\n",
      "First fallback path: /home/gomer/signbank_videos/TERUGKIJKEN.pose\n",
      "Second fallback path: /home/gomer/signbank_videos/TERUGKIJKEN.pose\n",
      "Skipping file (no pose data): TERUGKIJKEN.pose\n",
      "First fallback path: /home/gomer/signbank_videos/STRAK-B.pose\n",
      "Second fallback path: /home/gomer/signbank_videos/STRAK-B.pose\n",
      "Skipping file (no pose data): STRAK-B.pose\n",
      "First fallback path: /home/gomer/signbank_videos/STRAK-A.pose\n",
      "Second fallback path: /home/gomer/signbank_videos/STRAK-A.pose\n",
      "Skipping file (no pose data): STRAK-A.pose\n",
      "First fallback path: /home/gomer/signbank_videos/MUTESOUNDS.pose\n",
      "Second fallback path: /home/gomer/signbank_videos/MUTESOUNDS.pose\n",
      "Skipping file (no pose data): MUTESOUNDS.pose\n",
      "First fallback path: /home/gomer/signbank_videos/RAKET.pose\n",
      "Second fallback path: /home/gomer/signbank_videos/RAKET.pose\n",
      "Skipping file (no pose data): RAKET.pose\n",
      "First fallback path: /home/gomer/signbank_videos/THALYS.pose\n",
      "Second fallback path: /home/gomer/signbank_videos/THALYS.pose\n",
      "Skipping file (no pose data): THALYS.pose\n",
      "First fallback path: /home/gomer/signbank_videos/KNIPOOG.pose\n",
      "Second fallback path: /home/gomer/signbank_videos/KNIPOOG.pose\n",
      "Skipping file (no pose data): KNIPOOG.pose\n",
      "First fallback path: /home/gomer/signbank_videos/ZINGEN.pose\n",
      "Second fallback path: /home/gomer/signbank_videos/ZINGEN.pose\n",
      "Skipping file (no pose data): ZINGEN.pose\n",
      "First fallback path: /home/gomer/signbank_videos/PRAGMATIEK.pose\n",
      "Second fallback path: /home/gomer/signbank_videos/PRAGMATIEK.pose\n",
      "Skipping file (no pose data): PRAGMATIEK.pose\n",
      "First fallback path: /home/gomer/signbank_videos/VERBINDING.pose\n",
      "Second fallback path: /home/gomer/signbank_videos/VERBINDING.pose\n",
      "Skipping file (no pose data): VERBINDING.pose\n"
     ]
    },
    {
     "name": "stderr",
     "output_type": "stream",
     "text": [
      "Processing pose files:  91%|█████████ | 5099/5604 [02:21<00:06, 72.79it/s]"
     ]
    },
    {
     "name": "stdout",
     "output_type": "stream",
     "text": [
      "First fallback path: /home/gomer/signbank_videos/TERUG-B.pose\n",
      "Second fallback path: /home/gomer/signbank_videos/TERUG-B.pose\n",
      "Skipping file (no pose data): TERUG-B.pose\n",
      "First fallback path: /home/gomer/signbank_videos/ZELDZAAM-B.pose\n",
      "Second fallback path: /home/gomer/signbank_videos/ZELDZAAM-B.pose\n",
      "Skipping file (no pose data): ZELDZAAM-B.pose\n",
      "First fallback path: /home/gomer/signbank_videos/HADJ.pose\n",
      "Second fallback path: /home/gomer/signbank_videos/HADJ.pose\n",
      "Skipping file (no pose data): HADJ.pose\n",
      "First fallback path: /home/gomer/signbank_videos/SAUDI-ARABIE.pose\n",
      "Second fallback path: /home/gomer/signbank_videos/SAUDI-ARABIE.pose\n",
      "Skipping file (no pose data): SAUDI-ARABIE.pose\n",
      "First fallback path: /home/gomer/signbank_videos/TIMMEREN-B.pose\n",
      "Second fallback path: /home/gomer/signbank_videos/TIMMEREN-B.pose\n",
      "Skipping file (no pose data): TIMMEREN-B.pose\n",
      "First fallback path: /home/gomer/signbank_videos/MAN-D.pose\n",
      "Second fallback path: /home/gomer/signbank_videos/MAN-D.pose\n",
      "Skipping file (no pose data): MAN-D.pose\n",
      "First fallback path: /home/gomer/signbank_videos/TALENT-B.pose\n",
      "Second fallback path: /home/gomer/signbank_videos/TALENT-B.pose\n",
      "Skipping file (no pose data): TALENT-B.pose\n",
      "First fallback path: /home/gomer/signbank_videos/EUROPA-D.pose\n",
      "Second fallback path: /home/gomer/signbank_videos/EUROPA-D.pose\n",
      "Skipping file (no pose data): EUROPA-D.pose\n",
      "First fallback path: /home/gomer/signbank_videos/EUROPA-E.pose\n",
      "Second fallback path: /home/gomer/signbank_videos/EUROPA-E.pose\n",
      "Skipping file (no pose data): EUROPA-E.pose\n",
      "First fallback path: /home/gomer/signbank_videos/EUROPA-F.pose\n",
      "Second fallback path: /home/gomer/signbank_videos/EUROPA-F.pose\n",
      "Skipping file (no pose data): EUROPA-F.pose\n",
      "First fallback path: /home/gomer/signbank_videos/SCHISIS.pose\n",
      "Second fallback path: /home/gomer/signbank_videos/SCHISIS.pose\n",
      "Skipping file (no pose data): SCHISIS.pose\n"
     ]
    },
    {
     "name": "stderr",
     "output_type": "stream",
     "text": [
      "Processing pose files:  91%|█████████▏| 5120/5604 [02:21<00:06, 71.69it/s]"
     ]
    },
    {
     "name": "stdout",
     "output_type": "stream",
     "text": [
      "First fallback path: /home/gomer/signbank_videos/ROOS-A.pose\n",
      "Second fallback path: /home/gomer/signbank_videos/ROOS-A.pose\n",
      "Skipping file (no pose data): ROOS-A.pose\n",
      "First fallback path: /home/gomer/signbank_videos/STAREN.pose\n",
      "Second fallback path: /home/gomer/signbank_videos/STAREN.pose\n",
      "Skipping file (no pose data): STAREN.pose\n",
      "First fallback path: /home/gomer/signbank_videos/QUARANTAINE.pose\n",
      "Second fallback path: /home/gomer/signbank_videos/QUARANTAINE.pose\n",
      "Skipping file (no pose data): QUARANTAINE.pose\n"
     ]
    },
    {
     "name": "stderr",
     "output_type": "stream",
     "text": [
      "Processing pose files:  92%|█████████▏| 5152/5604 [02:22<00:04, 95.58it/s]"
     ]
    },
    {
     "name": "stdout",
     "output_type": "stream",
     "text": [
      "First fallback path: /home/gomer/signbank_videos/KNUFFEL.pose\n",
      "Second fallback path: /home/gomer/signbank_videos/KNUFFEL.pose\n",
      "Skipping file (no pose data): KNUFFEL.pose\n",
      "First fallback path: /home/gomer/signbank_videos/PLAATS-B.pose\n",
      "Second fallback path: /home/gomer/signbank_videos/PLAATS-B.pose\n",
      "Skipping file (no pose data): PLAATS-B.pose\n",
      "First fallback path: /home/gomer/signbank_videos/ZIRYAB.pose\n",
      "Second fallback path: /home/gomer/signbank_videos/ZIRYAB.pose\n",
      "Skipping file (no pose data): ZIRYAB.pose\n",
      "First fallback path: /home/gomer/signbank_videos/BEURTWISSELING-A.pose\n",
      "Second fallback path: /home/gomer/signbank_videos/BEURTWISSELING-A.pose\n",
      "Skipping file (no pose data): BEURTWISSELING-A.pose\n",
      "First fallback path: /home/gomer/signbank_videos/BEURTWISSELING-B.pose\n",
      "Second fallback path: /home/gomer/signbank_videos/BEURTWISSELING-B.pose\n",
      "Skipping file (no pose data): BEURTWISSELING-B.pose\n",
      "First fallback path: /home/gomer/signbank_videos/SIENA.pose\n",
      "Second fallback path: /home/gomer/signbank_videos/SIENA.pose\n",
      "Skipping file (no pose data): SIENA.pose\n",
      "First fallback path: /home/gomer/signbank_videos/MEERN.pose\n",
      "Second fallback path: /home/gomer/signbank_videos/MEERN.pose\n",
      "Skipping file (no pose data): MEERN.pose\n",
      "First fallback path: /home/gomer/signbank_videos/MAARSSEN.pose\n",
      "Second fallback path: /home/gomer/signbank_videos/MAARSSEN.pose\n",
      "Skipping file (no pose data): MAARSSEN.pose\n",
      "First fallback path: /home/gomer/signbank_videos/SUDO.pose\n",
      "Second fallback path: /home/gomer/signbank_videos/SUDO.pose\n",
      "Skipping file (no pose data): SUDO.pose\n",
      "First fallback path: /home/gomer/signbank_videos/ROZEMARIJN.pose\n",
      "Second fallback path: /home/gomer/signbank_videos/ROZEMARIJN.pose\n",
      "Skipping file (no pose data): ROZEMARIJN.pose\n",
      "First fallback path: /home/gomer/signbank_videos/MUZIEK-C.pose\n",
      "Second fallback path: /home/gomer/signbank_videos/MUZIEK-C.pose\n",
      "Skipping file (no pose data): MUZIEK-C.pose\n",
      "First fallback path: /home/gomer/signbank_videos/DOWN-B.pose\n",
      "Second fallback path: /home/gomer/signbank_videos/DOWN-B.pose\n",
      "Skipping file (no pose data): DOWN-B.pose\n",
      "First fallback path: /home/gomer/signbank_videos/POLYAMORIE.pose\n",
      "Second fallback path: /home/gomer/signbank_videos/POLYAMORIE.pose\n",
      "Skipping file (no pose data): POLYAMORIE.pose\n",
      "First fallback path: /home/gomer/signbank_videos/VINDEN-C.pose\n",
      "Second fallback path: /home/gomer/signbank_videos/VINDEN-C.pose\n",
      "Skipping file (no pose data): VINDEN-C.pose\n",
      "First fallback path: /home/gomer/signbank_videos/ONGELUK-D.pose\n",
      "Second fallback path: /home/gomer/signbank_videos/ONGELUK-D.pose\n",
      "Skipping file (no pose data): ONGELUK-D.pose\n",
      "First fallback path: /home/gomer/signbank_videos/NACHTMERRIE.pose\n",
      "Second fallback path: /home/gomer/signbank_videos/NACHTMERRIE.pose\n",
      "Skipping file (no pose data): NACHTMERRIE.pose\n",
      "First fallback path: /home/gomer/signbank_videos/ONGEDULDIG.pose\n",
      "Second fallback path: /home/gomer/signbank_videos/ONGEDULDIG.pose\n",
      "Skipping file (no pose data): ONGEDULDIG.pose\n",
      "First fallback path: /home/gomer/signbank_videos/ARM-C.pose\n",
      "Second fallback path: /home/gomer/signbank_videos/ARM-C.pose\n",
      "Skipping file (no pose data): ARM-C.pose\n",
      "First fallback path: /home/gomer/signbank_videos/ERG-F.pose\n",
      "Second fallback path: /home/gomer/signbank_videos/ERG-F.pose\n",
      "Skipping file (no pose data): ERG-F.pose\n",
      "First fallback path: /home/gomer/signbank_videos/MOSKEE.pose\n",
      "Second fallback path: /home/gomer/signbank_videos/MOSKEE.pose\n",
      "Skipping file (no pose data): MOSKEE.pose\n",
      "First fallback path: /home/gomer/signbank_videos/IMAM.pose\n",
      "Second fallback path: /home/gomer/signbank_videos/IMAM.pose\n",
      "Skipping file (no pose data): IMAM.pose\n",
      "First fallback path: /home/gomer/signbank_videos/VASTEN.pose\n",
      "Second fallback path: /home/gomer/signbank_videos/VASTEN.pose\n",
      "Skipping file (no pose data): VASTEN.pose\n",
      "First fallback path: /home/gomer/signbank_videos/TEKENEN-E.pose\n",
      "Second fallback path: /home/gomer/signbank_videos/TEKENEN-E.pose\n",
      "Skipping file (no pose data): TEKENEN-E.pose\n",
      "First fallback path: /home/gomer/signbank_videos/SAXOFOON.pose\n",
      "Second fallback path: /home/gomer/signbank_videos/SAXOFOON.pose\n",
      "Skipping file (no pose data): SAXOFOON.pose\n",
      "First fallback path: /home/gomer/signbank_videos/CONCERT.pose\n",
      "Second fallback path: /home/gomer/signbank_videos/CONCERT.pose\n",
      "Skipping file (no pose data): CONCERT.pose\n",
      "First fallback path: /home/gomer/signbank_videos/CELLO.pose\n",
      "Second fallback path: /home/gomer/signbank_videos/CELLO.pose\n",
      "Skipping file (no pose data): CELLO.pose\n",
      "First fallback path: /home/gomer/signbank_videos/PARADE.pose\n",
      "Second fallback path: /home/gomer/signbank_videos/PARADE.pose\n",
      "Skipping file (no pose data): PARADE.pose\n",
      "First fallback path: /home/gomer/signbank_videos/OPERA.pose\n",
      "Second fallback path: /home/gomer/signbank_videos/OPERA.pose\n",
      "Skipping file (no pose data): OPERA.pose\n",
      "First fallback path: /home/gomer/signbank_videos/METAL.pose\n",
      "Second fallback path: /home/gomer/signbank_videos/METAL.pose\n",
      "Skipping file (no pose data): METAL.pose\n",
      "First fallback path: /home/gomer/signbank_videos/BREAKDANCE.pose\n",
      "Second fallback path: /home/gomer/signbank_videos/BREAKDANCE.pose\n",
      "Skipping file (no pose data): BREAKDANCE.pose\n",
      "First fallback path: /home/gomer/signbank_videos/OP-E.pose\n",
      "Second fallback path: /home/gomer/signbank_videos/OP-E.pose\n",
      "Skipping file (no pose data): OP-E.pose\n",
      "First fallback path: /home/gomer/signbank_videos/SNACK.pose\n",
      "Second fallback path: /home/gomer/signbank_videos/SNACK.pose\n",
      "Skipping file (no pose data): SNACK.pose\n",
      "First fallback path: /home/gomer/signbank_videos/MODEL-D.pose\n",
      "Second fallback path: /home/gomer/signbank_videos/MODEL-D.pose\n",
      "Skipping file (no pose data): MODEL-D.pose\n",
      "First fallback path: /home/gomer/signbank_videos/NOORD-KOREA-A.pose\n",
      "Second fallback path: /home/gomer/signbank_videos/NOORD-KOREA-A.pose\n",
      "Skipping file (no pose data): NOORD-KOREA-A.pose\n",
      "First fallback path: /home/gomer/signbank_videos/SPITS-B.pose\n",
      "Second fallback path: /home/gomer/signbank_videos/SPITS-B.pose\n",
      "Skipping file (no pose data): SPITS-B.pose\n",
      "First fallback path: /home/gomer/signbank_videos/STRAFSCHOP.pose\n",
      "Second fallback path: /home/gomer/signbank_videos/STRAFSCHOP.pose\n",
      "Skipping file (no pose data): STRAFSCHOP.pose\n",
      "First fallback path: /home/gomer/signbank_videos/NOORD.pose\n",
      "Second fallback path: /home/gomer/signbank_videos/NOORD.pose\n",
      "Skipping file (no pose data): NOORD.pose\n",
      "First fallback path: /home/gomer/signbank_videos/GLIJZEIL.pose\n",
      "Second fallback path: /home/gomer/signbank_videos/GLIJZEIL.pose\n",
      "Skipping file (no pose data): GLIJZEIL.pose\n",
      "First fallback path: /home/gomer/signbank_videos/INSULINE.pose\n",
      "Second fallback path: /home/gomer/signbank_videos/INSULINE.pose\n",
      "Skipping file (no pose data): INSULINE.pose\n",
      "First fallback path: /home/gomer/signbank_videos/BALLON-B.pose\n",
      "Second fallback path: /home/gomer/signbank_videos/BALLON-B.pose\n",
      "Skipping file (no pose data): BALLON-B.pose\n",
      "First fallback path: /home/gomer/signbank_videos/BOETE-B.pose\n",
      "Second fallback path: /home/gomer/signbank_videos/BOETE-B.pose\n",
      "Skipping file (no pose data): BOETE-B.pose\n",
      "First fallback path: /home/gomer/signbank_videos/STRIP-B.pose\n",
      "Second fallback path: /home/gomer/signbank_videos/STRIP-B.pose\n",
      "Skipping file (no pose data): STRIP-B.pose\n",
      "First fallback path: /home/gomer/signbank_videos/KABOUTER-C.pose\n",
      "Second fallback path: /home/gomer/signbank_videos/KABOUTER-C.pose\n",
      "Skipping file (no pose data): KABOUTER-C.pose\n",
      "First fallback path: /home/gomer/signbank_videos/MOTOR-B.pose\n",
      "Second fallback path: /home/gomer/signbank_videos/MOTOR-B.pose\n",
      "Skipping file (no pose data): MOTOR-B.pose\n",
      "First fallback path: /home/gomer/signbank_videos/VERKEER-B.pose\n",
      "Second fallback path: /home/gomer/signbank_videos/VERKEER-B.pose\n",
      "Skipping file (no pose data): VERKEER-B.pose\n"
     ]
    },
    {
     "name": "stderr",
     "output_type": "stream",
     "text": [
      "Processing pose files:  93%|█████████▎| 5198/5604 [02:22<00:02, 174.28it/s]"
     ]
    },
    {
     "name": "stdout",
     "output_type": "stream",
     "text": [
      "First fallback path: /home/gomer/signbank_videos/DRIEHOEK-B.pose\n",
      "Second fallback path: /home/gomer/signbank_videos/DRIEHOEK-B.pose\n",
      "Skipping file (no pose data): DRIEHOEK-B.pose\n",
      "First fallback path: /home/gomer/signbank_videos/STOEP-B.pose\n",
      "Second fallback path: /home/gomer/signbank_videos/STOEP-B.pose\n",
      "Skipping file (no pose data): STOEP-B.pose\n",
      "First fallback path: /home/gomer/signbank_videos/ONGELUK-C.pose\n",
      "Second fallback path: /home/gomer/signbank_videos/ONGELUK-C.pose\n",
      "Skipping file (no pose data): ONGELUK-C.pose\n",
      "First fallback path: /home/gomer/signbank_videos/BROMMER-A.pose\n",
      "Second fallback path: /home/gomer/signbank_videos/BROMMER-A.pose\n",
      "Skipping file (no pose data): BROMMER-A.pose\n",
      "First fallback path: /home/gomer/signbank_videos/STAD-D.pose\n",
      "Second fallback path: /home/gomer/signbank_videos/STAD-D.pose\n",
      "Skipping file (no pose data): STAD-D.pose\n",
      "First fallback path: /home/gomer/signbank_videos/DRUK-C.pose\n",
      "Second fallback path: /home/gomer/signbank_videos/DRUK-C.pose\n",
      "Skipping file (no pose data): DRUK-C.pose\n",
      "First fallback path: /home/gomer/signbank_videos/PARKEREN-C.pose\n",
      "Second fallback path: /home/gomer/signbank_videos/PARKEREN-C.pose\n",
      "Skipping file (no pose data): PARKEREN-C.pose\n",
      "First fallback path: /home/gomer/signbank_videos/FILE-B.pose\n",
      "Second fallback path: /home/gomer/signbank_videos/FILE-B.pose\n",
      "Skipping file (no pose data): FILE-B.pose\n",
      "First fallback path: /home/gomer/signbank_videos/STOPPEN-AUTO.pose\n",
      "Second fallback path: /home/gomer/signbank_videos/STOPPEN-AUTO.pose\n",
      "Skipping file (no pose data): STOPPEN-AUTO.pose\n",
      "First fallback path: /home/gomer/signbank_videos/ALL-INCLUSIVE.pose\n",
      "Second fallback path: /home/gomer/signbank_videos/ALL-INCLUSIVE.pose\n",
      "Skipping file (no pose data): ALL-INCLUSIVE.pose\n",
      "First fallback path: /home/gomer/signbank_videos/FONEEM.pose\n",
      "Second fallback path: /home/gomer/signbank_videos/FONEEM.pose\n",
      "Skipping file (no pose data): FONEEM.pose\n",
      "First fallback path: /home/gomer/signbank_videos/MORFEEM.pose\n",
      "Second fallback path: /home/gomer/signbank_videos/MORFEEM.pose\n",
      "Skipping file (no pose data): MORFEEM.pose\n",
      "First fallback path: /home/gomer/signbank_videos/CLASSIFIER.pose\n",
      "Second fallback path: /home/gomer/signbank_videos/CLASSIFIER.pose\n",
      "Skipping file (no pose data): CLASSIFIER.pose\n",
      "First fallback path: /home/gomer/signbank_videos/ICONISCH.pose\n",
      "Second fallback path: /home/gomer/signbank_videos/ICONISCH.pose\n",
      "Skipping file (no pose data): ICONISCH.pose\n",
      "First fallback path: /home/gomer/signbank_videos/SAMENSTELLING.pose\n",
      "Second fallback path: /home/gomer/signbank_videos/SAMENSTELLING.pose\n",
      "Skipping file (no pose data): SAMENSTELLING.pose\n",
      "First fallback path: /home/gomer/signbank_videos/ARBITRAIR.pose\n",
      "Second fallback path: /home/gomer/signbank_videos/ARBITRAIR.pose\n",
      "Skipping file (no pose data): ARBITRAIR.pose\n",
      "First fallback path: /home/gomer/signbank_videos/WENKBRAUW-OMLAAG.pose\n",
      "Second fallback path: /home/gomer/signbank_videos/WENKBRAUW-OMLAAG.pose\n",
      "Skipping file (no pose data): WENKBRAUW-OMLAAG.pose\n",
      "First fallback path: /home/gomer/signbank_videos/WENKBRAUW-OMHOOG.pose\n",
      "Second fallback path: /home/gomer/signbank_videos/WENKBRAUW-OMHOOG.pose\n",
      "Skipping file (no pose data): WENKBRAUW-OMHOOG.pose\n",
      "First fallback path: /home/gomer/signbank_videos/FONETIEK.pose\n",
      "Second fallback path: /home/gomer/signbank_videos/FONETIEK.pose\n",
      "Skipping file (no pose data): FONETIEK.pose\n",
      "First fallback path: /home/gomer/signbank_videos/HAD-IK-ZELF-KUNNEN-BEDENKEN.pose\n",
      "Second fallback path: /home/gomer/signbank_videos/HAD-IK-ZELF-KUNNEN-BEDENKEN.pose\n",
      "Skipping file (no pose data): HAD-IK-ZELF-KUNNEN-BEDENKEN.pose\n",
      "First fallback path: /home/gomer/signbank_videos/WAANZINNIG.pose\n",
      "Second fallback path: /home/gomer/signbank_videos/WAANZINNIG.pose\n",
      "Skipping file (no pose data): WAANZINNIG.pose\n"
     ]
    },
    {
     "name": "stderr",
     "output_type": "stream",
     "text": [
      "Processing pose files:  94%|█████████▎| 5247/5604 [02:22<00:02, 152.28it/s]"
     ]
    },
    {
     "name": "stdout",
     "output_type": "stream",
     "text": [
      "First fallback path: /home/gomer/signbank_videos/KWARTFINALE.pose\n",
      "Second fallback path: /home/gomer/signbank_videos/KWARTFINALE.pose\n",
      "Skipping file (no pose data): KWARTFINALE.pose\n",
      "First fallback path: /home/gomer/signbank_videos/BIDDEN-C.pose\n",
      "Second fallback path: /home/gomer/signbank_videos/BIDDEN-C.pose\n",
      "Skipping file (no pose data): BIDDEN-C.pose\n",
      "First fallback path: /home/gomer/signbank_videos/HEEL-VER.pose\n",
      "Second fallback path: /home/gomer/signbank_videos/HEEL-VER.pose\n",
      "Skipping file (no pose data): HEEL-VER.pose\n",
      "First fallback path: /home/gomer/signbank_videos/NADENKEN-E.pose\n",
      "Second fallback path: /home/gomer/signbank_videos/NADENKEN-E.pose\n",
      "Skipping file (no pose data): NADENKEN-E.pose\n",
      "First fallback path: /home/gomer/signbank_videos/KAARTEN-C.pose\n",
      "Second fallback path: /home/gomer/signbank_videos/KAARTEN-C.pose\n",
      "Skipping file (no pose data): KAARTEN-C.pose\n",
      "First fallback path: /home/gomer/signbank_videos/WEGROTTEN.pose\n",
      "Second fallback path: /home/gomer/signbank_videos/WEGROTTEN.pose\n",
      "Skipping file (no pose data): WEGROTTEN.pose\n",
      "First fallback path: /home/gomer/signbank_videos/OM-DE-BEURT-A.pose\n",
      "Second fallback path: /home/gomer/signbank_videos/OM-DE-BEURT-A.pose\n",
      "Skipping file (no pose data): OM-DE-BEURT-A.pose\n",
      "First fallback path: /home/gomer/signbank_videos/LELIJK-A.pose\n",
      "Second fallback path: /home/gomer/signbank_videos/LELIJK-A.pose\n",
      "Skipping file (no pose data): LELIJK-A.pose\n",
      "First fallback path: /home/gomer/signbank_videos/OM-DE-BEURT-B.pose\n",
      "Second fallback path: /home/gomer/signbank_videos/OM-DE-BEURT-B.pose\n",
      "Skipping file (no pose data): OM-DE-BEURT-B.pose\n",
      "First fallback path: /home/gomer/signbank_videos/DUPLO.pose\n",
      "Second fallback path: /home/gomer/signbank_videos/DUPLO.pose\n",
      "Skipping file (no pose data): DUPLO.pose\n",
      "First fallback path: /home/gomer/signbank_videos/KWARTET.pose\n",
      "Second fallback path: /home/gomer/signbank_videos/KWARTET.pose\n",
      "Skipping file (no pose data): KWARTET.pose\n",
      "First fallback path: /home/gomer/signbank_videos/MEMORY.pose\n",
      "Second fallback path: /home/gomer/signbank_videos/MEMORY.pose\n",
      "Skipping file (no pose data): MEMORY.pose\n",
      "First fallback path: /home/gomer/signbank_videos/IK-BEN-AAN-DE-BEURT.pose\n",
      "Second fallback path: /home/gomer/signbank_videos/IK-BEN-AAN-DE-BEURT.pose\n",
      "Skipping file (no pose data): IK-BEN-AAN-DE-BEURT.pose\n",
      "First fallback path: /home/gomer/signbank_videos/JIJ-BENT-AAN-DE-BEURT.pose\n",
      "Second fallback path: /home/gomer/signbank_videos/JIJ-BENT-AAN-DE-BEURT.pose\n",
      "Skipping file (no pose data): JIJ-BENT-AAN-DE-BEURT.pose\n",
      "First fallback path: /home/gomer/signbank_videos/BILJART-A.pose\n",
      "Second fallback path: /home/gomer/signbank_videos/BILJART-A.pose\n",
      "Skipping file (no pose data): BILJART-A.pose\n",
      "First fallback path: /home/gomer/signbank_videos/PLAYMOBIL.pose\n",
      "Second fallback path: /home/gomer/signbank_videos/PLAYMOBIL.pose\n",
      "Skipping file (no pose data): PLAYMOBIL.pose\n",
      "First fallback path: /home/gomer/signbank_videos/SJOELEN.pose\n",
      "Second fallback path: /home/gomer/signbank_videos/SJOELEN.pose\n",
      "Skipping file (no pose data): SJOELEN.pose\n",
      "First fallback path: /home/gomer/signbank_videos/WIP-B.pose\n",
      "Second fallback path: /home/gomer/signbank_videos/WIP-B.pose\n",
      "Skipping file (no pose data): WIP-B.pose\n",
      "First fallback path: /home/gomer/signbank_videos/KABELBAAN.pose\n",
      "Second fallback path: /home/gomer/signbank_videos/KABELBAAN.pose\n",
      "Skipping file (no pose data): KABELBAAN.pose\n",
      "First fallback path: /home/gomer/signbank_videos/AANTIKKEN.pose\n",
      "Second fallback path: /home/gomer/signbank_videos/AANTIKKEN.pose\n",
      "Skipping file (no pose data): AANTIKKEN.pose\n",
      "First fallback path: /home/gomer/signbank_videos/AANTIKKEN:1.pose\n",
      "Second fallback path: /home/gomer/signbank_videos/AANTIKKEN:1.pose\n",
      "Skipping file (no pose data): AANTIKKEN:1.pose\n",
      "First fallback path: /home/gomer/signbank_videos/UITDOEN.pose\n",
      "Second fallback path: /home/gomer/signbank_videos/UITDOEN.pose\n",
      "Skipping file (no pose data): UITDOEN.pose\n",
      "First fallback path: /home/gomer/signbank_videos/TOUWTJESPRINGEN.pose\n",
      "Second fallback path: /home/gomer/signbank_videos/TOUWTJESPRINGEN.pose\n",
      "Skipping file (no pose data): TOUWTJESPRINGEN.pose\n",
      "First fallback path: /home/gomer/signbank_videos/GRINDR.pose\n",
      "Second fallback path: /home/gomer/signbank_videos/GRINDR.pose\n",
      "Skipping file (no pose data): GRINDR.pose\n",
      "First fallback path: /home/gomer/signbank_videos/TINDER-B.pose\n",
      "Second fallback path: /home/gomer/signbank_videos/TINDER-B.pose\n",
      "Skipping file (no pose data): TINDER-B.pose\n",
      "First fallback path: /home/gomer/signbank_videos/TINDER-C.pose\n",
      "Second fallback path: /home/gomer/signbank_videos/TINDER-C.pose\n",
      "Skipping file (no pose data): TINDER-C.pose\n",
      "First fallback path: /home/gomer/signbank_videos/CASUS.pose\n",
      "Second fallback path: /home/gomer/signbank_videos/CASUS.pose\n",
      "Skipping file (no pose data): CASUS.pose\n",
      "First fallback path: /home/gomer/signbank_videos/KANKER-C.pose\n",
      "Second fallback path: /home/gomer/signbank_videos/KANKER-C.pose\n",
      "Skipping file (no pose data): KANKER-C.pose\n",
      "First fallback path: /home/gomer/signbank_videos/BITCH.pose\n",
      "Second fallback path: /home/gomer/signbank_videos/BITCH.pose\n",
      "Skipping file (no pose data): BITCH.pose\n",
      "First fallback path: /home/gomer/signbank_videos/LUL.pose\n",
      "Second fallback path: /home/gomer/signbank_videos/LUL.pose\n",
      "Skipping file (no pose data): LUL.pose\n",
      "First fallback path: /home/gomer/signbank_videos/IDIOOT-A.pose\n",
      "Second fallback path: /home/gomer/signbank_videos/IDIOOT-A.pose\n",
      "Skipping file (no pose data): IDIOOT-A.pose\n",
      "First fallback path: /home/gomer/signbank_videos/MAFFIA.pose\n",
      "Second fallback path: /home/gomer/signbank_videos/MAFFIA.pose\n",
      "Skipping file (no pose data): MAFFIA.pose\n",
      "First fallback path: /home/gomer/signbank_videos/NERD.pose\n",
      "Second fallback path: /home/gomer/signbank_videos/NERD.pose\n",
      "Skipping file (no pose data): NERD.pose\n",
      "First fallback path: /home/gomer/signbank_videos/ZUID-B.pose\n",
      "Second fallback path: /home/gomer/signbank_videos/ZUID-B.pose\n",
      "Skipping file (no pose data): ZUID-B.pose\n",
      "First fallback path: /home/gomer/signbank_videos/ZUID-A.pose\n",
      "Second fallback path: /home/gomer/signbank_videos/ZUID-A.pose\n",
      "Skipping file (no pose data): ZUID-A.pose\n",
      "First fallback path: /home/gomer/signbank_videos/LOETJE.pose\n",
      "Second fallback path: /home/gomer/signbank_videos/LOETJE.pose\n",
      "Skipping file (no pose data): LOETJE.pose\n",
      "First fallback path: /home/gomer/signbank_videos/ONDERDAK.pose\n",
      "Second fallback path: /home/gomer/signbank_videos/ONDERDAK.pose\n",
      "Skipping file (no pose data): ONDERDAK.pose\n",
      "First fallback path: /home/gomer/signbank_videos/MACHINE.pose\n",
      "Second fallback path: /home/gomer/signbank_videos/MACHINE.pose\n",
      "Skipping file (no pose data): MACHINE.pose\n",
      "First fallback path: /home/gomer/signbank_videos/TREKKEN-C.pose\n",
      "Second fallback path: /home/gomer/signbank_videos/TREKKEN-C.pose\n",
      "Skipping file (no pose data): TREKKEN-C.pose\n",
      "First fallback path: /home/gomer/signbank_videos/TREKKEN-D.pose\n",
      "Second fallback path: /home/gomer/signbank_videos/TREKKEN-D.pose\n",
      "Skipping file (no pose data): TREKKEN-D.pose\n",
      "First fallback path: /home/gomer/signbank_videos/MINECRAFT.pose\n",
      "Second fallback path: /home/gomer/signbank_videos/MINECRAFT.pose\n",
      "Skipping file (no pose data): MINECRAFT.pose\n",
      "First fallback path: /home/gomer/signbank_videos/SAGRADA-FAMILIA.pose\n",
      "Second fallback path: /home/gomer/signbank_videos/SAGRADA-FAMILIA.pose\n",
      "Skipping file (no pose data): SAGRADA-FAMILIA.pose\n",
      "First fallback path: /home/gomer/signbank_videos/VAATWASSER.pose\n",
      "Second fallback path: /home/gomer/signbank_videos/VAATWASSER.pose\n",
      "Skipping file (no pose data): VAATWASSER.pose\n",
      "First fallback path: /home/gomer/signbank_videos/POPULAIR-C.pose\n",
      "Second fallback path: /home/gomer/signbank_videos/POPULAIR-C.pose\n",
      "Skipping file (no pose data): POPULAIR-C.pose\n",
      "First fallback path: /home/gomer/signbank_videos/HEFTRUCK-B.pose\n",
      "Second fallback path: /home/gomer/signbank_videos/HEFTRUCK-B.pose\n",
      "Skipping file (no pose data): HEFTRUCK-B.pose\n",
      "First fallback path: /home/gomer/signbank_videos/SYNDROOM.pose\n",
      "Second fallback path: /home/gomer/signbank_videos/SYNDROOM.pose\n",
      "Skipping file (no pose data): SYNDROOM.pose\n",
      "First fallback path: /home/gomer/signbank_videos/AFRIKA-D.pose\n",
      "Second fallback path: /home/gomer/signbank_videos/AFRIKA-D.pose\n",
      "Skipping file (no pose data): AFRIKA-D.pose\n",
      "First fallback path: /home/gomer/signbank_videos/ORANJE-F.pose\n",
      "Second fallback path: /home/gomer/signbank_videos/ORANJE-F.pose\n",
      "Skipping file (no pose data): ORANJE-F.pose\n",
      "First fallback path: /home/gomer/signbank_videos/ORANJE-G.pose\n",
      "Second fallback path: /home/gomer/signbank_videos/ORANJE-G.pose\n",
      "Skipping file (no pose data): ORANJE-G.pose\n",
      "First fallback path: /home/gomer/signbank_videos/KUSSEN-B.pose\n",
      "Second fallback path: /home/gomer/signbank_videos/KUSSEN-B.pose\n",
      "Skipping file (no pose data): KUSSEN-B.pose\n",
      "First fallback path: /home/gomer/signbank_videos/ZOEN-ELKAAR.pose\n",
      "Second fallback path: /home/gomer/signbank_videos/ZOEN-ELKAAR.pose\n",
      "Skipping file (no pose data): ZOEN-ELKAAR.pose\n",
      "First fallback path: /home/gomer/signbank_videos/PITCH.pose\n",
      "Second fallback path: /home/gomer/signbank_videos/PITCH.pose\n",
      "Skipping file (no pose data): PITCH.pose\n",
      "First fallback path: /home/gomer/signbank_videos/COOL-B.pose\n",
      "Second fallback path: /home/gomer/signbank_videos/COOL-B.pose\n",
      "Skipping file (no pose data): COOL-B.pose\n",
      "First fallback path: /home/gomer/signbank_videos/DIAMANT-A.pose\n",
      "Second fallback path: /home/gomer/signbank_videos/DIAMANT-A.pose\n",
      "Skipping file (no pose data): DIAMANT-A.pose\n",
      "First fallback path: /home/gomer/signbank_videos/DIAMANT-B.pose\n",
      "Second fallback path: /home/gomer/signbank_videos/DIAMANT-B.pose\n",
      "Skipping file (no pose data): DIAMANT-B.pose\n",
      "First fallback path: /home/gomer/signbank_videos/HET-KWARTJE-IS-GEVALLEN.pose\n",
      "Second fallback path: /home/gomer/signbank_videos/HET-KWARTJE-IS-GEVALLEN.pose\n",
      "Skipping file (no pose data): HET-KWARTJE-IS-GEVALLEN.pose\n",
      "First fallback path: /home/gomer/signbank_videos/APART-F.pose\n",
      "Second fallback path: /home/gomer/signbank_videos/APART-F.pose\n",
      "Skipping file (no pose data): APART-F.pose\n",
      "First fallback path: /home/gomer/signbank_videos/VEEL-F.pose\n",
      "Second fallback path: /home/gomer/signbank_videos/VEEL-F.pose\n",
      "Skipping file (no pose data): VEEL-F.pose\n",
      "First fallback path: /home/gomer/signbank_videos/SLIM-E.pose\n",
      "Second fallback path: /home/gomer/signbank_videos/SLIM-E.pose\n",
      "Skipping file (no pose data): SLIM-E.pose\n",
      "First fallback path: /home/gomer/signbank_videos/SLIM-F.pose\n",
      "Second fallback path: /home/gomer/signbank_videos/SLIM-F.pose\n",
      "Skipping file (no pose data): SLIM-F.pose\n",
      "First fallback path: /home/gomer/signbank_videos/ROZE-B.pose\n",
      "Second fallback path: /home/gomer/signbank_videos/ROZE-B.pose\n",
      "Skipping file (no pose data): ROZE-B.pose\n",
      "First fallback path: /home/gomer/signbank_videos/KLEUR-H.pose\n",
      "Second fallback path: /home/gomer/signbank_videos/KLEUR-H.pose\n",
      "Skipping file (no pose data): KLEUR-H.pose\n",
      "First fallback path: /home/gomer/signbank_videos/OPDRUKKEN.pose\n",
      "Second fallback path: /home/gomer/signbank_videos/OPDRUKKEN.pose\n",
      "Skipping file (no pose data): OPDRUKKEN.pose\n"
     ]
    },
    {
     "name": "stderr",
     "output_type": "stream",
     "text": [
      "Processing pose files:  95%|█████████▍| 5318/5604 [02:23<00:04, 65.88it/s] "
     ]
    },
    {
     "name": "stdout",
     "output_type": "stream",
     "text": [
      "First fallback path: /home/gomer/signbank_videos/PALEIS-A.pose\n",
      "Second fallback path: /home/gomer/signbank_videos/PALEIS-A.pose\n",
      "Skipping file (no pose data): PALEIS-A.pose\n"
     ]
    },
    {
     "name": "stderr",
     "output_type": "stream",
     "text": [
      "Processing pose files:  95%|█████████▌| 5331/5604 [02:24<00:04, 54.78it/s]"
     ]
    },
    {
     "name": "stdout",
     "output_type": "stream",
     "text": [
      "First fallback path: /home/gomer/signbank_videos/COMFORTABEL-A.pose\n",
      "Second fallback path: /home/gomer/signbank_videos/COMFORTABEL-A.pose\n",
      "Skipping file (no pose data): COMFORTABEL-A.pose\n"
     ]
    },
    {
     "name": "stderr",
     "output_type": "stream",
     "text": [
      "Processing pose files:  96%|█████████▌| 5365/5604 [02:25<00:05, 45.03it/s]"
     ]
    },
    {
     "name": "stdout",
     "output_type": "stream",
     "text": [
      "First fallback path: /home/gomer/signbank_videos/RIJK-F.pose\n",
      "Second fallback path: /home/gomer/signbank_videos/RIJK-F.pose\n",
      "Skipping file (no pose data): RIJK-F.pose\n",
      "First fallback path: /home/gomer/signbank_videos/KENNIS.pose\n",
      "Second fallback path: /home/gomer/signbank_videos/KENNIS.pose\n",
      "Skipping file (no pose data): KENNIS.pose\n"
     ]
    },
    {
     "name": "stderr",
     "output_type": "stream",
     "text": [
      "Processing pose files:  96%|█████████▌| 5376/5604 [02:25<00:05, 43.77it/s]"
     ]
    },
    {
     "name": "stdout",
     "output_type": "stream",
     "text": [
      "First fallback path: /home/gomer/signbank_videos/OM-DE-DAG.pose\n",
      "Second fallback path: /home/gomer/signbank_videos/OM-DE-DAG.pose\n",
      "Skipping file (no pose data): OM-DE-DAG.pose\n"
     ]
    },
    {
     "name": "stderr",
     "output_type": "stream",
     "text": [
      "Processing pose files:  97%|█████████▋| 5424/5604 [02:26<00:04, 43.83it/s]"
     ]
    },
    {
     "name": "stdout",
     "output_type": "stream",
     "text": [
      "First fallback path: /home/gomer/signbank_videos/PLASSEN-B.pose\n",
      "Second fallback path: /home/gomer/signbank_videos/PLASSEN-B.pose\n",
      "Skipping file (no pose data): PLASSEN-B.pose\n",
      "First fallback path: /home/gomer/signbank_videos/ALTIJD-B.pose\n",
      "Second fallback path: /home/gomer/signbank_videos/ALTIJD-B.pose\n",
      "Skipping file (no pose data): ALTIJD-B.pose\n"
     ]
    },
    {
     "name": "stderr",
     "output_type": "stream",
     "text": [
      "Processing pose files:  97%|█████████▋| 5443/5604 [02:27<00:04, 34.82it/s]"
     ]
    },
    {
     "name": "stdout",
     "output_type": "stream",
     "text": [
      "First fallback path: /home/gomer/signbank_videos/SCHILD-A.pose\n",
      "Second fallback path: /home/gomer/signbank_videos/SCHILD-A.pose\n",
      "Skipping file (no pose data): SCHILD-A.pose\n",
      "First fallback path: /home/gomer/signbank_videos/KARATE-A.pose\n",
      "Second fallback path: /home/gomer/signbank_videos/KARATE-A.pose\n",
      "Skipping file (no pose data): KARATE-A.pose\n",
      "First fallback path: /home/gomer/signbank_videos/KARATE-B.pose\n",
      "Second fallback path: /home/gomer/signbank_videos/KARATE-B.pose\n",
      "Skipping file (no pose data): KARATE-B.pose\n",
      "First fallback path: /home/gomer/signbank_videos/BODYBUILDING.pose\n",
      "Second fallback path: /home/gomer/signbank_videos/BODYBUILDING.pose\n",
      "Skipping file (no pose data): BODYBUILDING.pose\n"
     ]
    },
    {
     "name": "stderr",
     "output_type": "stream",
     "text": [
      "Processing pose files:  98%|█████████▊| 5472/5604 [02:27<00:01, 75.29it/s]"
     ]
    },
    {
     "name": "stdout",
     "output_type": "stream",
     "text": [
      "First fallback path: /home/gomer/signbank_videos/VAN-VEEL-NAAR-WEINIG-A.pose\n",
      "Second fallback path: /home/gomer/signbank_videos/VAN-VEEL-NAAR-WEINIG-A.pose\n",
      "Skipping file (no pose data): VAN-VEEL-NAAR-WEINIG-A.pose\n",
      "First fallback path: /home/gomer/signbank_videos/FERRARI.pose\n",
      "Second fallback path: /home/gomer/signbank_videos/FERRARI.pose\n",
      "Skipping file (no pose data): FERRARI.pose\n",
      "First fallback path: /home/gomer/signbank_videos/DIEPGAAND.pose\n",
      "Second fallback path: /home/gomer/signbank_videos/DIEPGAAND.pose\n",
      "Skipping file (no pose data): DIEPGAAND.pose\n",
      "First fallback path: /home/gomer/signbank_videos/OPSTUREN-E:1.pose\n",
      "Second fallback path: /home/gomer/signbank_videos/OPSTUREN-E:1.pose\n",
      "Skipping file (no pose data): OPSTUREN-E:1.pose\n",
      "First fallback path: /home/gomer/signbank_videos/LA-TRIADA.pose\n",
      "Second fallback path: /home/gomer/signbank_videos/LA-TRIADA.pose\n",
      "Skipping file (no pose data): LA-TRIADA.pose\n",
      "First fallback path: /home/gomer/signbank_videos/HEBBEN-E.pose\n",
      "Second fallback path: /home/gomer/signbank_videos/HEBBEN-E.pose\n",
      "Skipping file (no pose data): HEBBEN-E.pose\n",
      "First fallback path: /home/gomer/signbank_videos/IN-I.pose\n",
      "Second fallback path: /home/gomer/signbank_videos/IN-I.pose\n",
      "Skipping file (no pose data): IN-I.pose\n",
      "First fallback path: /home/gomer/signbank_videos/AFSLUITEN.pose\n",
      "Second fallback path: /home/gomer/signbank_videos/AFSLUITEN.pose\n",
      "Skipping file (no pose data): AFSLUITEN.pose\n",
      "First fallback path: /home/gomer/signbank_videos/ONGEVEER-B.pose\n",
      "Second fallback path: /home/gomer/signbank_videos/ONGEVEER-B.pose\n",
      "Skipping file (no pose data): ONGEVEER-B.pose\n",
      "First fallback path: /home/gomer/signbank_videos/VERBAASD-F.pose\n",
      "Second fallback path: /home/gomer/signbank_videos/VERBAASD-F.pose\n",
      "Skipping file (no pose data): VERBAASD-F.pose\n",
      "First fallback path: /home/gomer/signbank_videos/UITWISSELEN-G.pose\n",
      "Second fallback path: /home/gomer/signbank_videos/UITWISSELEN-G.pose\n",
      "Skipping file (no pose data): UITWISSELEN-G.pose\n",
      "First fallback path: /home/gomer/signbank_videos/RONDKIJKEN.pose\n",
      "Second fallback path: /home/gomer/signbank_videos/RONDKIJKEN.pose\n",
      "Skipping file (no pose data): RONDKIJKEN.pose\n",
      "First fallback path: /home/gomer/signbank_videos/STATUS.pose\n",
      "Second fallback path: /home/gomer/signbank_videos/STATUS.pose\n",
      "Skipping file (no pose data): STATUS.pose\n",
      "First fallback path: /home/gomer/signbank_videos/KRUIDEN.pose\n",
      "Second fallback path: /home/gomer/signbank_videos/KRUIDEN.pose\n",
      "Skipping file (no pose data): KRUIDEN.pose\n",
      "First fallback path: /home/gomer/signbank_videos/FOCACCIA.pose\n",
      "Second fallback path: /home/gomer/signbank_videos/FOCACCIA.pose\n",
      "Skipping file (no pose data): FOCACCIA.pose\n"
     ]
    },
    {
     "name": "stderr",
     "output_type": "stream",
     "text": [
      "Processing pose files:  98%|█████████▊| 5506/5604 [02:28<00:02, 46.41it/s]"
     ]
    },
    {
     "name": "stdout",
     "output_type": "stream",
     "text": [
      "First fallback path: /home/gomer/signbank_videos/ROT-OP.pose\n",
      "Second fallback path: /home/gomer/signbank_videos/ROT-OP.pose\n",
      "Skipping file (no pose data): ROT-OP.pose\n",
      "First fallback path: /home/gomer/signbank_videos/DEUR-C.pose\n",
      "Second fallback path: /home/gomer/signbank_videos/DEUR-C.pose\n",
      "Skipping file (no pose data): DEUR-C.pose\n",
      "First fallback path: /home/gomer/signbank_videos/OPEN-E.pose\n",
      "Second fallback path: /home/gomer/signbank_videos/OPEN-E.pose\n",
      "Skipping file (no pose data): OPEN-E.pose\n"
     ]
    },
    {
     "name": "stderr",
     "output_type": "stream",
     "text": [
      "Processing pose files:  99%|█████████▊| 5528/5604 [02:29<00:01, 38.58it/s]"
     ]
    },
    {
     "name": "stdout",
     "output_type": "stream",
     "text": [
      "First fallback path: /home/gomer/signbank_videos/ZO-C.pose\n",
      "Second fallback path: /home/gomer/signbank_videos/ZO-C.pose\n",
      "Skipping file (no pose data): ZO-C.pose\n",
      "First fallback path: /home/gomer/signbank_videos/NIKS-C.pose\n",
      "Second fallback path: /home/gomer/signbank_videos/NIKS-C.pose\n",
      "Skipping file (no pose data): NIKS-C.pose\n",
      "First fallback path: /home/gomer/signbank_videos/TRUFFEL.pose\n",
      "Second fallback path: /home/gomer/signbank_videos/TRUFFEL.pose\n",
      "Skipping file (no pose data): TRUFFEL.pose\n",
      "First fallback path: /home/gomer/signbank_videos/BAHA.pose\n",
      "Second fallback path: /home/gomer/signbank_videos/BAHA.pose\n",
      "Skipping file (no pose data): BAHA.pose\n"
     ]
    },
    {
     "name": "stderr",
     "output_type": "stream",
     "text": [
      "Processing pose files:  99%|█████████▉| 5566/5604 [02:30<00:00, 55.23it/s]"
     ]
    },
    {
     "name": "stdout",
     "output_type": "stream",
     "text": [
      "First fallback path: /home/gomer/signbank_videos/LENS-B.pose\n",
      "Second fallback path: /home/gomer/signbank_videos/LENS-B.pose\n",
      "Skipping file (no pose data): LENS-B.pose\n",
      "First fallback path: /home/gomer/signbank_videos/VERZAMELEN-E.pose\n",
      "Second fallback path: /home/gomer/signbank_videos/VERZAMELEN-E.pose\n",
      "Skipping file (no pose data): VERZAMELEN-E.pose\n",
      "First fallback path: /home/gomer/signbank_videos/HAND-OP-TAFEL.pose\n",
      "Second fallback path: /home/gomer/signbank_videos/HAND-OP-TAFEL.pose\n",
      "Skipping file (no pose data): HAND-OP-TAFEL.pose\n",
      "First fallback path: /home/gomer/signbank_videos/FLAUW-B.pose\n",
      "Second fallback path: /home/gomer/signbank_videos/FLAUW-B.pose\n",
      "Skipping file (no pose data): FLAUW-B.pose\n",
      "First fallback path: /home/gomer/signbank_videos/HEK-D.pose\n",
      "Second fallback path: /home/gomer/signbank_videos/HEK-D.pose\n",
      "Skipping file (no pose data): HEK-D.pose\n",
      "First fallback path: /home/gomer/signbank_videos/HEK-E.pose\n",
      "Second fallback path: /home/gomer/signbank_videos/HEK-E.pose\n",
      "Skipping file (no pose data): HEK-E.pose\n",
      "First fallback path: /home/gomer/signbank_videos/BEN-JE-MAL.pose\n",
      "Second fallback path: /home/gomer/signbank_videos/BEN-JE-MAL.pose\n",
      "Skipping file (no pose data): BEN-JE-MAL.pose\n",
      "First fallback path: /home/gomer/signbank_videos/FETA.pose\n",
      "Second fallback path: /home/gomer/signbank_videos/FETA.pose\n",
      "Skipping file (no pose data): FETA.pose\n",
      "First fallback path: /home/gomer/signbank_videos/LOPEN-A.pose\n",
      "Second fallback path: /home/gomer/signbank_videos/LOPEN-A.pose\n",
      "Skipping file (no pose data): LOPEN-A.pose\n",
      "First fallback path: /home/gomer/signbank_videos/NEE-C.pose\n",
      "Second fallback path: /home/gomer/signbank_videos/NEE-C.pose\n",
      "Skipping file (no pose data): NEE-C.pose\n",
      "First fallback path: /home/gomer/signbank_videos/PEDOFIEL.pose\n",
      "Second fallback path: /home/gomer/signbank_videos/PEDOFIEL.pose\n",
      "Skipping file (no pose data): PEDOFIEL.pose\n",
      "First fallback path: /home/gomer/signbank_videos/ROLMODEL.pose\n",
      "Second fallback path: /home/gomer/signbank_videos/ROLMODEL.pose\n",
      "Skipping file (no pose data): ROLMODEL.pose\n"
     ]
    },
    {
     "name": "stderr",
     "output_type": "stream",
     "text": [
      "Processing pose files:  99%|█████████▉| 5572/5604 [02:30<00:00, 52.23it/s]"
     ]
    },
    {
     "name": "stdout",
     "output_type": "stream",
     "text": [
      "First fallback path: /home/gomer/signbank_videos/NADOEN.pose\n",
      "Second fallback path: /home/gomer/signbank_videos/NADOEN.pose\n",
      "Skipping file (no pose data): NADOEN.pose\n"
     ]
    },
    {
     "name": "stderr",
     "output_type": "stream",
     "text": [
      "Processing pose files: 100%|██████████| 5604/5604 [02:30<00:00, 37.18it/s]\n"
     ]
    },
    {
     "name": "stdout",
     "output_type": "stream",
     "text": [
      "First fallback path: /home/gomer/signbank_videos/ISLAM.pose\n",
      "Second fallback path: /home/gomer/signbank_videos/ISLAM.pose\n",
      "Skipping file (no pose data): ISLAM.pose\n",
      "First fallback path: /home/gomer/signbank_videos/ZUIDLAREN-A.pose\n",
      "Second fallback path: /home/gomer/signbank_videos/ZUIDLAREN-A.pose\n",
      "Skipping file (no pose data): ZUIDLAREN-A.pose\n",
      "First fallback path: /home/gomer/signbank_videos/ZUIDLAREN-B.pose\n",
      "Second fallback path: /home/gomer/signbank_videos/ZUIDLAREN-B.pose\n",
      "Skipping file (no pose data): ZUIDLAREN-B.pose\n",
      "First fallback path: /home/gomer/signbank_videos/REAGEREN-C.pose\n",
      "Second fallback path: /home/gomer/signbank_videos/REAGEREN-C.pose\n",
      "Skipping file (no pose data): REAGEREN-C.pose\n",
      "First fallback path: /home/gomer/signbank_videos/RIO-DE-JANEIRO.pose\n",
      "Second fallback path: /home/gomer/signbank_videos/RIO-DE-JANEIRO.pose\n",
      "Skipping file (no pose data): RIO-DE-JANEIRO.pose\n",
      "First fallback path: /home/gomer/signbank_videos/LISSABON.pose\n",
      "Second fallback path: /home/gomer/signbank_videos/LISSABON.pose\n",
      "Skipping file (no pose data): LISSABON.pose\n",
      "First fallback path: /home/gomer/signbank_videos/ZAMBIA.pose\n",
      "Second fallback path: /home/gomer/signbank_videos/ZAMBIA.pose\n",
      "Skipping file (no pose data): ZAMBIA.pose\n",
      "First fallback path: /home/gomer/signbank_videos/PHILADELPHIA.pose\n",
      "Second fallback path: /home/gomer/signbank_videos/PHILADELPHIA.pose\n",
      "Skipping file (no pose data): PHILADELPHIA.pose\n",
      "First fallback path: /home/gomer/signbank_videos/WOKKEN.pose\n",
      "Second fallback path: /home/gomer/signbank_videos/WOKKEN.pose\n",
      "Skipping file (no pose data): WOKKEN.pose\n",
      "First fallback path: /home/gomer/signbank_videos/WEERKLANK-A.pose\n",
      "Second fallback path: /home/gomer/signbank_videos/WEERKLANK-A.pose\n",
      "Skipping file (no pose data): WEERKLANK-A.pose\n",
      "First fallback path: /home/gomer/signbank_videos/WEERKLANK-B.pose\n",
      "Second fallback path: /home/gomer/signbank_videos/WEERKLANK-B.pose\n",
      "Skipping file (no pose data): WEERKLANK-B.pose\n",
      "First fallback path: /home/gomer/signbank_videos/DEKSEL-C.pose\n",
      "Second fallback path: /home/gomer/signbank_videos/DEKSEL-C.pose\n",
      "Skipping file (no pose data): DEKSEL-C.pose\n",
      "First fallback path: /home/gomer/signbank_videos/DOP.pose\n",
      "Second fallback path: /home/gomer/signbank_videos/DOP.pose\n",
      "Skipping file (no pose data): DOP.pose\n",
      "First fallback path: /home/gomer/signbank_videos/ZAAMZORG.pose\n",
      "Second fallback path: /home/gomer/signbank_videos/ZAAMZORG.pose\n",
      "Skipping file (no pose data): ZAAMZORG.pose\n",
      "First fallback path: /home/gomer/signbank_videos/VERWARD-C.pose\n",
      "Second fallback path: /home/gomer/signbank_videos/VERWARD-C.pose\n",
      "Skipping file (no pose data): VERWARD-C.pose\n"
     ]
    },
    {
     "ename": "TypeError",
     "evalue": "'NoneType' object is not subscriptable",
     "output_type": "error",
     "traceback": [
      "\u001b[0;31m---------------------------------------------------------------------------\u001b[0m",
      "\u001b[0;31mTypeError\u001b[0m                                 Traceback (most recent call last)",
      "Cell \u001b[0;32mIn[9], line 9\u001b[0m\n\u001b[1;32m      5\u001b[0m stats, pose \u001b[38;5;241m=\u001b[39m main(df, pose_directory)\n\u001b[1;32m      7\u001b[0m \u001b[38;5;28;01mfrom\u001b[39;00m \u001b[38;5;21;01mPoseTools\u001b[39;00m\u001b[38;5;21;01m.\u001b[39;00m\u001b[38;5;21;01msrc\u001b[39;00m\u001b[38;5;21;01m.\u001b[39;00m\u001b[38;5;21;01mmodules\u001b[39;00m\u001b[38;5;21;01m.\u001b[39;00m\u001b[38;5;21;01mlocation\u001b[39;00m\u001b[38;5;21;01m.\u001b[39;00m\u001b[38;5;21;01mutils\u001b[39;00m\u001b[38;5;21;01m.\u001b[39;00m\u001b[38;5;21;01mplot\u001b[39;00m \u001b[38;5;28;01mimport\u001b[39;00m plot_frame_with_edges\n\u001b[0;32m----> 9\u001b[0m \u001b[43mplot_frame_with_edges\u001b[49m\u001b[43m(\u001b[49m\u001b[43mpose\u001b[49m\u001b[43m,\u001b[49m\u001b[43m \u001b[49m\u001b[43mframe_idx\u001b[49m\u001b[38;5;241;43m=\u001b[39;49m\u001b[43m \u001b[49m\u001b[38;5;241;43m0\u001b[39;49m\u001b[43m)\u001b[49m\n",
      "File \u001b[0;32m~/oline/PoseTools/src/modules/location/utils/plot.py:49\u001b[0m, in \u001b[0;36mplot_frame_with_edges\u001b[0;34m(pose, frame_idx, save_path)\u001b[0m\n\u001b[1;32m     47\u001b[0m     frame \u001b[38;5;241m=\u001b[39m pose\n\u001b[1;32m     48\u001b[0m \u001b[38;5;28;01melse\u001b[39;00m:\n\u001b[0;32m---> 49\u001b[0m     frame \u001b[38;5;241m=\u001b[39m \u001b[43mpose\u001b[49m\u001b[43m[\u001b[49m\u001b[43mframe_idx\u001b[49m\u001b[43m,\u001b[49m\u001b[43m \u001b[49m\u001b[43m:\u001b[49m\u001b[43m,\u001b[49m\u001b[43m \u001b[49m\u001b[43m:\u001b[49m\u001b[43m]\u001b[49m  \u001b[38;5;66;03m# Get the frame data\u001b[39;00m\n\u001b[1;32m     50\u001b[0m x \u001b[38;5;241m=\u001b[39m frame[:, \u001b[38;5;241m0\u001b[39m]\n\u001b[1;32m     51\u001b[0m y \u001b[38;5;241m=\u001b[39m frame[:, \u001b[38;5;241m1\u001b[39m]\n",
      "\u001b[0;31mTypeError\u001b[0m: 'NoneType' object is not subscriptable"
     ]
    },
    {
     "data": {
      "image/png": "[encoded data removed]",
      "text/plain": [
       "<Figure size 640x480 with 1 Axes>"
      ]
     },
     "metadata": {},
     "output_type": "display_data"
    }
   ],
   "source": [
    "from PoseTools.src.modules.location.location_eval import main\n",
    "\n",
    "pose_directory = '/home/gomer/signbank_videos'\n",
    "\n",
    "stats, pose = main(df, pose_directory)\n",
    "\n",
    "from PoseTools.src.modules.location.utils.plot import plot_frame_with_edges\n",
    "\n",
    "plot_frame_with_edges(pose, frame_idx= 0)"
   ]
  },
  {
   "cell_type": "code",
   "execution_count": null,
   "metadata": {},
   "outputs": [
    {
     "data": {
      "text/html": [
       "<div>\n",
       "<style scoped>\n",
       "    .dataframe tbody tr th:only-of-type {\n",
       "        vertical-align: middle;\n",
       "    }\n",
       "\n",
       "    .dataframe tbody tr th {\n",
       "        vertical-align: top;\n",
       "    }\n",
       "\n",
       "    .dataframe thead th {\n",
       "        text-align: right;\n",
       "    }\n",
       "</style>\n",
       "<table border=\"1\" class=\"dataframe\">\n",
       "  <thead>\n",
       "    <tr style=\"text-align: right;\">\n",
       "      <th></th>\n",
       "      <th>right_x_mean</th>\n",
       "      <th>right_x_std</th>\n",
       "      <th>right_y_mean</th>\n",
       "      <th>right_y_std</th>\n",
       "      <th>left_x_mean</th>\n",
       "      <th>left_x_std</th>\n",
       "      <th>left_y_mean</th>\n",
       "      <th>left_y_std</th>\n",
       "      <th>Annotation ID Gloss: Dutch</th>\n",
       "    </tr>\n",
       "  </thead>\n",
       "  <tbody>\n",
       "    <tr>\n",
       "      <th>0</th>\n",
       "      <td>-0.711762</td>\n",
       "      <td>0.039665</td>\n",
       "      <td>-0.466552</td>\n",
       "      <td>0.099207</td>\n",
       "      <td>0.433205</td>\n",
       "      <td>0.018279</td>\n",
       "      <td>-2.070153</td>\n",
       "      <td>0.021901</td>\n",
       "      <td>0-A</td>\n",
       "    </tr>\n",
       "    <tr>\n",
       "      <th>1</th>\n",
       "      <td>-0.514726</td>\n",
       "      <td>0.002983</td>\n",
       "      <td>-0.397776</td>\n",
       "      <td>0.006913</td>\n",
       "      <td>0.753802</td>\n",
       "      <td>0.001764</td>\n",
       "      <td>-2.276610</td>\n",
       "      <td>0.008169</td>\n",
       "      <td>0-B</td>\n",
       "    </tr>\n",
       "    <tr>\n",
       "      <th>2</th>\n",
       "      <td>-0.520776</td>\n",
       "      <td>0.001829</td>\n",
       "      <td>-0.374489</td>\n",
       "      <td>0.008343</td>\n",
       "      <td>0.758105</td>\n",
       "      <td>0.004172</td>\n",
       "      <td>-2.297448</td>\n",
       "      <td>0.010340</td>\n",
       "      <td>0-C</td>\n",
       "    </tr>\n",
       "    <tr>\n",
       "      <th>3</th>\n",
       "      <td>-0.525643</td>\n",
       "      <td>0.068859</td>\n",
       "      <td>-1.060745</td>\n",
       "      <td>0.118141</td>\n",
       "      <td>0.208061</td>\n",
       "      <td>0.024931</td>\n",
       "      <td>-1.781302</td>\n",
       "      <td>0.008820</td>\n",
       "      <td>1.ORD-A</td>\n",
       "    </tr>\n",
       "    <tr>\n",
       "      <th>4</th>\n",
       "      <td>-0.582035</td>\n",
       "      <td>0.080238</td>\n",
       "      <td>-0.838003</td>\n",
       "      <td>0.141272</td>\n",
       "      <td>0.668990</td>\n",
       "      <td>0.097684</td>\n",
       "      <td>-0.842849</td>\n",
       "      <td>0.095218</td>\n",
       "      <td>10-A</td>\n",
       "    </tr>\n",
       "    <tr>\n",
       "      <th>...</th>\n",
       "      <td>...</td>\n",
       "      <td>...</td>\n",
       "      <td>...</td>\n",
       "      <td>...</td>\n",
       "      <td>...</td>\n",
       "      <td>...</td>\n",
       "      <td>...</td>\n",
       "      <td>...</td>\n",
       "      <td>...</td>\n",
       "    </tr>\n",
       "    <tr>\n",
       "      <th>5201</th>\n",
       "      <td>-0.486151</td>\n",
       "      <td>0.133640</td>\n",
       "      <td>-0.936318</td>\n",
       "      <td>0.327504</td>\n",
       "      <td>0.466121</td>\n",
       "      <td>0.103331</td>\n",
       "      <td>-0.943026</td>\n",
       "      <td>0.303632</td>\n",
       "      <td>KERK-B</td>\n",
       "    </tr>\n",
       "    <tr>\n",
       "      <th>5202</th>\n",
       "      <td>-0.585152</td>\n",
       "      <td>0.388858</td>\n",
       "      <td>-1.056668</td>\n",
       "      <td>0.192560</td>\n",
       "      <td>0.632027</td>\n",
       "      <td>0.345682</td>\n",
       "      <td>-1.257786</td>\n",
       "      <td>0.170849</td>\n",
       "      <td>UIT-DE-KAST</td>\n",
       "    </tr>\n",
       "    <tr>\n",
       "      <th>5203</th>\n",
       "      <td>-0.487761</td>\n",
       "      <td>0.126319</td>\n",
       "      <td>-0.601655</td>\n",
       "      <td>0.147467</td>\n",
       "      <td>0.550705</td>\n",
       "      <td>0.115608</td>\n",
       "      <td>-0.524067</td>\n",
       "      <td>0.127954</td>\n",
       "      <td>VOUWWAGEN</td>\n",
       "    </tr>\n",
       "    <tr>\n",
       "      <th>5204</th>\n",
       "      <td>-0.702226</td>\n",
       "      <td>0.035695</td>\n",
       "      <td>-0.821118</td>\n",
       "      <td>0.044524</td>\n",
       "      <td>0.670483</td>\n",
       "      <td>0.047125</td>\n",
       "      <td>-0.800038</td>\n",
       "      <td>0.052414</td>\n",
       "      <td>BACKPACKEN</td>\n",
       "    </tr>\n",
       "    <tr>\n",
       "      <th>5205</th>\n",
       "      <td>-0.732974</td>\n",
       "      <td>0.228337</td>\n",
       "      <td>-1.307004</td>\n",
       "      <td>0.164311</td>\n",
       "      <td>0.598037</td>\n",
       "      <td>0.064624</td>\n",
       "      <td>-1.292610</td>\n",
       "      <td>0.162403</td>\n",
       "      <td>WEGZAKKEN</td>\n",
       "    </tr>\n",
       "  </tbody>\n",
       "</table>\n",
       "<p>5206 rows × 9 columns</p>\n",
       "</div>"
      ],
      "text/plain": [
       "      right_x_mean  right_x_std  right_y_mean  right_y_std  left_x_mean  \\\n",
       "0        -0.711762     0.039665     -0.466552     0.099207     0.433205   \n",
       "1        -0.514726     0.002983     -0.397776     0.006913     0.753802   \n",
       "2        -0.520776     0.001829     -0.374489     0.008343     0.758105   \n",
       "3        -0.525643     0.068859     -1.060745     0.118141     0.208061   \n",
       "4        -0.582035     0.080238     -0.838003     0.141272     0.668990   \n",
       "...            ...          ...           ...          ...          ...   \n",
       "5201     -0.486151     0.133640     -0.936318     0.327504     0.466121   \n",
       "5202     -0.585152     0.388858     -1.056668     0.192560     0.632027   \n",
       "5203     -0.487761     0.126319     -0.601655     0.147467     0.550705   \n",
       "5204     -0.702226     0.035695     -0.821118     0.044524     0.670483   \n",
       "5205     -0.732974     0.228337     -1.307004     0.164311     0.598037   \n",
       "\n",
       "      left_x_std  left_y_mean  left_y_std Annotation ID Gloss: Dutch  \n",
       "0       0.018279    -2.070153    0.021901                        0-A  \n",
       "1       0.001764    -2.276610    0.008169                        0-B  \n",
       "2       0.004172    -2.297448    0.010340                        0-C  \n",
       "3       0.024931    -1.781302    0.008820                    1.ORD-A  \n",
       "4       0.097684    -0.842849    0.095218                       10-A  \n",
       "...          ...          ...         ...                        ...  \n",
       "5201    0.103331    -0.943026    0.303632                     KERK-B  \n",
       "5202    0.345682    -1.257786    0.170849                UIT-DE-KAST  \n",
       "5203    0.115608    -0.524067    0.127954                  VOUWWAGEN  \n",
       "5204    0.047125    -0.800038    0.052414                 BACKPACKEN  \n",
       "5205    0.064624    -1.292610    0.162403                  WEGZAKKEN  \n",
       "\n",
       "[5206 rows x 9 columns]"
      ]
     },
     "execution_count": 117,
     "metadata": {},
     "output_type": "execute_result"
    }
   ],
   "source": [
    "stats"
   ]
  },
  {
   "cell_type": "code",
   "execution_count": null,
   "metadata": {},
   "outputs": [
    {
     "data": {
      "text/html": [
       "<div>\n",
       "<style scoped>\n",
       "    .dataframe tbody tr th:only-of-type {\n",
       "        vertical-align: middle;\n",
       "    }\n",
       "\n",
       "    .dataframe tbody tr th {\n",
       "        vertical-align: top;\n",
       "    }\n",
       "\n",
       "    .dataframe thead th {\n",
       "        text-align: right;\n",
       "    }\n",
       "</style>\n",
       "<table border=\"1\" class=\"dataframe\">\n",
       "  <thead>\n",
       "    <tr style=\"text-align: right;\">\n",
       "      <th></th>\n",
       "      <th>Gloss ID</th>\n",
       "      <th>Annotation ID Gloss: Dutch</th>\n",
       "      <th>Annotation ID Gloss: English</th>\n",
       "      <th>Handedness</th>\n",
       "      <th>Strong Hand</th>\n",
       "      <th>Weak Hand</th>\n",
       "      <th>Affiliation</th>\n",
       "      <th>Location</th>\n",
       "      <th>Link</th>\n",
       "    </tr>\n",
       "  </thead>\n",
       "  <tbody>\n",
       "    <tr>\n",
       "      <th>22</th>\n",
       "      <td>3835</td>\n",
       "      <td>#VINGERSPELLING</td>\n",
       "      <td>#FINGERSPELLING</td>\n",
       "      <td>1</td>\n",
       "      <td>Variable</td>\n",
       "      <td>-1</td>\n",
       "      <td>[Radboud]</td>\n",
       "      <td>Neutral space</td>\n",
       "      <td>https://signbank.cls.ru.nl//dictionary/gloss/3835</td>\n",
       "    </tr>\n",
       "    <tr>\n",
       "      <th>28</th>\n",
       "      <td>2892</td>\n",
       "      <td>0-A</td>\n",
       "      <td>0-A</td>\n",
       "      <td>1</td>\n",
       "      <td>O</td>\n",
       "      <td>-1</td>\n",
       "      <td>[Radboud]</td>\n",
       "      <td>Neutral space</td>\n",
       "      <td>https://signbank.cls.ru.nl//dictionary/gloss/2892</td>\n",
       "    </tr>\n",
       "    <tr>\n",
       "      <th>29</th>\n",
       "      <td>2893</td>\n",
       "      <td>0-B</td>\n",
       "      <td>0-B</td>\n",
       "      <td>1</td>\n",
       "      <td>T</td>\n",
       "      <td>-1</td>\n",
       "      <td>[Radboud]</td>\n",
       "      <td>Neutral space</td>\n",
       "      <td>https://signbank.cls.ru.nl//dictionary/gloss/2893</td>\n",
       "    </tr>\n",
       "    <tr>\n",
       "      <th>30</th>\n",
       "      <td>2894</td>\n",
       "      <td>0-C</td>\n",
       "      <td>0-C</td>\n",
       "      <td>1</td>\n",
       "      <td>Baby_O</td>\n",
       "      <td>-1</td>\n",
       "      <td>[Radboud]</td>\n",
       "      <td>Neutral space</td>\n",
       "      <td>https://signbank.cls.ru.nl//dictionary/gloss/2894</td>\n",
       "    </tr>\n",
       "    <tr>\n",
       "      <th>31</th>\n",
       "      <td>2895</td>\n",
       "      <td>1,5-A</td>\n",
       "      <td>1,5-A</td>\n",
       "      <td>1</td>\n",
       "      <td>1</td>\n",
       "      <td>-1</td>\n",
       "      <td>[Radboud]</td>\n",
       "      <td>Neutral space</td>\n",
       "      <td>https://signbank.cls.ru.nl//dictionary/gloss/2895</td>\n",
       "    </tr>\n",
       "    <tr>\n",
       "      <th>...</th>\n",
       "      <td>...</td>\n",
       "      <td>...</td>\n",
       "      <td>...</td>\n",
       "      <td>...</td>\n",
       "      <td>...</td>\n",
       "      <td>...</td>\n",
       "      <td>...</td>\n",
       "      <td>...</td>\n",
       "      <td>...</td>\n",
       "    </tr>\n",
       "    <tr>\n",
       "      <th>6882</th>\n",
       "      <td>49272</td>\n",
       "      <td>ZAAMZORG</td>\n",
       "      <td>ZAAMZORG</td>\n",
       "      <td>2s</td>\n",
       "      <td>B</td>\n",
       "      <td>B</td>\n",
       "      <td>[UvA]</td>\n",
       "      <td>Neutral space</td>\n",
       "      <td>https://signbank.cls.ru.nl//dictionary/gloss/4...</td>\n",
       "    </tr>\n",
       "    <tr>\n",
       "      <th>6886</th>\n",
       "      <td>49305</td>\n",
       "      <td>VOUWWAGEN</td>\n",
       "      <td>FOLDING-CAMPER</td>\n",
       "      <td>2s</td>\n",
       "      <td>B</td>\n",
       "      <td>B</td>\n",
       "      <td>[UvA]</td>\n",
       "      <td>Neutral space</td>\n",
       "      <td>https://signbank.cls.ru.nl//dictionary/gloss/4...</td>\n",
       "    </tr>\n",
       "    <tr>\n",
       "      <th>6887</th>\n",
       "      <td>49306</td>\n",
       "      <td>BACKPACKEN</td>\n",
       "      <td>BACKPACKING</td>\n",
       "      <td>2s</td>\n",
       "      <td>C</td>\n",
       "      <td>C</td>\n",
       "      <td>[UvA]</td>\n",
       "      <td>Chest</td>\n",
       "      <td>https://signbank.cls.ru.nl//dictionary/gloss/4...</td>\n",
       "    </tr>\n",
       "    <tr>\n",
       "      <th>6889</th>\n",
       "      <td>49308</td>\n",
       "      <td>VERWARD-C</td>\n",
       "      <td>CONFUSED-C</td>\n",
       "      <td>2s</td>\n",
       "      <td>1</td>\n",
       "      <td>1</td>\n",
       "      <td>[UvA]</td>\n",
       "      <td>Trunk</td>\n",
       "      <td>https://signbank.cls.ru.nl//dictionary/gloss/4...</td>\n",
       "    </tr>\n",
       "    <tr>\n",
       "      <th>6891</th>\n",
       "      <td>49310</td>\n",
       "      <td>WEGZAKKEN</td>\n",
       "      <td>SUBSIDE</td>\n",
       "      <td>2s</td>\n",
       "      <td>Beak_open_spread</td>\n",
       "      <td>Beak_open_spread</td>\n",
       "      <td>[UvA]</td>\n",
       "      <td>Chest</td>\n",
       "      <td>https://signbank.cls.ru.nl//dictionary/gloss/4...</td>\n",
       "    </tr>\n",
       "  </tbody>\n",
       "</table>\n",
       "<p>5604 rows × 9 columns</p>\n",
       "</div>"
      ],
      "text/plain": [
       "     Gloss ID Annotation ID Gloss: Dutch Annotation ID Gloss: English  \\\n",
       "22       3835            #VINGERSPELLING              #FINGERSPELLING   \n",
       "28       2892                        0-A                          0-A   \n",
       "29       2893                        0-B                          0-B   \n",
       "30       2894                        0-C                          0-C   \n",
       "31       2895                      1,5-A                        1,5-A   \n",
       "...       ...                        ...                          ...   \n",
       "6882    49272                   ZAAMZORG                     ZAAMZORG   \n",
       "6886    49305                  VOUWWAGEN               FOLDING-CAMPER   \n",
       "6887    49306                 BACKPACKEN                  BACKPACKING   \n",
       "6889    49308                  VERWARD-C                   CONFUSED-C   \n",
       "6891    49310                  WEGZAKKEN                      SUBSIDE   \n",
       "\n",
       "     Handedness       Strong Hand         Weak Hand Affiliation  \\\n",
       "22            1          Variable                -1   [Radboud]   \n",
       "28            1                 O                -1   [Radboud]   \n",
       "29            1                 T                -1   [Radboud]   \n",
       "30            1            Baby_O                -1   [Radboud]   \n",
       "31            1                 1                -1   [Radboud]   \n",
       "...         ...               ...               ...         ...   \n",
       "6882         2s                 B                 B       [UvA]   \n",
       "6886         2s                 B                 B       [UvA]   \n",
       "6887         2s                 C                 C       [UvA]   \n",
       "6889         2s                 1                 1       [UvA]   \n",
       "6891         2s  Beak_open_spread  Beak_open_spread       [UvA]   \n",
       "\n",
       "           Location                                               Link  \n",
       "22    Neutral space  https://signbank.cls.ru.nl//dictionary/gloss/3835  \n",
       "28    Neutral space  https://signbank.cls.ru.nl//dictionary/gloss/2892  \n",
       "29    Neutral space  https://signbank.cls.ru.nl//dictionary/gloss/2893  \n",
       "30    Neutral space  https://signbank.cls.ru.nl//dictionary/gloss/2894  \n",
       "31    Neutral space  https://signbank.cls.ru.nl//dictionary/gloss/2895  \n",
       "...             ...                                                ...  \n",
       "6882  Neutral space  https://signbank.cls.ru.nl//dictionary/gloss/4...  \n",
       "6886  Neutral space  https://signbank.cls.ru.nl//dictionary/gloss/4...  \n",
       "6887          Chest  https://signbank.cls.ru.nl//dictionary/gloss/4...  \n",
       "6889          Trunk  https://signbank.cls.ru.nl//dictionary/gloss/4...  \n",
       "6891          Chest  https://signbank.cls.ru.nl//dictionary/gloss/4...  \n",
       "\n",
       "[5604 rows x 9 columns]"
      ]
     },
     "execution_count": 118,
     "metadata": {},
     "output_type": "execute_result"
    }
   ],
   "source": [
    "df"
   ]
  },
  {
   "cell_type": "code",
   "execution_count": 124,
   "metadata": {},
   "outputs": [
    {
     "data": {
      "text/html": [
       "<div>\n",
       "<style scoped>\n",
       "    .dataframe tbody tr th:only-of-type {\n",
       "        vertical-align: middle;\n",
       "    }\n",
       "\n",
       "    .dataframe tbody tr th {\n",
       "        vertical-align: top;\n",
       "    }\n",
       "\n",
       "    .dataframe thead th {\n",
       "        text-align: right;\n",
       "    }\n",
       "</style>\n",
       "<table border=\"1\" class=\"dataframe\">\n",
       "  <thead>\n",
       "    <tr style=\"text-align: right;\">\n",
       "      <th></th>\n",
       "      <th>Gloss ID</th>\n",
       "      <th>Annotation ID Gloss: Dutch</th>\n",
       "      <th>Annotation ID Gloss: English</th>\n",
       "      <th>Handedness</th>\n",
       "      <th>Strong Hand</th>\n",
       "      <th>Weak Hand</th>\n",
       "      <th>Affiliation</th>\n",
       "      <th>Location</th>\n",
       "      <th>Link</th>\n",
       "      <th>right_x_mean</th>\n",
       "      <th>right_x_std</th>\n",
       "      <th>right_y_mean</th>\n",
       "      <th>right_y_std</th>\n",
       "      <th>left_x_mean</th>\n",
       "      <th>left_x_std</th>\n",
       "      <th>left_y_mean</th>\n",
       "      <th>left_y_std</th>\n",
       "    </tr>\n",
       "  </thead>\n",
       "  <tbody>\n",
       "    <tr>\n",
       "      <th>0</th>\n",
       "      <td>2892</td>\n",
       "      <td>0-A</td>\n",
       "      <td>0-A</td>\n",
       "      <td>1</td>\n",
       "      <td>O</td>\n",
       "      <td>-1</td>\n",
       "      <td>[Radboud]</td>\n",
       "      <td>Neutral space</td>\n",
       "      <td>https://signbank.cls.ru.nl//dictionary/gloss/2892</td>\n",
       "      <td>-0.711762</td>\n",
       "      <td>0.039665</td>\n",
       "      <td>-0.466552</td>\n",
       "      <td>0.099207</td>\n",
       "      <td>0.433205</td>\n",
       "      <td>0.018279</td>\n",
       "      <td>-2.070153</td>\n",
       "      <td>0.021901</td>\n",
       "    </tr>\n",
       "    <tr>\n",
       "      <th>1</th>\n",
       "      <td>2893</td>\n",
       "      <td>0-B</td>\n",
       "      <td>0-B</td>\n",
       "      <td>1</td>\n",
       "      <td>T</td>\n",
       "      <td>-1</td>\n",
       "      <td>[Radboud]</td>\n",
       "      <td>Neutral space</td>\n",
       "      <td>https://signbank.cls.ru.nl//dictionary/gloss/2893</td>\n",
       "      <td>-0.514726</td>\n",
       "      <td>0.002983</td>\n",
       "      <td>-0.397776</td>\n",
       "      <td>0.006913</td>\n",
       "      <td>0.753802</td>\n",
       "      <td>0.001764</td>\n",
       "      <td>-2.276610</td>\n",
       "      <td>0.008169</td>\n",
       "    </tr>\n",
       "    <tr>\n",
       "      <th>2</th>\n",
       "      <td>2894</td>\n",
       "      <td>0-C</td>\n",
       "      <td>0-C</td>\n",
       "      <td>1</td>\n",
       "      <td>Baby_O</td>\n",
       "      <td>-1</td>\n",
       "      <td>[Radboud]</td>\n",
       "      <td>Neutral space</td>\n",
       "      <td>https://signbank.cls.ru.nl//dictionary/gloss/2894</td>\n",
       "      <td>-0.520776</td>\n",
       "      <td>0.001829</td>\n",
       "      <td>-0.374489</td>\n",
       "      <td>0.008343</td>\n",
       "      <td>0.758105</td>\n",
       "      <td>0.004172</td>\n",
       "      <td>-2.297448</td>\n",
       "      <td>0.010340</td>\n",
       "    </tr>\n",
       "    <tr>\n",
       "      <th>3</th>\n",
       "      <td>2415</td>\n",
       "      <td>1.ORD-A</td>\n",
       "      <td>1.ORD-A</td>\n",
       "      <td>1</td>\n",
       "      <td>1</td>\n",
       "      <td>-1</td>\n",
       "      <td>[Radboud]</td>\n",
       "      <td>Neutral space</td>\n",
       "      <td>https://signbank.cls.ru.nl//dictionary/gloss/2415</td>\n",
       "      <td>-0.525643</td>\n",
       "      <td>0.068859</td>\n",
       "      <td>-1.060745</td>\n",
       "      <td>0.118141</td>\n",
       "      <td>0.208061</td>\n",
       "      <td>0.024931</td>\n",
       "      <td>-1.781302</td>\n",
       "      <td>0.008820</td>\n",
       "    </tr>\n",
       "    <tr>\n",
       "      <th>6</th>\n",
       "      <td>1934</td>\n",
       "      <td>100-A</td>\n",
       "      <td>100-A</td>\n",
       "      <td>1</td>\n",
       "      <td>Beak_open</td>\n",
       "      <td>-1</td>\n",
       "      <td>[Radboud]</td>\n",
       "      <td>Neutral space</td>\n",
       "      <td>https://signbank.cls.ru.nl//dictionary/gloss/1934</td>\n",
       "      <td>-0.561326</td>\n",
       "      <td>0.357514</td>\n",
       "      <td>-0.834181</td>\n",
       "      <td>0.116221</td>\n",
       "      <td>0.473395</td>\n",
       "      <td>0.020020</td>\n",
       "      <td>-2.056386</td>\n",
       "      <td>0.023739</td>\n",
       "    </tr>\n",
       "    <tr>\n",
       "      <th>...</th>\n",
       "      <td>...</td>\n",
       "      <td>...</td>\n",
       "      <td>...</td>\n",
       "      <td>...</td>\n",
       "      <td>...</td>\n",
       "      <td>...</td>\n",
       "      <td>...</td>\n",
       "      <td>...</td>\n",
       "      <td>...</td>\n",
       "      <td>...</td>\n",
       "      <td>...</td>\n",
       "      <td>...</td>\n",
       "      <td>...</td>\n",
       "      <td>...</td>\n",
       "      <td>...</td>\n",
       "      <td>...</td>\n",
       "      <td>...</td>\n",
       "    </tr>\n",
       "    <tr>\n",
       "      <th>5195</th>\n",
       "      <td>49251</td>\n",
       "      <td>INDIAAN-C</td>\n",
       "      <td>INDIAN-C</td>\n",
       "      <td>1</td>\n",
       "      <td>V</td>\n",
       "      <td>-1</td>\n",
       "      <td>[UvA]</td>\n",
       "      <td>Head</td>\n",
       "      <td>https://signbank.cls.ru.nl//dictionary/gloss/4...</td>\n",
       "      <td>-0.631213</td>\n",
       "      <td>0.150567</td>\n",
       "      <td>-0.408743</td>\n",
       "      <td>0.731066</td>\n",
       "      <td>0.428074</td>\n",
       "      <td>0.030035</td>\n",
       "      <td>-1.975449</td>\n",
       "      <td>0.049350</td>\n",
       "    </tr>\n",
       "    <tr>\n",
       "      <th>5197</th>\n",
       "      <td>49253</td>\n",
       "      <td>JARIG-C</td>\n",
       "      <td>BIRTHDAY-C</td>\n",
       "      <td>1</td>\n",
       "      <td>5</td>\n",
       "      <td>S</td>\n",
       "      <td>[UvA]</td>\n",
       "      <td>Arm</td>\n",
       "      <td>https://signbank.cls.ru.nl//dictionary/gloss/4...</td>\n",
       "      <td>0.184477</td>\n",
       "      <td>0.199172</td>\n",
       "      <td>-1.232277</td>\n",
       "      <td>0.229954</td>\n",
       "      <td>-0.073156</td>\n",
       "      <td>0.237780</td>\n",
       "      <td>-1.696298</td>\n",
       "      <td>0.127752</td>\n",
       "    </tr>\n",
       "    <tr>\n",
       "      <th>5199</th>\n",
       "      <td>49255</td>\n",
       "      <td>KAMMEN-C</td>\n",
       "      <td>COMB-C</td>\n",
       "      <td>1</td>\n",
       "      <td>4</td>\n",
       "      <td>-1</td>\n",
       "      <td>[UvA]</td>\n",
       "      <td>Head</td>\n",
       "      <td>https://signbank.cls.ru.nl//dictionary/gloss/4...</td>\n",
       "      <td>-0.869557</td>\n",
       "      <td>0.078593</td>\n",
       "      <td>-0.142015</td>\n",
       "      <td>0.252949</td>\n",
       "      <td>0.384711</td>\n",
       "      <td>0.032227</td>\n",
       "      <td>-2.015032</td>\n",
       "      <td>0.019292</td>\n",
       "    </tr>\n",
       "    <tr>\n",
       "      <th>5200</th>\n",
       "      <td>49256</td>\n",
       "      <td>KAPITEIN-B</td>\n",
       "      <td>CAPTAIN-B</td>\n",
       "      <td>1</td>\n",
       "      <td>Money</td>\n",
       "      <td>-1</td>\n",
       "      <td>[UvA]</td>\n",
       "      <td>Neck</td>\n",
       "      <td>https://signbank.cls.ru.nl//dictionary/gloss/4...</td>\n",
       "      <td>-0.584846</td>\n",
       "      <td>0.025025</td>\n",
       "      <td>-0.640100</td>\n",
       "      <td>0.141340</td>\n",
       "      <td>0.478721</td>\n",
       "      <td>0.013880</td>\n",
       "      <td>-2.027778</td>\n",
       "      <td>0.034451</td>\n",
       "    </tr>\n",
       "    <tr>\n",
       "      <th>5202</th>\n",
       "      <td>49258</td>\n",
       "      <td>UIT-DE-KAST</td>\n",
       "      <td>COMING-OUT</td>\n",
       "      <td>1</td>\n",
       "      <td>Money</td>\n",
       "      <td>-1</td>\n",
       "      <td>[UvA]</td>\n",
       "      <td>Neck</td>\n",
       "      <td>https://signbank.cls.ru.nl//dictionary/gloss/4...</td>\n",
       "      <td>-0.585152</td>\n",
       "      <td>0.388858</td>\n",
       "      <td>-1.056668</td>\n",
       "      <td>0.192560</td>\n",
       "      <td>0.632027</td>\n",
       "      <td>0.345682</td>\n",
       "      <td>-1.257786</td>\n",
       "      <td>0.170849</td>\n",
       "    </tr>\n",
       "  </tbody>\n",
       "</table>\n",
       "<p>2581 rows × 17 columns</p>\n",
       "</div>"
      ],
      "text/plain": [
       "     Gloss ID Annotation ID Gloss: Dutch Annotation ID Gloss: English  \\\n",
       "0        2892                        0-A                          0-A   \n",
       "1        2893                        0-B                          0-B   \n",
       "2        2894                        0-C                          0-C   \n",
       "3        2415                    1.ORD-A                      1.ORD-A   \n",
       "6        1934                      100-A                        100-A   \n",
       "...       ...                        ...                          ...   \n",
       "5195    49251                  INDIAAN-C                     INDIAN-C   \n",
       "5197    49253                    JARIG-C                   BIRTHDAY-C   \n",
       "5199    49255                   KAMMEN-C                       COMB-C   \n",
       "5200    49256                 KAPITEIN-B                    CAPTAIN-B   \n",
       "5202    49258                UIT-DE-KAST                   COMING-OUT   \n",
       "\n",
       "     Handedness Strong Hand Weak Hand Affiliation       Location  \\\n",
       "0             1           O        -1   [Radboud]  Neutral space   \n",
       "1             1           T        -1   [Radboud]  Neutral space   \n",
       "2             1      Baby_O        -1   [Radboud]  Neutral space   \n",
       "3             1           1        -1   [Radboud]  Neutral space   \n",
       "6             1   Beak_open        -1   [Radboud]  Neutral space   \n",
       "...         ...         ...       ...         ...            ...   \n",
       "5195          1           V        -1       [UvA]           Head   \n",
       "5197          1           5         S       [UvA]            Arm   \n",
       "5199          1           4        -1       [UvA]           Head   \n",
       "5200          1       Money        -1       [UvA]           Neck   \n",
       "5202          1       Money        -1       [UvA]           Neck   \n",
       "\n",
       "                                                   Link  right_x_mean  \\\n",
       "0     https://signbank.cls.ru.nl//dictionary/gloss/2892     -0.711762   \n",
       "1     https://signbank.cls.ru.nl//dictionary/gloss/2893     -0.514726   \n",
       "2     https://signbank.cls.ru.nl//dictionary/gloss/2894     -0.520776   \n",
       "3     https://signbank.cls.ru.nl//dictionary/gloss/2415     -0.525643   \n",
       "6     https://signbank.cls.ru.nl//dictionary/gloss/1934     -0.561326   \n",
       "...                                                 ...           ...   \n",
       "5195  https://signbank.cls.ru.nl//dictionary/gloss/4...     -0.631213   \n",
       "5197  https://signbank.cls.ru.nl//dictionary/gloss/4...      0.184477   \n",
       "5199  https://signbank.cls.ru.nl//dictionary/gloss/4...     -0.869557   \n",
       "5200  https://signbank.cls.ru.nl//dictionary/gloss/4...     -0.584846   \n",
       "5202  https://signbank.cls.ru.nl//dictionary/gloss/4...     -0.585152   \n",
       "\n",
       "      right_x_std  right_y_mean  right_y_std  left_x_mean  left_x_std  \\\n",
       "0        0.039665     -0.466552     0.099207     0.433205    0.018279   \n",
       "1        0.002983     -0.397776     0.006913     0.753802    0.001764   \n",
       "2        0.001829     -0.374489     0.008343     0.758105    0.004172   \n",
       "3        0.068859     -1.060745     0.118141     0.208061    0.024931   \n",
       "6        0.357514     -0.834181     0.116221     0.473395    0.020020   \n",
       "...           ...           ...          ...          ...         ...   \n",
       "5195     0.150567     -0.408743     0.731066     0.428074    0.030035   \n",
       "5197     0.199172     -1.232277     0.229954    -0.073156    0.237780   \n",
       "5199     0.078593     -0.142015     0.252949     0.384711    0.032227   \n",
       "5200     0.025025     -0.640100     0.141340     0.478721    0.013880   \n",
       "5202     0.388858     -1.056668     0.192560     0.632027    0.345682   \n",
       "\n",
       "      left_y_mean  left_y_std  \n",
       "0       -2.070153    0.021901  \n",
       "1       -2.276610    0.008169  \n",
       "2       -2.297448    0.010340  \n",
       "3       -1.781302    0.008820  \n",
       "6       -2.056386    0.023739  \n",
       "...           ...         ...  \n",
       "5195    -1.975449    0.049350  \n",
       "5197    -1.696298    0.127752  \n",
       "5199    -2.015032    0.019292  \n",
       "5200    -2.027778    0.034451  \n",
       "5202    -1.257786    0.170849  \n",
       "\n",
       "[2581 rows x 17 columns]"
      ]
     },
     "execution_count": 124,
     "metadata": {},
     "output_type": "execute_result"
    }
   ],
   "source": [
    "import pandas as pd\n",
    "merged_df = pd.merge(df, stats, on='Annotation ID Gloss: Dutch', how='inner')\n",
    "#labels = ['Arm', 'Belly', 'Nose']\n",
    "#merged_df = merged_df[merged_df['Location'].isin(labels)]\n",
    "merged_df = merged_df[merged_df['Handedness'] == '1']\n",
    "merged_df"
   ]
  },
  {
   "cell_type": "code",
   "execution_count": 126,
   "metadata": {},
   "outputs": [
    {
     "data": {
      "image/png": "[encoded data removed]",
      "text/plain": [
       "<Figure size 1600x1000 with 1 Axes>"
      ]
     },
     "metadata": {},
     "output_type": "display_data"
    }
   ],
   "source": [
    "import matplotlib.pyplot as plt\n",
    "import seaborn as sns\n",
    "import pandas as pd\n",
    "\n",
    "# Assuming merged_df is your merged DataFrame\n",
    "# Ensure 'location' is treated as a categorical variable\n",
    "merged_df['location'] = merged_df['Location'].astype('category')\n",
    "\n",
    "# Optional: Drop rows with missing values in the relevant columns\n",
    "merged_df = merged_df.dropna(subset=['right_x_mean', 'right_y_mean', 'location'])\n",
    "\n",
    "# Set the aesthetic style of the plots\n",
    "sns.set(style=\"whitegrid\")\n",
    "\n",
    "# Initialize the matplotlib figure with increased size for better legend placement\n",
    "plt.figure(figsize=(16, 10))  # Increased width and height\n",
    "\n",
    "# Create a scatter plot with Seaborn\n",
    "scatter_plot = sns.scatterplot(\n",
    "    data=merged_df,\n",
    "    x='right_x_mean', \n",
    "    y='right_y_mean', \n",
    "    hue='location', \n",
    "    palette='hsv',  # 'hsv' is suitable for a large number of categories\n",
    "    s=100,          # Size of the markers\n",
    "    alpha=0.7       # Transparency of the markers\n",
    ")\n",
    "\n",
    "# Add title and labels\n",
    "plt.title('Right Wrist Location Scatter Plot', fontsize=16)\n",
    "plt.xlabel('Right Wrist X Location', fontsize=14)\n",
    "plt.ylabel('Right Wrist Y Location', fontsize=14)\n",
    "\n",
    "# Modify the legend to have multiple columns and place it below the plot\n",
    "plt.legend(\n",
    "    title='Location',\n",
    "    title_fontsize='13',\n",
    "    fontsize='9',\n",
    "    loc='upper center',\n",
    "    bbox_to_anchor=(0.5, -0.25),\n",
    "    ncol=6,\n",
    "    frameon=False\n",
    ")\n",
    "'''\n",
    "for idx, row in merged_df.iterrows():\n",
    "    plt.annotate(\n",
    "        row['Annotation ID Gloss: Dutch'],  # The annotation text\n",
    "        (row['right_x_mean'], row['right_y_mean']),  # The point to annotate\n",
    "        textcoords=\"offset points\",  # How to position the text\n",
    "        xytext=(5,5),  # Offset position (x, y) in points\n",
    "        ha='left',  # Horizontal alignment\n",
    "        fontsize=8,  # Font size of the annotation\n",
    "        alpha=0.75  # Transparency of the annotation text\n",
    "    )\n",
    "'''\n",
    "\n",
    "# Adjust the layout to make room for the legend\n",
    "plt.subplots_adjust(bottom=0.3)  # Adjust the bottom margin as needed\n",
    "\n",
    "# Alternatively, use tight_layout with rect to leave space for the legend\n",
    "# plt.tight_layout(rect=[0, 0.05, 1, 1])\n",
    "\n",
    "# Show the plot\n",
    "plt.show()\n"
   ]
  },
  {
   "cell_type": "code",
   "execution_count": 95,
   "metadata": {},
   "outputs": [
    {
     "data": {
      "text/plain": [
       "51"
      ]
     },
     "execution_count": 95,
     "metadata": {},
     "output_type": "execute_result"
    }
   ],
   "source": [
    "len(merged_df['Location'].unique())"
   ]
  },
  {
   "cell_type": "code",
   "execution_count": 102,
   "metadata": {},
   "outputs": [],
   "source": [
    "labels = ['Arm', 'Belly', 'Nose']\n",
    "merged_df = merged_df[merged_df['Location'].isin(labels)]"
   ]
  },
  {
   "cell_type": "code",
   "execution_count": null,
   "metadata": {},
   "outputs": [],
   "source": []
  }
 ],
 "metadata": {
  "kernelspec": {
   "display_name": "openhands",
   "language": "python",
   "name": "python3"
  },
  "language_info": {
   "codemirror_mode": {
    "name": "ipython",
    "version": 3
   },
   "file_extension": ".py",
   "mimetype": "text/x-python",
   "name": "python",
   "nbconvert_exporter": "python",
   "pygments_lexer": "ipython3",
   "version": "3.11.5"
  }
 },
 "nbformat": 4,
 "nbformat_minor": 2
}
